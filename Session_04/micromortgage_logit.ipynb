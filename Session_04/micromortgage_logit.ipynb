{
  "cells": [
    {
      "cell_type": "markdown",
      "metadata": {
        "id": "yADHemV06xOK"
      },
      "source": [
        "# Data Science for Business - Micro Mortgages"
      ]
    },
    {
      "cell_type": "markdown",
      "metadata": {
        "id": "UIAQqvhz6xON"
      },
      "source": [
        "## Initialize notebook\n",
        "Load required packages. Set up workspace, e.g., set theme for plotting and initialize the random number generator."
      ]
    },
    {
      "cell_type": "code",
      "execution_count": 1,
      "metadata": {
        "id": "Ne8JNtVJ6xOO"
      },
      "outputs": [],
      "source": [
        "import warnings\n",
        "warnings.simplefilter('ignore')\n",
        "\n",
        "import numpy as np\n",
        "import pandas as pd\n",
        "from matplotlib import pyplot as plt\n",
        "import seaborn as sns\n",
        "\n",
        "from sklearn.model_selection import train_test_split\n",
        "from sklearn.metrics import roc_curve, roc_auc_score, auc, RocCurveDisplay\n",
        "from sklearn.metrics import classification_report, ConfusionMatrixDisplay, confusion_matrix\n",
        "\n",
        "import statsmodels.api as sm\n",
        "import statsmodels.formula.api as smf\n"
      ]
    },
    {
      "cell_type": "code",
      "execution_count": 2,
      "metadata": {
        "id": "uHlo8WiQ6xOO"
      },
      "outputs": [],
      "source": [
        "np.random.seed(42)\n",
        "plt.style.use('fivethirtyeight')"
      ]
    },
    {
      "cell_type": "markdown",
      "metadata": {
        "id": "pbu6TSai6xOP"
      },
      "source": [
        "## Case description\n",
        "\n",
        "In India, there are about 20 million home loan (mortgage) aspirants\n",
        "working in the informal sector:\n",
        "\n",
        "- Monthly income between INR 20,000-25,000 (\\$ 325-400)\n",
        "- Typically no formal accounts and documents (e.g., tax returns, income proofs, bank statements)\n",
        "- Often use services of money lenders with interest rates between 30 and 60% per annum\n",
        "\n",
        "Providing mortgages to this group of customers requires to quickly and\n",
        "efficiently assess their creditworthiness. Due to a lack of formal\n",
        "documents and objective data, most financial institutions perform\n",
        "interview-based processes to decide about these loan requests:\n",
        "\n",
        "Strength of the current process:\n",
        "\n",
        "-   Interview-based field assessment\n",
        "\n",
        "-   Relaxation of document requirements\n",
        "\n",
        "Weaknesses of the current process:\n",
        "\n",
        "-   Costly (total transaction costs as high as 30% of loan volume)\n",
        "\n",
        "-   Subjective judgments; depends on individual skills and motivations\n",
        "\n",
        "-   Low reliability across branches and credit officers\n",
        "\n",
        "-   Risk of corruption and fraud"
      ]
    },
    {
      "cell_type": "markdown",
      "metadata": {
        "id": "uJRh1ueS6xOR"
      },
      "source": [
        "## Load data\n",
        "\n",
        "Load training data from CSV file."
      ]
    },
    {
      "cell_type": "code",
      "execution_count": 3,
      "metadata": {
        "id": "Xl2Hefbu6xOR"
      },
      "outputs": [],
      "source": [
        "data = pd.read_csv('https://raw.githubusercontent.com/olivermueller/vhbprodok_datascience/main/micro_mortgages/data/micromortgage.csv')"
      ]
    },
    {
      "cell_type": "code",
      "execution_count": 18,
      "metadata": {
        "id": "zAPzFD596xOS",
        "outputId": "b078ad5d-ebb6-4dcc-cdd7-4a2e57e45edc",
        "colab": {
          "base_uri": "https://localhost:8080/",
          "height": 255
        }
      },
      "outputs": [
        {
          "output_type": "execute_result",
          "data": {
            "text/plain": [
              "   Decision     Build_Selfcon Tier Accommodation_Class  Loan_Type  Gender  \\\n",
              "0         1  Self Contruction   T2          Non_Rented  Home_Loan  Female   \n",
              "1         0  Self Contruction   T1          Non_Rented  Home_Loan  Female   \n",
              "2         1  Self Contruction   T3              Rented  Home_Loan  Female   \n",
              "3         1  Self Contruction   T3          Non_Rented  Home_Loan  Female   \n",
              "4         0  Self Contruction   T2          Non_Rented  Home_Loan  Female   \n",
              "\n",
              "  Employment_Type Doc_Proof_Inc Marital_Status Employer_Type  ...  LoanReq  \\\n",
              "0        Salaried             N        Married     Corporate  ...   780000   \n",
              "1   Self_Employed             N        Married      Business  ...   800000   \n",
              "2        Salaried             N        Married     Corporate  ...   480000   \n",
              "3   Self_Employed             N        Married      Business  ...   300000   \n",
              "4   Self_Employed             N        Married      Business  ...  1000000   \n",
              "\n",
              "  Term  Dwnpay  BankSave       CalcEmi        IIR        IAR       FOIR  \\\n",
              "0  180  670000         0  12004.230470  34.999797  45.000114  34.999797   \n",
              "1  180  470000         0  12312.030270  49.248121  75.533928  49.248121   \n",
              "2  120  120000    300000   8342.290039  41.999144  79.998946  41.999144   \n",
              "3  180   95000         0   4617.009766  30.999126  84.996498  30.999126   \n",
              "4  180  375000         0  15390.040040  45.000117  57.999020  45.000117   \n",
              "\n",
              "         LTV        LVR  \n",
              "0  80.000000  54.000000  \n",
              "1  62.992126  62.992126  \n",
              "2  78.999992  80.000000  \n",
              "3  20.000000  76.000000  \n",
              "4  73.000001  73.000000  \n",
              "\n",
              "[5 rows x 33 columns]"
            ],
            "text/html": [
              "\n",
              "  <div id=\"df-04a2577b-b49c-4aa0-8b77-64b7792f34b9\" class=\"colab-df-container\">\n",
              "    <div>\n",
              "<style scoped>\n",
              "    .dataframe tbody tr th:only-of-type {\n",
              "        vertical-align: middle;\n",
              "    }\n",
              "\n",
              "    .dataframe tbody tr th {\n",
              "        vertical-align: top;\n",
              "    }\n",
              "\n",
              "    .dataframe thead th {\n",
              "        text-align: right;\n",
              "    }\n",
              "</style>\n",
              "<table border=\"1\" class=\"dataframe\">\n",
              "  <thead>\n",
              "    <tr style=\"text-align: right;\">\n",
              "      <th></th>\n",
              "      <th>Decision</th>\n",
              "      <th>Build_Selfcon</th>\n",
              "      <th>Tier</th>\n",
              "      <th>Accommodation_Class</th>\n",
              "      <th>Loan_Type</th>\n",
              "      <th>Gender</th>\n",
              "      <th>Employment_Type</th>\n",
              "      <th>Doc_Proof_Inc</th>\n",
              "      <th>Marital_Status</th>\n",
              "      <th>Employer_Type</th>\n",
              "      <th>...</th>\n",
              "      <th>LoanReq</th>\n",
              "      <th>Term</th>\n",
              "      <th>Dwnpay</th>\n",
              "      <th>BankSave</th>\n",
              "      <th>CalcEmi</th>\n",
              "      <th>IIR</th>\n",
              "      <th>IAR</th>\n",
              "      <th>FOIR</th>\n",
              "      <th>LTV</th>\n",
              "      <th>LVR</th>\n",
              "    </tr>\n",
              "  </thead>\n",
              "  <tbody>\n",
              "    <tr>\n",
              "      <th>0</th>\n",
              "      <td>1</td>\n",
              "      <td>Self Contruction</td>\n",
              "      <td>T2</td>\n",
              "      <td>Non_Rented</td>\n",
              "      <td>Home_Loan</td>\n",
              "      <td>Female</td>\n",
              "      <td>Salaried</td>\n",
              "      <td>N</td>\n",
              "      <td>Married</td>\n",
              "      <td>Corporate</td>\n",
              "      <td>...</td>\n",
              "      <td>780000</td>\n",
              "      <td>180</td>\n",
              "      <td>670000</td>\n",
              "      <td>0</td>\n",
              "      <td>12004.230470</td>\n",
              "      <td>34.999797</td>\n",
              "      <td>45.000114</td>\n",
              "      <td>34.999797</td>\n",
              "      <td>80.000000</td>\n",
              "      <td>54.000000</td>\n",
              "    </tr>\n",
              "    <tr>\n",
              "      <th>1</th>\n",
              "      <td>0</td>\n",
              "      <td>Self Contruction</td>\n",
              "      <td>T1</td>\n",
              "      <td>Non_Rented</td>\n",
              "      <td>Home_Loan</td>\n",
              "      <td>Female</td>\n",
              "      <td>Self_Employed</td>\n",
              "      <td>N</td>\n",
              "      <td>Married</td>\n",
              "      <td>Business</td>\n",
              "      <td>...</td>\n",
              "      <td>800000</td>\n",
              "      <td>180</td>\n",
              "      <td>470000</td>\n",
              "      <td>0</td>\n",
              "      <td>12312.030270</td>\n",
              "      <td>49.248121</td>\n",
              "      <td>75.533928</td>\n",
              "      <td>49.248121</td>\n",
              "      <td>62.992126</td>\n",
              "      <td>62.992126</td>\n",
              "    </tr>\n",
              "    <tr>\n",
              "      <th>2</th>\n",
              "      <td>1</td>\n",
              "      <td>Self Contruction</td>\n",
              "      <td>T3</td>\n",
              "      <td>Rented</td>\n",
              "      <td>Home_Loan</td>\n",
              "      <td>Female</td>\n",
              "      <td>Salaried</td>\n",
              "      <td>N</td>\n",
              "      <td>Married</td>\n",
              "      <td>Corporate</td>\n",
              "      <td>...</td>\n",
              "      <td>480000</td>\n",
              "      <td>120</td>\n",
              "      <td>120000</td>\n",
              "      <td>300000</td>\n",
              "      <td>8342.290039</td>\n",
              "      <td>41.999144</td>\n",
              "      <td>79.998946</td>\n",
              "      <td>41.999144</td>\n",
              "      <td>78.999992</td>\n",
              "      <td>80.000000</td>\n",
              "    </tr>\n",
              "    <tr>\n",
              "      <th>3</th>\n",
              "      <td>1</td>\n",
              "      <td>Self Contruction</td>\n",
              "      <td>T3</td>\n",
              "      <td>Non_Rented</td>\n",
              "      <td>Home_Loan</td>\n",
              "      <td>Female</td>\n",
              "      <td>Self_Employed</td>\n",
              "      <td>N</td>\n",
              "      <td>Married</td>\n",
              "      <td>Business</td>\n",
              "      <td>...</td>\n",
              "      <td>300000</td>\n",
              "      <td>180</td>\n",
              "      <td>95000</td>\n",
              "      <td>0</td>\n",
              "      <td>4617.009766</td>\n",
              "      <td>30.999126</td>\n",
              "      <td>84.996498</td>\n",
              "      <td>30.999126</td>\n",
              "      <td>20.000000</td>\n",
              "      <td>76.000000</td>\n",
              "    </tr>\n",
              "    <tr>\n",
              "      <th>4</th>\n",
              "      <td>0</td>\n",
              "      <td>Self Contruction</td>\n",
              "      <td>T2</td>\n",
              "      <td>Non_Rented</td>\n",
              "      <td>Home_Loan</td>\n",
              "      <td>Female</td>\n",
              "      <td>Self_Employed</td>\n",
              "      <td>N</td>\n",
              "      <td>Married</td>\n",
              "      <td>Business</td>\n",
              "      <td>...</td>\n",
              "      <td>1000000</td>\n",
              "      <td>180</td>\n",
              "      <td>375000</td>\n",
              "      <td>0</td>\n",
              "      <td>15390.040040</td>\n",
              "      <td>45.000117</td>\n",
              "      <td>57.999020</td>\n",
              "      <td>45.000117</td>\n",
              "      <td>73.000001</td>\n",
              "      <td>73.000000</td>\n",
              "    </tr>\n",
              "  </tbody>\n",
              "</table>\n",
              "<p>5 rows × 33 columns</p>\n",
              "</div>\n",
              "    <div class=\"colab-df-buttons\">\n",
              "\n",
              "  <div class=\"colab-df-container\">\n",
              "    <button class=\"colab-df-convert\" onclick=\"convertToInteractive('df-04a2577b-b49c-4aa0-8b77-64b7792f34b9')\"\n",
              "            title=\"Convert this dataframe to an interactive table.\"\n",
              "            style=\"display:none;\">\n",
              "\n",
              "  <svg xmlns=\"http://www.w3.org/2000/svg\" height=\"24px\" viewBox=\"0 -960 960 960\">\n",
              "    <path d=\"M120-120v-720h720v720H120Zm60-500h600v-160H180v160Zm220 220h160v-160H400v160Zm0 220h160v-160H400v160ZM180-400h160v-160H180v160Zm440 0h160v-160H620v160ZM180-180h160v-160H180v160Zm440 0h160v-160H620v160Z\"/>\n",
              "  </svg>\n",
              "    </button>\n",
              "\n",
              "  <style>\n",
              "    .colab-df-container {\n",
              "      display:flex;\n",
              "      gap: 12px;\n",
              "    }\n",
              "\n",
              "    .colab-df-convert {\n",
              "      background-color: #E8F0FE;\n",
              "      border: none;\n",
              "      border-radius: 50%;\n",
              "      cursor: pointer;\n",
              "      display: none;\n",
              "      fill: #1967D2;\n",
              "      height: 32px;\n",
              "      padding: 0 0 0 0;\n",
              "      width: 32px;\n",
              "    }\n",
              "\n",
              "    .colab-df-convert:hover {\n",
              "      background-color: #E2EBFA;\n",
              "      box-shadow: 0px 1px 2px rgba(60, 64, 67, 0.3), 0px 1px 3px 1px rgba(60, 64, 67, 0.15);\n",
              "      fill: #174EA6;\n",
              "    }\n",
              "\n",
              "    .colab-df-buttons div {\n",
              "      margin-bottom: 4px;\n",
              "    }\n",
              "\n",
              "    [theme=dark] .colab-df-convert {\n",
              "      background-color: #3B4455;\n",
              "      fill: #D2E3FC;\n",
              "    }\n",
              "\n",
              "    [theme=dark] .colab-df-convert:hover {\n",
              "      background-color: #434B5C;\n",
              "      box-shadow: 0px 1px 3px 1px rgba(0, 0, 0, 0.15);\n",
              "      filter: drop-shadow(0px 1px 2px rgba(0, 0, 0, 0.3));\n",
              "      fill: #FFFFFF;\n",
              "    }\n",
              "  </style>\n",
              "\n",
              "    <script>\n",
              "      const buttonEl =\n",
              "        document.querySelector('#df-04a2577b-b49c-4aa0-8b77-64b7792f34b9 button.colab-df-convert');\n",
              "      buttonEl.style.display =\n",
              "        google.colab.kernel.accessAllowed ? 'block' : 'none';\n",
              "\n",
              "      async function convertToInteractive(key) {\n",
              "        const element = document.querySelector('#df-04a2577b-b49c-4aa0-8b77-64b7792f34b9');\n",
              "        const dataTable =\n",
              "          await google.colab.kernel.invokeFunction('convertToInteractive',\n",
              "                                                    [key], {});\n",
              "        if (!dataTable) return;\n",
              "\n",
              "        const docLinkHtml = 'Like what you see? Visit the ' +\n",
              "          '<a target=\"_blank\" href=https://colab.research.google.com/notebooks/data_table.ipynb>data table notebook</a>'\n",
              "          + ' to learn more about interactive tables.';\n",
              "        element.innerHTML = '';\n",
              "        dataTable['output_type'] = 'display_data';\n",
              "        await google.colab.output.renderOutput(dataTable, element);\n",
              "        const docLink = document.createElement('div');\n",
              "        docLink.innerHTML = docLinkHtml;\n",
              "        element.appendChild(docLink);\n",
              "      }\n",
              "    </script>\n",
              "  </div>\n",
              "\n",
              "\n",
              "<div id=\"df-228fde7d-86e8-4eaf-b863-aaa7573a5b30\">\n",
              "  <button class=\"colab-df-quickchart\" onclick=\"quickchart('df-228fde7d-86e8-4eaf-b863-aaa7573a5b30')\"\n",
              "            title=\"Suggest charts\"\n",
              "            style=\"display:none;\">\n",
              "\n",
              "<svg xmlns=\"http://www.w3.org/2000/svg\" height=\"24px\"viewBox=\"0 0 24 24\"\n",
              "     width=\"24px\">\n",
              "    <g>\n",
              "        <path d=\"M19 3H5c-1.1 0-2 .9-2 2v14c0 1.1.9 2 2 2h14c1.1 0 2-.9 2-2V5c0-1.1-.9-2-2-2zM9 17H7v-7h2v7zm4 0h-2V7h2v10zm4 0h-2v-4h2v4z\"/>\n",
              "    </g>\n",
              "</svg>\n",
              "  </button>\n",
              "\n",
              "<style>\n",
              "  .colab-df-quickchart {\n",
              "      --bg-color: #E8F0FE;\n",
              "      --fill-color: #1967D2;\n",
              "      --hover-bg-color: #E2EBFA;\n",
              "      --hover-fill-color: #174EA6;\n",
              "      --disabled-fill-color: #AAA;\n",
              "      --disabled-bg-color: #DDD;\n",
              "  }\n",
              "\n",
              "  [theme=dark] .colab-df-quickchart {\n",
              "      --bg-color: #3B4455;\n",
              "      --fill-color: #D2E3FC;\n",
              "      --hover-bg-color: #434B5C;\n",
              "      --hover-fill-color: #FFFFFF;\n",
              "      --disabled-bg-color: #3B4455;\n",
              "      --disabled-fill-color: #666;\n",
              "  }\n",
              "\n",
              "  .colab-df-quickchart {\n",
              "    background-color: var(--bg-color);\n",
              "    border: none;\n",
              "    border-radius: 50%;\n",
              "    cursor: pointer;\n",
              "    display: none;\n",
              "    fill: var(--fill-color);\n",
              "    height: 32px;\n",
              "    padding: 0;\n",
              "    width: 32px;\n",
              "  }\n",
              "\n",
              "  .colab-df-quickchart:hover {\n",
              "    background-color: var(--hover-bg-color);\n",
              "    box-shadow: 0 1px 2px rgba(60, 64, 67, 0.3), 0 1px 3px 1px rgba(60, 64, 67, 0.15);\n",
              "    fill: var(--button-hover-fill-color);\n",
              "  }\n",
              "\n",
              "  .colab-df-quickchart-complete:disabled,\n",
              "  .colab-df-quickchart-complete:disabled:hover {\n",
              "    background-color: var(--disabled-bg-color);\n",
              "    fill: var(--disabled-fill-color);\n",
              "    box-shadow: none;\n",
              "  }\n",
              "\n",
              "  .colab-df-spinner {\n",
              "    border: 2px solid var(--fill-color);\n",
              "    border-color: transparent;\n",
              "    border-bottom-color: var(--fill-color);\n",
              "    animation:\n",
              "      spin 1s steps(1) infinite;\n",
              "  }\n",
              "\n",
              "  @keyframes spin {\n",
              "    0% {\n",
              "      border-color: transparent;\n",
              "      border-bottom-color: var(--fill-color);\n",
              "      border-left-color: var(--fill-color);\n",
              "    }\n",
              "    20% {\n",
              "      border-color: transparent;\n",
              "      border-left-color: var(--fill-color);\n",
              "      border-top-color: var(--fill-color);\n",
              "    }\n",
              "    30% {\n",
              "      border-color: transparent;\n",
              "      border-left-color: var(--fill-color);\n",
              "      border-top-color: var(--fill-color);\n",
              "      border-right-color: var(--fill-color);\n",
              "    }\n",
              "    40% {\n",
              "      border-color: transparent;\n",
              "      border-right-color: var(--fill-color);\n",
              "      border-top-color: var(--fill-color);\n",
              "    }\n",
              "    60% {\n",
              "      border-color: transparent;\n",
              "      border-right-color: var(--fill-color);\n",
              "    }\n",
              "    80% {\n",
              "      border-color: transparent;\n",
              "      border-right-color: var(--fill-color);\n",
              "      border-bottom-color: var(--fill-color);\n",
              "    }\n",
              "    90% {\n",
              "      border-color: transparent;\n",
              "      border-bottom-color: var(--fill-color);\n",
              "    }\n",
              "  }\n",
              "</style>\n",
              "\n",
              "  <script>\n",
              "    async function quickchart(key) {\n",
              "      const quickchartButtonEl =\n",
              "        document.querySelector('#' + key + ' button');\n",
              "      quickchartButtonEl.disabled = true;  // To prevent multiple clicks.\n",
              "      quickchartButtonEl.classList.add('colab-df-spinner');\n",
              "      try {\n",
              "        const charts = await google.colab.kernel.invokeFunction(\n",
              "            'suggestCharts', [key], {});\n",
              "      } catch (error) {\n",
              "        console.error('Error during call to suggestCharts:', error);\n",
              "      }\n",
              "      quickchartButtonEl.classList.remove('colab-df-spinner');\n",
              "      quickchartButtonEl.classList.add('colab-df-quickchart-complete');\n",
              "    }\n",
              "    (() => {\n",
              "      let quickchartButtonEl =\n",
              "        document.querySelector('#df-228fde7d-86e8-4eaf-b863-aaa7573a5b30 button');\n",
              "      quickchartButtonEl.style.display =\n",
              "        google.colab.kernel.accessAllowed ? 'block' : 'none';\n",
              "    })();\n",
              "  </script>\n",
              "</div>\n",
              "\n",
              "    </div>\n",
              "  </div>\n"
            ],
            "application/vnd.google.colaboratory.intrinsic+json": {
              "type": "dataframe",
              "variable_name": "data"
            }
          },
          "metadata": {},
          "execution_count": 18
        }
      ],
      "source": [
        "data.head()"
      ]
    },
    {
      "cell_type": "markdown",
      "metadata": {
        "id": "ImUbcRQd6xOS"
      },
      "source": [
        "## Prepare data"
      ]
    },
    {
      "cell_type": "markdown",
      "metadata": {
        "id": "LjjEL0xM6xOT"
      },
      "source": [
        "We do some minimal data preparation, that is, drop the `ID` column and turn the `Tier` variable into a string."
      ]
    },
    {
      "cell_type": "code",
      "execution_count": 19,
      "metadata": {
        "id": "8iqi0Jpp6xOT",
        "outputId": "8a0ec3b1-8de1-40eb-d206-836f50faddc7",
        "colab": {
          "base_uri": "https://localhost:8080/",
          "height": 324
        }
      },
      "outputs": [
        {
          "output_type": "error",
          "ename": "KeyError",
          "evalue": "\"['ID'] not found in axis\"",
          "traceback": [
            "\u001b[0;31m---------------------------------------------------------------------------\u001b[0m",
            "\u001b[0;31mKeyError\u001b[0m                                  Traceback (most recent call last)",
            "\u001b[0;32m<ipython-input-19-633fa01bdaf3>\u001b[0m in \u001b[0;36m<cell line: 1>\u001b[0;34m()\u001b[0m\n\u001b[0;32m----> 1\u001b[0;31m \u001b[0mdata\u001b[0m \u001b[0;34m=\u001b[0m \u001b[0mdata\u001b[0m\u001b[0;34m.\u001b[0m\u001b[0mdrop\u001b[0m\u001b[0;34m(\u001b[0m\u001b[0;34m[\u001b[0m\u001b[0;34m'ID'\u001b[0m\u001b[0;34m]\u001b[0m\u001b[0;34m,\u001b[0m \u001b[0maxis\u001b[0m\u001b[0;34m=\u001b[0m\u001b[0;36m1\u001b[0m\u001b[0;34m)\u001b[0m\u001b[0;34m\u001b[0m\u001b[0;34m\u001b[0m\u001b[0m\n\u001b[0m\u001b[1;32m      2\u001b[0m \u001b[0mdata\u001b[0m\u001b[0;34m[\u001b[0m\u001b[0;34m\"Tier\"\u001b[0m\u001b[0;34m]\u001b[0m \u001b[0;34m=\u001b[0m \u001b[0mdata\u001b[0m\u001b[0;34m[\u001b[0m\u001b[0;34m\"Tier\"\u001b[0m\u001b[0;34m]\u001b[0m\u001b[0;34m.\u001b[0m\u001b[0mapply\u001b[0m\u001b[0;34m(\u001b[0m\u001b[0;32mlambda\u001b[0m \u001b[0mx\u001b[0m\u001b[0;34m:\u001b[0m \u001b[0;34m\"T\"\u001b[0m\u001b[0;34m+\u001b[0m\u001b[0mstr\u001b[0m\u001b[0;34m(\u001b[0m\u001b[0mx\u001b[0m\u001b[0;34m)\u001b[0m\u001b[0;34m)\u001b[0m\u001b[0;34m\u001b[0m\u001b[0;34m\u001b[0m\u001b[0m\n",
            "\u001b[0;32m/usr/local/lib/python3.10/dist-packages/pandas/core/frame.py\u001b[0m in \u001b[0;36mdrop\u001b[0;34m(self, labels, axis, index, columns, level, inplace, errors)\u001b[0m\n\u001b[1;32m   5579\u001b[0m                 \u001b[0mweight\u001b[0m  \u001b[0;36m1.0\u001b[0m     \u001b[0;36m0.8\u001b[0m\u001b[0;34m\u001b[0m\u001b[0;34m\u001b[0m\u001b[0m\n\u001b[1;32m   5580\u001b[0m         \"\"\"\n\u001b[0;32m-> 5581\u001b[0;31m         return super().drop(\n\u001b[0m\u001b[1;32m   5582\u001b[0m             \u001b[0mlabels\u001b[0m\u001b[0;34m=\u001b[0m\u001b[0mlabels\u001b[0m\u001b[0;34m,\u001b[0m\u001b[0;34m\u001b[0m\u001b[0;34m\u001b[0m\u001b[0m\n\u001b[1;32m   5583\u001b[0m             \u001b[0maxis\u001b[0m\u001b[0;34m=\u001b[0m\u001b[0maxis\u001b[0m\u001b[0;34m,\u001b[0m\u001b[0;34m\u001b[0m\u001b[0;34m\u001b[0m\u001b[0m\n",
            "\u001b[0;32m/usr/local/lib/python3.10/dist-packages/pandas/core/generic.py\u001b[0m in \u001b[0;36mdrop\u001b[0;34m(self, labels, axis, index, columns, level, inplace, errors)\u001b[0m\n\u001b[1;32m   4786\u001b[0m         \u001b[0;32mfor\u001b[0m \u001b[0maxis\u001b[0m\u001b[0;34m,\u001b[0m \u001b[0mlabels\u001b[0m \u001b[0;32min\u001b[0m \u001b[0maxes\u001b[0m\u001b[0;34m.\u001b[0m\u001b[0mitems\u001b[0m\u001b[0;34m(\u001b[0m\u001b[0;34m)\u001b[0m\u001b[0;34m:\u001b[0m\u001b[0;34m\u001b[0m\u001b[0;34m\u001b[0m\u001b[0m\n\u001b[1;32m   4787\u001b[0m             \u001b[0;32mif\u001b[0m \u001b[0mlabels\u001b[0m \u001b[0;32mis\u001b[0m \u001b[0;32mnot\u001b[0m \u001b[0;32mNone\u001b[0m\u001b[0;34m:\u001b[0m\u001b[0;34m\u001b[0m\u001b[0;34m\u001b[0m\u001b[0m\n\u001b[0;32m-> 4788\u001b[0;31m                 \u001b[0mobj\u001b[0m \u001b[0;34m=\u001b[0m \u001b[0mobj\u001b[0m\u001b[0;34m.\u001b[0m\u001b[0m_drop_axis\u001b[0m\u001b[0;34m(\u001b[0m\u001b[0mlabels\u001b[0m\u001b[0;34m,\u001b[0m \u001b[0maxis\u001b[0m\u001b[0;34m,\u001b[0m \u001b[0mlevel\u001b[0m\u001b[0;34m=\u001b[0m\u001b[0mlevel\u001b[0m\u001b[0;34m,\u001b[0m \u001b[0merrors\u001b[0m\u001b[0;34m=\u001b[0m\u001b[0merrors\u001b[0m\u001b[0;34m)\u001b[0m\u001b[0;34m\u001b[0m\u001b[0;34m\u001b[0m\u001b[0m\n\u001b[0m\u001b[1;32m   4789\u001b[0m \u001b[0;34m\u001b[0m\u001b[0m\n\u001b[1;32m   4790\u001b[0m         \u001b[0;32mif\u001b[0m \u001b[0minplace\u001b[0m\u001b[0;34m:\u001b[0m\u001b[0;34m\u001b[0m\u001b[0;34m\u001b[0m\u001b[0m\n",
            "\u001b[0;32m/usr/local/lib/python3.10/dist-packages/pandas/core/generic.py\u001b[0m in \u001b[0;36m_drop_axis\u001b[0;34m(self, labels, axis, level, errors, only_slice)\u001b[0m\n\u001b[1;32m   4828\u001b[0m                 \u001b[0mnew_axis\u001b[0m \u001b[0;34m=\u001b[0m \u001b[0maxis\u001b[0m\u001b[0;34m.\u001b[0m\u001b[0mdrop\u001b[0m\u001b[0;34m(\u001b[0m\u001b[0mlabels\u001b[0m\u001b[0;34m,\u001b[0m \u001b[0mlevel\u001b[0m\u001b[0;34m=\u001b[0m\u001b[0mlevel\u001b[0m\u001b[0;34m,\u001b[0m \u001b[0merrors\u001b[0m\u001b[0;34m=\u001b[0m\u001b[0merrors\u001b[0m\u001b[0;34m)\u001b[0m\u001b[0;34m\u001b[0m\u001b[0;34m\u001b[0m\u001b[0m\n\u001b[1;32m   4829\u001b[0m             \u001b[0;32melse\u001b[0m\u001b[0;34m:\u001b[0m\u001b[0;34m\u001b[0m\u001b[0;34m\u001b[0m\u001b[0m\n\u001b[0;32m-> 4830\u001b[0;31m                 \u001b[0mnew_axis\u001b[0m \u001b[0;34m=\u001b[0m \u001b[0maxis\u001b[0m\u001b[0;34m.\u001b[0m\u001b[0mdrop\u001b[0m\u001b[0;34m(\u001b[0m\u001b[0mlabels\u001b[0m\u001b[0;34m,\u001b[0m \u001b[0merrors\u001b[0m\u001b[0;34m=\u001b[0m\u001b[0merrors\u001b[0m\u001b[0;34m)\u001b[0m\u001b[0;34m\u001b[0m\u001b[0;34m\u001b[0m\u001b[0m\n\u001b[0m\u001b[1;32m   4831\u001b[0m             \u001b[0mindexer\u001b[0m \u001b[0;34m=\u001b[0m \u001b[0maxis\u001b[0m\u001b[0;34m.\u001b[0m\u001b[0mget_indexer\u001b[0m\u001b[0;34m(\u001b[0m\u001b[0mnew_axis\u001b[0m\u001b[0;34m)\u001b[0m\u001b[0;34m\u001b[0m\u001b[0;34m\u001b[0m\u001b[0m\n\u001b[1;32m   4832\u001b[0m \u001b[0;34m\u001b[0m\u001b[0m\n",
            "\u001b[0;32m/usr/local/lib/python3.10/dist-packages/pandas/core/indexes/base.py\u001b[0m in \u001b[0;36mdrop\u001b[0;34m(self, labels, errors)\u001b[0m\n\u001b[1;32m   7068\u001b[0m         \u001b[0;32mif\u001b[0m \u001b[0mmask\u001b[0m\u001b[0;34m.\u001b[0m\u001b[0many\u001b[0m\u001b[0;34m(\u001b[0m\u001b[0;34m)\u001b[0m\u001b[0;34m:\u001b[0m\u001b[0;34m\u001b[0m\u001b[0;34m\u001b[0m\u001b[0m\n\u001b[1;32m   7069\u001b[0m             \u001b[0;32mif\u001b[0m \u001b[0merrors\u001b[0m \u001b[0;34m!=\u001b[0m \u001b[0;34m\"ignore\"\u001b[0m\u001b[0;34m:\u001b[0m\u001b[0;34m\u001b[0m\u001b[0;34m\u001b[0m\u001b[0m\n\u001b[0;32m-> 7070\u001b[0;31m                 \u001b[0;32mraise\u001b[0m \u001b[0mKeyError\u001b[0m\u001b[0;34m(\u001b[0m\u001b[0;34mf\"{labels[mask].tolist()} not found in axis\"\u001b[0m\u001b[0;34m)\u001b[0m\u001b[0;34m\u001b[0m\u001b[0;34m\u001b[0m\u001b[0m\n\u001b[0m\u001b[1;32m   7071\u001b[0m             \u001b[0mindexer\u001b[0m \u001b[0;34m=\u001b[0m \u001b[0mindexer\u001b[0m\u001b[0;34m[\u001b[0m\u001b[0;34m~\u001b[0m\u001b[0mmask\u001b[0m\u001b[0;34m]\u001b[0m\u001b[0;34m\u001b[0m\u001b[0;34m\u001b[0m\u001b[0m\n\u001b[1;32m   7072\u001b[0m         \u001b[0;32mreturn\u001b[0m \u001b[0mself\u001b[0m\u001b[0;34m.\u001b[0m\u001b[0mdelete\u001b[0m\u001b[0;34m(\u001b[0m\u001b[0mindexer\u001b[0m\u001b[0;34m)\u001b[0m\u001b[0;34m\u001b[0m\u001b[0;34m\u001b[0m\u001b[0m\n",
            "\u001b[0;31mKeyError\u001b[0m: \"['ID'] not found in axis\""
          ]
        }
      ],
      "source": [
        "data = data.drop(['ID'], axis=1)\n",
        "data[\"Tier\"] = data[\"Tier\"].apply(lambda x: \"T\"+str(x))"
      ]
    },
    {
      "cell_type": "markdown",
      "metadata": {
        "id": "KIAIVa2_6xOV"
      },
      "source": [
        "Next, we perform a standard 80:20 random train-test split."
      ]
    },
    {
      "cell_type": "code",
      "execution_count": 20,
      "metadata": {
        "id": "nJ4aoWq46xOV"
      },
      "outputs": [],
      "source": [
        "train, test = train_test_split(data, test_size=0.2, random_state=42)"
      ]
    },
    {
      "cell_type": "markdown",
      "metadata": {
        "id": "PCDg9QIM6xOV"
      },
      "source": [
        "## Exploratory data analysis"
      ]
    },
    {
      "cell_type": "markdown",
      "metadata": {
        "id": "hYyV-FQt6xOV"
      },
      "source": [
        "### Descriptive summary statistics"
      ]
    },
    {
      "cell_type": "markdown",
      "metadata": {
        "id": "yicETe_46xOX"
      },
      "source": [
        "Calculate base rate of mortgage approvals."
      ]
    },
    {
      "cell_type": "code",
      "execution_count": 7,
      "metadata": {
        "id": "QQ8U9xth6xOX",
        "outputId": "93ead1f2-3f45-45c7-b15f-160ebc1847a1",
        "colab": {
          "base_uri": "https://localhost:8080/"
        }
      },
      "outputs": [
        {
          "output_type": "execute_result",
          "data": {
            "text/plain": [
              "0.8037848605577689"
            ]
          },
          "metadata": {},
          "execution_count": 7
        }
      ],
      "source": [
        "train[\"Decision\"].mean()"
      ]
    },
    {
      "cell_type": "markdown",
      "metadata": {
        "id": "X7dS58Vn6xOX"
      },
      "source": [
        "### Explore relationships between response and predictors."
      ]
    },
    {
      "cell_type": "code",
      "execution_count": 8,
      "metadata": {
        "id": "p-bkyq8W6xOX",
        "outputId": "3ebd7eee-e86b-4665-821f-267d4dff341d",
        "colab": {
          "base_uri": "https://localhost:8080/",
          "height": 498
        }
      },
      "outputs": [
        {
          "output_type": "display_data",
          "data": {
            "text/plain": [
              "<Figure size 640x480 with 1 Axes>"
            ],
            "image/png": "[encoded data removed]"
          },
          "metadata": {}
        }
      ],
      "source": [
        "sns.boxplot(data=train, x=\"Decision\", y=\"Age\")\n",
        "plt.show()"
      ]
    },
    {
      "cell_type": "code",
      "execution_count": null,
      "metadata": {
        "id": "4mD7GpA76xOX"
      },
      "outputs": [],
      "source": [
        "# YOUR CODE HERE"
      ]
    },
    {
      "cell_type": "code",
      "execution_count": 9,
      "metadata": {
        "id": "BSmt9laT6xOX",
        "outputId": "22ed0a5d-c660-4158-f9d8-9ac401281a20",
        "colab": {
          "base_uri": "https://localhost:8080/",
          "height": 498
        }
      },
      "outputs": [
        {
          "output_type": "display_data",
          "data": {
            "text/plain": [
              "<Figure size 640x480 with 1 Axes>"
            ],
            "image/png": "[encoded data removed]"
          },
          "metadata": {}
        }
      ],
      "source": [
        "sns.barplot(data=train, x=\"Gender\", y=\"Decision\")\n",
        "plt.show()"
      ]
    },
    {
      "cell_type": "code",
      "execution_count": null,
      "metadata": {
        "id": "t2Y6Y5ur6xOZ"
      },
      "outputs": [],
      "source": [
        "# YOUR CODE HERE"
      ]
    },
    {
      "cell_type": "markdown",
      "metadata": {
        "id": "tx_v3j3l6xOZ"
      },
      "source": [
        "## Fit model"
      ]
    },
    {
      "cell_type": "markdown",
      "metadata": {
        "id": "QO64oXDZ6xOZ"
      },
      "source": [
        "Ok, now we are ready to fit our first logistic regression model. Let's take `Age` and `Gender` as predictors."
      ]
    },
    {
      "cell_type": "code",
      "execution_count": 10,
      "metadata": {
        "id": "PKmkcZCR6xOZ",
        "outputId": "4b3ff8e0-cbed-43ab-da27-597e6138e89a",
        "colab": {
          "base_uri": "https://localhost:8080/"
        }
      },
      "outputs": [
        {
          "output_type": "stream",
          "name": "stdout",
          "text": [
            "Optimization terminated successfully.\n",
            "         Current function value: 0.492919\n",
            "         Iterations 6\n"
          ]
        }
      ],
      "source": [
        "model_logit = smf.logit(formula='Decision ~ Age + Gender', data=train)\n",
        "model_logit = model_logit.fit()"
      ]
    },
    {
      "cell_type": "code",
      "execution_count": 11,
      "metadata": {
        "id": "pSs2YpIK6xOa",
        "outputId": "7c619ce5-c77e-4a51-ce47-57e7c1a4e9cb",
        "colab": {
          "base_uri": "https://localhost:8080/"
        }
      },
      "outputs": [
        {
          "output_type": "stream",
          "name": "stdout",
          "text": [
            "                           Logit Regression Results                           \n",
            "==============================================================================\n",
            "Dep. Variable:               Decision   No. Observations:                 1004\n",
            "Model:                          Logit   Df Residuals:                     1001\n",
            "Method:                           MLE   Df Model:                            2\n",
            "Date:                Thu, 14 Nov 2024   Pseudo R-squ.:                0.004426\n",
            "Time:                        09:13:08   Log-Likelihood:                -494.89\n",
            "converged:                       True   LL-Null:                       -497.09\n",
            "Covariance Type:            nonrobust   LLR p-value:                    0.1108\n",
            "==================================================================================\n",
            "                     coef    std err          z      P>|z|      [0.025      0.975]\n",
            "----------------------------------------------------------------------------------\n",
            "Intercept          1.6257      0.364      4.472      0.000       0.913       2.338\n",
            "Gender[T.Male]     0.6528      0.348      1.878      0.060      -0.029       1.334\n",
            "Age               -0.0069      0.009     -0.736      0.462      -0.025       0.011\n",
            "==================================================================================\n"
          ]
        }
      ],
      "source": [
        "print(model_logit.summary())"
      ]
    },
    {
      "cell_type": "markdown",
      "metadata": {
        "id": "9SW2gXd06xOa"
      },
      "source": [
        "## Make predictions"
      ]
    },
    {
      "cell_type": "markdown",
      "metadata": {
        "id": "Pr4ty3LK6xOa"
      },
      "source": [
        "Let's compute predictions, both in the form of probabilities and binary decisions."
      ]
    },
    {
      "cell_type": "code",
      "execution_count": 12,
      "metadata": {
        "id": "07zcegA86xOa"
      },
      "outputs": [],
      "source": [
        "pred_proba = model_logit.predict(test)\n",
        "pred_label = round(pred_proba, 0)"
      ]
    },
    {
      "cell_type": "markdown",
      "metadata": {
        "id": "f0rk8uLo6xOb"
      },
      "source": [
        "## Evaluate accuracy"
      ]
    },
    {
      "cell_type": "markdown",
      "metadata": {
        "id": "U6AdmORQ6xOb"
      },
      "source": [
        "We begin by calculating some standard accuracy metrics like Precision, Recall, F1-Score, and Accuracy."
      ]
    },
    {
      "cell_type": "code",
      "execution_count": 13,
      "metadata": {
        "id": "-tUKcy6b6xOb",
        "outputId": "6201afb2-38e4-4766-a194-521ff29ee7be",
        "colab": {
          "base_uri": "https://localhost:8080/"
        }
      },
      "outputs": [
        {
          "output_type": "stream",
          "name": "stdout",
          "text": [
            "              precision    recall  f1-score   support\n",
            "\n",
            "           0       0.00      0.00      0.00        55\n",
            "           1       0.78      1.00      0.88       197\n",
            "\n",
            "    accuracy                           0.78       252\n",
            "   macro avg       0.39      0.50      0.44       252\n",
            "weighted avg       0.61      0.78      0.69       252\n",
            "\n"
          ]
        }
      ],
      "source": [
        "print(classification_report(test[\"Decision\"], pred_label))"
      ]
    },
    {
      "cell_type": "markdown",
      "metadata": {
        "id": "DqkP1kxo6xOb"
      },
      "source": [
        "The confusion matrix helps us to diagnose what kind of mistakes the model makes."
      ]
    },
    {
      "cell_type": "code",
      "execution_count": 14,
      "metadata": {
        "id": "Fh0Eju6a6xOb",
        "outputId": "50644d65-6c3f-4733-e05c-21a2013fd411",
        "colab": {
          "base_uri": "https://localhost:8080/",
          "height": 498
        }
      },
      "outputs": [
        {
          "output_type": "display_data",
          "data": {
            "text/plain": [
              "<Figure size 640x480 with 2 Axes>"
            ],
            "image/png": "[encoded data removed]"
          },
          "metadata": {}
        }
      ],
      "source": [
        "cm = confusion_matrix(test['Decision'], pred_label)\n",
        "disp = ConfusionMatrixDisplay(confusion_matrix= cm)\n",
        "disp.plot()\n",
        "plt.show()"
      ]
    },
    {
      "cell_type": "markdown",
      "metadata": {
        "id": "r7Zp9Dts6xOb"
      },
      "source": [
        "Finally, we compute the AUC, which is a useful metric to characterize the performance of a classifier in one single metric."
      ]
    },
    {
      "cell_type": "code",
      "execution_count": 30,
      "metadata": {
        "id": "4i0v0SbG6xOb",
        "outputId": "ae29faae-567d-4dab-924f-209a26d94595",
        "colab": {
          "base_uri": "https://localhost:8080/",
          "height": 501
        }
      },
      "outputs": [
        {
          "output_type": "display_data",
          "data": {
            "text/plain": [
              "<Figure size 640x480 with 1 Axes>"
            ],
            "image/png": "[encoded data removed]"
          },
          "metadata": {}
        }
      ],
      "source": [
        "fpr, tpr, thresholds = roc_curve(test[\"Decision\"], pred_proba)\n",
        "auc_score = auc(fpr, tpr)\n",
        "display = RocCurveDisplay(fpr=fpr, tpr=tpr, roc_auc=auc_score)\n",
        "display.plot()\n",
        "plt.show()"
      ]
    },
    {
      "cell_type": "markdown",
      "metadata": {
        "id": "iKeNWsU76xOc"
      },
      "source": [
        "## Your turn!"
      ]
    },
    {
      "cell_type": "code",
      "source": [
        "model_logit = smf.logit(formula='Decision ~ Age + Gender + Employment_Type', data=train)\n",
        "model_logit = model_logit.fit()"
      ],
      "metadata": {
        "id": "iaUOH6XeArNH",
        "outputId": "378a304b-0658-45a4-c040-f13b1808e3c3",
        "colab": {
          "base_uri": "https://localhost:8080/"
        }
      },
      "execution_count": 32,
      "outputs": [
        {
          "output_type": "stream",
          "name": "stdout",
          "text": [
            "Optimization terminated successfully.\n",
            "         Current function value: 0.489581\n",
            "         Iterations 6\n"
          ]
        }
      ]
    },
    {
      "cell_type": "code",
      "source": [
        "print(model_logit.summary())"
      ],
      "metadata": {
        "id": "V3gYVJjsA5nd",
        "outputId": "3a60e22f-c6d4-485d-aba6-693a764c9cff",
        "colab": {
          "base_uri": "https://localhost:8080/"
        }
      },
      "execution_count": 33,
      "outputs": [
        {
          "output_type": "stream",
          "name": "stdout",
          "text": [
            "                           Logit Regression Results                           \n",
            "==============================================================================\n",
            "Dep. Variable:               Decision   No. Observations:                 1004\n",
            "Model:                          Logit   Df Residuals:                     1000\n",
            "Method:                           MLE   Df Model:                            3\n",
            "Date:                Thu, 14 Nov 2024   Pseudo R-squ.:                 0.01117\n",
            "Time:                        09:32:17   Log-Likelihood:                -491.54\n",
            "converged:                       True   LL-Null:                       -497.09\n",
            "Covariance Type:            nonrobust   LLR p-value:                   0.01118\n",
            "====================================================================================================\n",
            "                                       coef    std err          z      P>|z|      [0.025      0.975]\n",
            "----------------------------------------------------------------------------------------------------\n",
            "Intercept                            1.8998      0.384      4.944      0.000       1.147       2.653\n",
            "Gender[T.Male]                       0.5842      0.349      1.673      0.094      -0.100       1.269\n",
            "Employment_Type[T.Self_Employed]    -0.4206      0.164     -2.565      0.010      -0.742      -0.099\n",
            "Age                                 -0.0076      0.009     -0.809      0.419      -0.026       0.011\n",
            "====================================================================================================\n"
          ]
        }
      ]
    },
    {
      "cell_type": "code",
      "source": [
        "fpr, tpr, thresholds = roc_curve(test[\"Decision\"], pred_proba)\n",
        "auc_score = auc(fpr, tpr)\n",
        "display = RocCurveDisplay(fpr=fpr, tpr=tpr, roc_auc=auc_score)\n",
        "display.plot()\n",
        "plt.show()"
      ],
      "metadata": {
        "id": "ioJ46sqKBAn9",
        "outputId": "ab7b31d0-e895-4346-ea4c-a1a7db3c4c94",
        "colab": {
          "base_uri": "https://localhost:8080/",
          "height": 501
        }
      },
      "execution_count": 34,
      "outputs": [
        {
          "output_type": "display_data",
          "data": {
            "text/plain": [
              "<Figure size 640x480 with 1 Axes>"
            ],
            "image/png": "[encoded data removed]"
          },
          "metadata": {}
        }
      ]
    },
    {
      "cell_type": "markdown",
      "metadata": {
        "id": "rcYn9XI86xOd"
      },
      "source": [
        "Improve the above model by including more predictors!"
      ]
    },
    {
      "cell_type": "markdown",
      "metadata": {
        "id": "NEOjVtJ26xOd"
      },
      "source": []
    }
  ],
  "metadata": {
    "kernelspec": {
      "display_name": "prodok",
      "language": "python",
      "name": "python3"
    },
    "language_info": {
      "codemirror_mode": {
        "name": "ipython",
        "version": 3
      },
      "file_extension": ".py",
      "mimetype": "text/x-python",
      "name": "python",
      "nbconvert_exporter": "python",
      "pygments_lexer": "ipython3",
      "version": "3.12.1"
    },
    "colab": {
      "provenance": []
    }
  },
  "nbformat": 4,
  "nbformat_minor": 0
}