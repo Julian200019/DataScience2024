{
  "cells": [
    {
      "cell_type": "markdown",
      "metadata": {
        "id": "ZX2lsDXk1Ul-"
      },
      "source": [
        "# Data Science for Business - Explaining House Prices"
      ]
    },
    {
      "cell_type": "markdown",
      "metadata": {
        "id": "fhW0nJgb1UmA"
      },
      "source": [
        "## Initialize notebook\n",
        "Load required packages. Set up workspace, e.g., set theme for plotting and initialize the random number generator."
      ]
    },
    {
      "cell_type": "code",
      "execution_count": 1,
      "metadata": {
        "id": "jXs58Kkg1UmB"
      },
      "outputs": [],
      "source": [
        "import warnings\n",
        "warnings.simplefilter('ignore')\n",
        "\n",
        "import numpy as np\n",
        "import pandas as pd\n",
        "from matplotlib import pyplot as plt\n",
        "import seaborn as sns\n",
        "from sklearn.metrics import root_mean_squared_error\n",
        "from sklearn.model_selection import train_test_split\n",
        "import statsmodels.api as sm\n",
        "import statsmodels.formula.api as smf"
      ]
    },
    {
      "cell_type": "code",
      "execution_count": 2,
      "metadata": {
        "id": "CYqyArof1UmC"
      },
      "outputs": [],
      "source": [
        "np.random.seed(42)\n",
        "plt.style.use('fivethirtyeight')"
      ]
    },
    {
      "cell_type": "markdown",
      "metadata": {
        "id": "7ETHAKU41UmC"
      },
      "source": [
        "## Case description\n",
        "\n",
        "### Real Estate Appraisal\n",
        "\n",
        "Ask a home buyer to describe their dream house, and they probably won't begin with the height of the basement ceiling or the proximity to an east-west railroad. But this dataset proves that much more influences price negotiations than the number of bedrooms or a white-picket fence. With 76 explanatory variables describing (almost) every aspect of residential homes in Ames, Iowa, this dataset challenges you to explain the final price of each home. More: <https://www.kaggle.com/c/house-prices-advanced-regression-techniques>\n"
      ]
    },
    {
      "cell_type": "markdown",
      "metadata": {
        "id": "rZoU5Ja-1UmC"
      },
      "source": [
        "## Load data\n",
        "\n",
        "Load data from CSV file."
      ]
    },
    {
      "cell_type": "code",
      "execution_count": 3,
      "metadata": {
        "id": "yfnQTHqg1UmC"
      },
      "outputs": [],
      "source": [
        "data = pd.read_csv('https://raw.githubusercontent.com/olivermueller/ds4b-2024/refs/heads/main/Session_03/ameshousing.csv')"
      ]
    },
    {
      "cell_type": "code",
      "source": [
        "data.head(10)"
      ],
      "metadata": {
        "id": "-qPnJsZb1kQc",
        "outputId": "5756f18b-36c9-4487-93a6-730baf1e1224",
        "colab": {
          "base_uri": "https://localhost:8080/",
          "height": 412
        }
      },
      "execution_count": 4,
      "outputs": [
        {
          "output_type": "execute_result",
          "data": {
            "text/plain": [
              "   MSSubClass MSZoning  LotFrontage  LotArea Street Alley LotShape  \\\n",
              "0          20       RL          141    31770   Pave  none      IR1   \n",
              "1          20       RH           80    11622   Pave  none      Reg   \n",
              "2          20       RL           81    14267   Pave  none      IR1   \n",
              "3          20       RL           93    11160   Pave  none      Reg   \n",
              "4          60       RL           74    13830   Pave  none      IR1   \n",
              "5          60       RL           78     9978   Pave  none      IR1   \n",
              "6         120       RL           41     4920   Pave  none      Reg   \n",
              "7         120       RL           43     5005   Pave  none      IR1   \n",
              "8         120       RL           39     5389   Pave  none      IR1   \n",
              "9          60       RL           60     7500   Pave  none      Reg   \n",
              "\n",
              "  LandContour Utilities LotConfig  ... ThreeSsnPorch ScreenPorch PoolArea  \\\n",
              "0         Lvl    AllPub    Corner  ...             0           0        0   \n",
              "1         Lvl    AllPub    Inside  ...             0         120        0   \n",
              "2         Lvl    AllPub    Corner  ...             0           0        0   \n",
              "3         Lvl    AllPub    Corner  ...             0           0        0   \n",
              "4         Lvl    AllPub    Inside  ...             0           0        0   \n",
              "5         Lvl    AllPub    Inside  ...             0           0        0   \n",
              "6         Lvl    AllPub    Inside  ...             0           0        0   \n",
              "7         HLS    AllPub    Inside  ...             0         144        0   \n",
              "8         Lvl    AllPub    Inside  ...             0           0        0   \n",
              "9         Lvl    AllPub    Inside  ...             0           0        0   \n",
              "\n",
              "   Fence MiscVal MoSold  YrSold  SaleType  SaleCondition  SalePrice  \n",
              "0   none       0      5    2010        WD         Normal     215000  \n",
              "1  MnPrv       0      6    2010        WD         Normal     105000  \n",
              "2   none   12500      6    2010        WD         Normal     172000  \n",
              "3   none       0      4    2010        WD         Normal     244000  \n",
              "4  MnPrv       0      3    2010        WD         Normal     189900  \n",
              "5   none       0      6    2010        WD         Normal     195500  \n",
              "6   none       0      4    2010        WD         Normal     213500  \n",
              "7   none       0      1    2010        WD         Normal     191500  \n",
              "8   none       0      3    2010        WD         Normal     236500  \n",
              "9   none       0      6    2010        WD         Normal     189000  \n",
              "\n",
              "[10 rows x 77 columns]"
            ],
            "text/html": [
              "\n",
              "  <div id=\"df-23f9ec0b-b757-45a2-91e6-bd5ec1b91f88\" class=\"colab-df-container\">\n",
              "    <div>\n",
              "<style scoped>\n",
              "    .dataframe tbody tr th:only-of-type {\n",
              "        vertical-align: middle;\n",
              "    }\n",
              "\n",
              "    .dataframe tbody tr th {\n",
              "        vertical-align: top;\n",
              "    }\n",
              "\n",
              "    .dataframe thead th {\n",
              "        text-align: right;\n",
              "    }\n",
              "</style>\n",
              "<table border=\"1\" class=\"dataframe\">\n",
              "  <thead>\n",
              "    <tr style=\"text-align: right;\">\n",
              "      <th></th>\n",
              "      <th>MSSubClass</th>\n",
              "      <th>MSZoning</th>\n",
              "      <th>LotFrontage</th>\n",
              "      <th>LotArea</th>\n",
              "      <th>Street</th>\n",
              "      <th>Alley</th>\n",
              "      <th>LotShape</th>\n",
              "      <th>LandContour</th>\n",
              "      <th>Utilities</th>\n",
              "      <th>LotConfig</th>\n",
              "      <th>...</th>\n",
              "      <th>ThreeSsnPorch</th>\n",
              "      <th>ScreenPorch</th>\n",
              "      <th>PoolArea</th>\n",
              "      <th>Fence</th>\n",
              "      <th>MiscVal</th>\n",
              "      <th>MoSold</th>\n",
              "      <th>YrSold</th>\n",
              "      <th>SaleType</th>\n",
              "      <th>SaleCondition</th>\n",
              "      <th>SalePrice</th>\n",
              "    </tr>\n",
              "  </thead>\n",
              "  <tbody>\n",
              "    <tr>\n",
              "      <th>0</th>\n",
              "      <td>20</td>\n",
              "      <td>RL</td>\n",
              "      <td>141</td>\n",
              "      <td>31770</td>\n",
              "      <td>Pave</td>\n",
              "      <td>none</td>\n",
              "      <td>IR1</td>\n",
              "      <td>Lvl</td>\n",
              "      <td>AllPub</td>\n",
              "      <td>Corner</td>\n",
              "      <td>...</td>\n",
              "      <td>0</td>\n",
              "      <td>0</td>\n",
              "      <td>0</td>\n",
              "      <td>none</td>\n",
              "      <td>0</td>\n",
              "      <td>5</td>\n",
              "      <td>2010</td>\n",
              "      <td>WD</td>\n",
              "      <td>Normal</td>\n",
              "      <td>215000</td>\n",
              "    </tr>\n",
              "    <tr>\n",
              "      <th>1</th>\n",
              "      <td>20</td>\n",
              "      <td>RH</td>\n",
              "      <td>80</td>\n",
              "      <td>11622</td>\n",
              "      <td>Pave</td>\n",
              "      <td>none</td>\n",
              "      <td>Reg</td>\n",
              "      <td>Lvl</td>\n",
              "      <td>AllPub</td>\n",
              "      <td>Inside</td>\n",
              "      <td>...</td>\n",
              "      <td>0</td>\n",
              "      <td>120</td>\n",
              "      <td>0</td>\n",
              "      <td>MnPrv</td>\n",
              "      <td>0</td>\n",
              "      <td>6</td>\n",
              "      <td>2010</td>\n",
              "      <td>WD</td>\n",
              "      <td>Normal</td>\n",
              "      <td>105000</td>\n",
              "    </tr>\n",
              "    <tr>\n",
              "      <th>2</th>\n",
              "      <td>20</td>\n",
              "      <td>RL</td>\n",
              "      <td>81</td>\n",
              "      <td>14267</td>\n",
              "      <td>Pave</td>\n",
              "      <td>none</td>\n",
              "      <td>IR1</td>\n",
              "      <td>Lvl</td>\n",
              "      <td>AllPub</td>\n",
              "      <td>Corner</td>\n",
              "      <td>...</td>\n",
              "      <td>0</td>\n",
              "      <td>0</td>\n",
              "      <td>0</td>\n",
              "      <td>none</td>\n",
              "      <td>12500</td>\n",
              "      <td>6</td>\n",
              "      <td>2010</td>\n",
              "      <td>WD</td>\n",
              "      <td>Normal</td>\n",
              "      <td>172000</td>\n",
              "    </tr>\n",
              "    <tr>\n",
              "      <th>3</th>\n",
              "      <td>20</td>\n",
              "      <td>RL</td>\n",
              "      <td>93</td>\n",
              "      <td>11160</td>\n",
              "      <td>Pave</td>\n",
              "      <td>none</td>\n",
              "      <td>Reg</td>\n",
              "      <td>Lvl</td>\n",
              "      <td>AllPub</td>\n",
              "      <td>Corner</td>\n",
              "      <td>...</td>\n",
              "      <td>0</td>\n",
              "      <td>0</td>\n",
              "      <td>0</td>\n",
              "      <td>none</td>\n",
              "      <td>0</td>\n",
              "      <td>4</td>\n",
              "      <td>2010</td>\n",
              "      <td>WD</td>\n",
              "      <td>Normal</td>\n",
              "      <td>244000</td>\n",
              "    </tr>\n",
              "    <tr>\n",
              "      <th>4</th>\n",
              "      <td>60</td>\n",
              "      <td>RL</td>\n",
              "      <td>74</td>\n",
              "      <td>13830</td>\n",
              "      <td>Pave</td>\n",
              "      <td>none</td>\n",
              "      <td>IR1</td>\n",
              "      <td>Lvl</td>\n",
              "      <td>AllPub</td>\n",
              "      <td>Inside</td>\n",
              "      <td>...</td>\n",
              "      <td>0</td>\n",
              "      <td>0</td>\n",
              "      <td>0</td>\n",
              "      <td>MnPrv</td>\n",
              "      <td>0</td>\n",
              "      <td>3</td>\n",
              "      <td>2010</td>\n",
              "      <td>WD</td>\n",
              "      <td>Normal</td>\n",
              "      <td>189900</td>\n",
              "    </tr>\n",
              "    <tr>\n",
              "      <th>5</th>\n",
              "      <td>60</td>\n",
              "      <td>RL</td>\n",
              "      <td>78</td>\n",
              "      <td>9978</td>\n",
              "      <td>Pave</td>\n",
              "      <td>none</td>\n",
              "      <td>IR1</td>\n",
              "      <td>Lvl</td>\n",
              "      <td>AllPub</td>\n",
              "      <td>Inside</td>\n",
              "      <td>...</td>\n",
              "      <td>0</td>\n",
              "      <td>0</td>\n",
              "      <td>0</td>\n",
              "      <td>none</td>\n",
              "      <td>0</td>\n",
              "      <td>6</td>\n",
              "      <td>2010</td>\n",
              "      <td>WD</td>\n",
              "      <td>Normal</td>\n",
              "      <td>195500</td>\n",
              "    </tr>\n",
              "    <tr>\n",
              "      <th>6</th>\n",
              "      <td>120</td>\n",
              "      <td>RL</td>\n",
              "      <td>41</td>\n",
              "      <td>4920</td>\n",
              "      <td>Pave</td>\n",
              "      <td>none</td>\n",
              "      <td>Reg</td>\n",
              "      <td>Lvl</td>\n",
              "      <td>AllPub</td>\n",
              "      <td>Inside</td>\n",
              "      <td>...</td>\n",
              "      <td>0</td>\n",
              "      <td>0</td>\n",
              "      <td>0</td>\n",
              "      <td>none</td>\n",
              "      <td>0</td>\n",
              "      <td>4</td>\n",
              "      <td>2010</td>\n",
              "      <td>WD</td>\n",
              "      <td>Normal</td>\n",
              "      <td>213500</td>\n",
              "    </tr>\n",
              "    <tr>\n",
              "      <th>7</th>\n",
              "      <td>120</td>\n",
              "      <td>RL</td>\n",
              "      <td>43</td>\n",
              "      <td>5005</td>\n",
              "      <td>Pave</td>\n",
              "      <td>none</td>\n",
              "      <td>IR1</td>\n",
              "      <td>HLS</td>\n",
              "      <td>AllPub</td>\n",
              "      <td>Inside</td>\n",
              "      <td>...</td>\n",
              "      <td>0</td>\n",
              "      <td>144</td>\n",
              "      <td>0</td>\n",
              "      <td>none</td>\n",
              "      <td>0</td>\n",
              "      <td>1</td>\n",
              "      <td>2010</td>\n",
              "      <td>WD</td>\n",
              "      <td>Normal</td>\n",
              "      <td>191500</td>\n",
              "    </tr>\n",
              "    <tr>\n",
              "      <th>8</th>\n",
              "      <td>120</td>\n",
              "      <td>RL</td>\n",
              "      <td>39</td>\n",
              "      <td>5389</td>\n",
              "      <td>Pave</td>\n",
              "      <td>none</td>\n",
              "      <td>IR1</td>\n",
              "      <td>Lvl</td>\n",
              "      <td>AllPub</td>\n",
              "      <td>Inside</td>\n",
              "      <td>...</td>\n",
              "      <td>0</td>\n",
              "      <td>0</td>\n",
              "      <td>0</td>\n",
              "      <td>none</td>\n",
              "      <td>0</td>\n",
              "      <td>3</td>\n",
              "      <td>2010</td>\n",
              "      <td>WD</td>\n",
              "      <td>Normal</td>\n",
              "      <td>236500</td>\n",
              "    </tr>\n",
              "    <tr>\n",
              "      <th>9</th>\n",
              "      <td>60</td>\n",
              "      <td>RL</td>\n",
              "      <td>60</td>\n",
              "      <td>7500</td>\n",
              "      <td>Pave</td>\n",
              "      <td>none</td>\n",
              "      <td>Reg</td>\n",
              "      <td>Lvl</td>\n",
              "      <td>AllPub</td>\n",
              "      <td>Inside</td>\n",
              "      <td>...</td>\n",
              "      <td>0</td>\n",
              "      <td>0</td>\n",
              "      <td>0</td>\n",
              "      <td>none</td>\n",
              "      <td>0</td>\n",
              "      <td>6</td>\n",
              "      <td>2010</td>\n",
              "      <td>WD</td>\n",
              "      <td>Normal</td>\n",
              "      <td>189000</td>\n",
              "    </tr>\n",
              "  </tbody>\n",
              "</table>\n",
              "<p>10 rows × 77 columns</p>\n",
              "</div>\n",
              "    <div class=\"colab-df-buttons\">\n",
              "\n",
              "  <div class=\"colab-df-container\">\n",
              "    <button class=\"colab-df-convert\" onclick=\"convertToInteractive('df-23f9ec0b-b757-45a2-91e6-bd5ec1b91f88')\"\n",
              "            title=\"Convert this dataframe to an interactive table.\"\n",
              "            style=\"display:none;\">\n",
              "\n",
              "  <svg xmlns=\"http://www.w3.org/2000/svg\" height=\"24px\" viewBox=\"0 -960 960 960\">\n",
              "    <path d=\"M120-120v-720h720v720H120Zm60-500h600v-160H180v160Zm220 220h160v-160H400v160Zm0 220h160v-160H400v160ZM180-400h160v-160H180v160Zm440 0h160v-160H620v160ZM180-180h160v-160H180v160Zm440 0h160v-160H620v160Z\"/>\n",
              "  </svg>\n",
              "    </button>\n",
              "\n",
              "  <style>\n",
              "    .colab-df-container {\n",
              "      display:flex;\n",
              "      gap: 12px;\n",
              "    }\n",
              "\n",
              "    .colab-df-convert {\n",
              "      background-color: #E8F0FE;\n",
              "      border: none;\n",
              "      border-radius: 50%;\n",
              "      cursor: pointer;\n",
              "      display: none;\n",
              "      fill: #1967D2;\n",
              "      height: 32px;\n",
              "      padding: 0 0 0 0;\n",
              "      width: 32px;\n",
              "    }\n",
              "\n",
              "    .colab-df-convert:hover {\n",
              "      background-color: #E2EBFA;\n",
              "      box-shadow: 0px 1px 2px rgba(60, 64, 67, 0.3), 0px 1px 3px 1px rgba(60, 64, 67, 0.15);\n",
              "      fill: #174EA6;\n",
              "    }\n",
              "\n",
              "    .colab-df-buttons div {\n",
              "      margin-bottom: 4px;\n",
              "    }\n",
              "\n",
              "    [theme=dark] .colab-df-convert {\n",
              "      background-color: #3B4455;\n",
              "      fill: #D2E3FC;\n",
              "    }\n",
              "\n",
              "    [theme=dark] .colab-df-convert:hover {\n",
              "      background-color: #434B5C;\n",
              "      box-shadow: 0px 1px 3px 1px rgba(0, 0, 0, 0.15);\n",
              "      filter: drop-shadow(0px 1px 2px rgba(0, 0, 0, 0.3));\n",
              "      fill: #FFFFFF;\n",
              "    }\n",
              "  </style>\n",
              "\n",
              "    <script>\n",
              "      const buttonEl =\n",
              "        document.querySelector('#df-23f9ec0b-b757-45a2-91e6-bd5ec1b91f88 button.colab-df-convert');\n",
              "      buttonEl.style.display =\n",
              "        google.colab.kernel.accessAllowed ? 'block' : 'none';\n",
              "\n",
              "      async function convertToInteractive(key) {\n",
              "        const element = document.querySelector('#df-23f9ec0b-b757-45a2-91e6-bd5ec1b91f88');\n",
              "        const dataTable =\n",
              "          await google.colab.kernel.invokeFunction('convertToInteractive',\n",
              "                                                    [key], {});\n",
              "        if (!dataTable) return;\n",
              "\n",
              "        const docLinkHtml = 'Like what you see? Visit the ' +\n",
              "          '<a target=\"_blank\" href=https://colab.research.google.com/notebooks/data_table.ipynb>data table notebook</a>'\n",
              "          + ' to learn more about interactive tables.';\n",
              "        element.innerHTML = '';\n",
              "        dataTable['output_type'] = 'display_data';\n",
              "        await google.colab.output.renderOutput(dataTable, element);\n",
              "        const docLink = document.createElement('div');\n",
              "        docLink.innerHTML = docLinkHtml;\n",
              "        element.appendChild(docLink);\n",
              "      }\n",
              "    </script>\n",
              "  </div>\n",
              "\n",
              "\n",
              "<div id=\"df-be91a254-a30e-4b2c-89f4-1fd6151eaf05\">\n",
              "  <button class=\"colab-df-quickchart\" onclick=\"quickchart('df-be91a254-a30e-4b2c-89f4-1fd6151eaf05')\"\n",
              "            title=\"Suggest charts\"\n",
              "            style=\"display:none;\">\n",
              "\n",
              "<svg xmlns=\"http://www.w3.org/2000/svg\" height=\"24px\"viewBox=\"0 0 24 24\"\n",
              "     width=\"24px\">\n",
              "    <g>\n",
              "        <path d=\"M19 3H5c-1.1 0-2 .9-2 2v14c0 1.1.9 2 2 2h14c1.1 0 2-.9 2-2V5c0-1.1-.9-2-2-2zM9 17H7v-7h2v7zm4 0h-2V7h2v10zm4 0h-2v-4h2v4z\"/>\n",
              "    </g>\n",
              "</svg>\n",
              "  </button>\n",
              "\n",
              "<style>\n",
              "  .colab-df-quickchart {\n",
              "      --bg-color: #E8F0FE;\n",
              "      --fill-color: #1967D2;\n",
              "      --hover-bg-color: #E2EBFA;\n",
              "      --hover-fill-color: #174EA6;\n",
              "      --disabled-fill-color: #AAA;\n",
              "      --disabled-bg-color: #DDD;\n",
              "  }\n",
              "\n",
              "  [theme=dark] .colab-df-quickchart {\n",
              "      --bg-color: #3B4455;\n",
              "      --fill-color: #D2E3FC;\n",
              "      --hover-bg-color: #434B5C;\n",
              "      --hover-fill-color: #FFFFFF;\n",
              "      --disabled-bg-color: #3B4455;\n",
              "      --disabled-fill-color: #666;\n",
              "  }\n",
              "\n",
              "  .colab-df-quickchart {\n",
              "    background-color: var(--bg-color);\n",
              "    border: none;\n",
              "    border-radius: 50%;\n",
              "    cursor: pointer;\n",
              "    display: none;\n",
              "    fill: var(--fill-color);\n",
              "    height: 32px;\n",
              "    padding: 0;\n",
              "    width: 32px;\n",
              "  }\n",
              "\n",
              "  .colab-df-quickchart:hover {\n",
              "    background-color: var(--hover-bg-color);\n",
              "    box-shadow: 0 1px 2px rgba(60, 64, 67, 0.3), 0 1px 3px 1px rgba(60, 64, 67, 0.15);\n",
              "    fill: var(--button-hover-fill-color);\n",
              "  }\n",
              "\n",
              "  .colab-df-quickchart-complete:disabled,\n",
              "  .colab-df-quickchart-complete:disabled:hover {\n",
              "    background-color: var(--disabled-bg-color);\n",
              "    fill: var(--disabled-fill-color);\n",
              "    box-shadow: none;\n",
              "  }\n",
              "\n",
              "  .colab-df-spinner {\n",
              "    border: 2px solid var(--fill-color);\n",
              "    border-color: transparent;\n",
              "    border-bottom-color: var(--fill-color);\n",
              "    animation:\n",
              "      spin 1s steps(1) infinite;\n",
              "  }\n",
              "\n",
              "  @keyframes spin {\n",
              "    0% {\n",
              "      border-color: transparent;\n",
              "      border-bottom-color: var(--fill-color);\n",
              "      border-left-color: var(--fill-color);\n",
              "    }\n",
              "    20% {\n",
              "      border-color: transparent;\n",
              "      border-left-color: var(--fill-color);\n",
              "      border-top-color: var(--fill-color);\n",
              "    }\n",
              "    30% {\n",
              "      border-color: transparent;\n",
              "      border-left-color: var(--fill-color);\n",
              "      border-top-color: var(--fill-color);\n",
              "      border-right-color: var(--fill-color);\n",
              "    }\n",
              "    40% {\n",
              "      border-color: transparent;\n",
              "      border-right-color: var(--fill-color);\n",
              "      border-top-color: var(--fill-color);\n",
              "    }\n",
              "    60% {\n",
              "      border-color: transparent;\n",
              "      border-right-color: var(--fill-color);\n",
              "    }\n",
              "    80% {\n",
              "      border-color: transparent;\n",
              "      border-right-color: var(--fill-color);\n",
              "      border-bottom-color: var(--fill-color);\n",
              "    }\n",
              "    90% {\n",
              "      border-color: transparent;\n",
              "      border-bottom-color: var(--fill-color);\n",
              "    }\n",
              "  }\n",
              "</style>\n",
              "\n",
              "  <script>\n",
              "    async function quickchart(key) {\n",
              "      const quickchartButtonEl =\n",
              "        document.querySelector('#' + key + ' button');\n",
              "      quickchartButtonEl.disabled = true;  // To prevent multiple clicks.\n",
              "      quickchartButtonEl.classList.add('colab-df-spinner');\n",
              "      try {\n",
              "        const charts = await google.colab.kernel.invokeFunction(\n",
              "            'suggestCharts', [key], {});\n",
              "      } catch (error) {\n",
              "        console.error('Error during call to suggestCharts:', error);\n",
              "      }\n",
              "      quickchartButtonEl.classList.remove('colab-df-spinner');\n",
              "      quickchartButtonEl.classList.add('colab-df-quickchart-complete');\n",
              "    }\n",
              "    (() => {\n",
              "      let quickchartButtonEl =\n",
              "        document.querySelector('#df-be91a254-a30e-4b2c-89f4-1fd6151eaf05 button');\n",
              "      quickchartButtonEl.style.display =\n",
              "        google.colab.kernel.accessAllowed ? 'block' : 'none';\n",
              "    })();\n",
              "  </script>\n",
              "</div>\n",
              "\n",
              "    </div>\n",
              "  </div>\n"
            ],
            "application/vnd.google.colaboratory.intrinsic+json": {
              "type": "dataframe",
              "variable_name": "data"
            }
          },
          "metadata": {},
          "execution_count": 4
        }
      ]
    },
    {
      "cell_type": "markdown",
      "metadata": {
        "id": "y67JIiAz1UmD"
      },
      "source": [
        "Perform a random train/test split."
      ]
    },
    {
      "cell_type": "code",
      "execution_count": 5,
      "metadata": {
        "id": "InDS6vNJ1UmD"
      },
      "outputs": [],
      "source": [
        "data_train, data_test = train_test_split(data, test_size=0.2, random_state=42)"
      ]
    },
    {
      "cell_type": "code",
      "execution_count": 6,
      "metadata": {
        "id": "xVEU4Rj81UmE",
        "outputId": "55c6a0a4-6052-4fff-edae-cb32aed9ba35",
        "colab": {
          "base_uri": "https://localhost:8080/",
          "height": 255
        }
      },
      "outputs": [
        {
          "output_type": "execute_result",
          "data": {
            "text/plain": [
              "      MSSubClass MSZoning  LotFrontage  LotArea Street Alley LotShape  \\\n",
              "381           20       RL           80    10400   Pave  none      Reg   \n",
              "834           60       RL            0    28698   Pave  none      IR2   \n",
              "1898          90       RL           70     9842   Pave  none      Reg   \n",
              "678           90       RL           60     7200   Pave  none      Reg   \n",
              "700          190       RM           63     7627   Pave  none      Reg   \n",
              "\n",
              "     LandContour Utilities LotConfig  ... ThreeSsnPorch ScreenPorch PoolArea  \\\n",
              "381          Lvl    AllPub    Inside  ...             0           0        0   \n",
              "834          Low    AllPub   CulDSac  ...             0         225        0   \n",
              "1898         Lvl    AllPub       FR2  ...             0           0        0   \n",
              "678          Lvl    AllPub    Inside  ...             0           0        0   \n",
              "700          Lvl    AllPub    Corner  ...             0           0        0   \n",
              "\n",
              "      Fence MiscVal MoSold  YrSold  SaleType  SaleCondition  SalePrice  \n",
              "381   MnPrv       0      6    2009        WD         Family     152000  \n",
              "834    none       0      6    2009        WD        Abnorml     185000  \n",
              "1898   none       0      3    2007        WD         Normal     101800  \n",
              "678    none       0      6    2009        WD         Normal      90000  \n",
              "700    none       0     10    2009        WD         Normal      94550  \n",
              "\n",
              "[5 rows x 77 columns]"
            ],
            "text/html": [
              "\n",
              "  <div id=\"df-be7ad8fc-92eb-44ad-955c-e90ceefef743\" class=\"colab-df-container\">\n",
              "    <div>\n",
              "<style scoped>\n",
              "    .dataframe tbody tr th:only-of-type {\n",
              "        vertical-align: middle;\n",
              "    }\n",
              "\n",
              "    .dataframe tbody tr th {\n",
              "        vertical-align: top;\n",
              "    }\n",
              "\n",
              "    .dataframe thead th {\n",
              "        text-align: right;\n",
              "    }\n",
              "</style>\n",
              "<table border=\"1\" class=\"dataframe\">\n",
              "  <thead>\n",
              "    <tr style=\"text-align: right;\">\n",
              "      <th></th>\n",
              "      <th>MSSubClass</th>\n",
              "      <th>MSZoning</th>\n",
              "      <th>LotFrontage</th>\n",
              "      <th>LotArea</th>\n",
              "      <th>Street</th>\n",
              "      <th>Alley</th>\n",
              "      <th>LotShape</th>\n",
              "      <th>LandContour</th>\n",
              "      <th>Utilities</th>\n",
              "      <th>LotConfig</th>\n",
              "      <th>...</th>\n",
              "      <th>ThreeSsnPorch</th>\n",
              "      <th>ScreenPorch</th>\n",
              "      <th>PoolArea</th>\n",
              "      <th>Fence</th>\n",
              "      <th>MiscVal</th>\n",
              "      <th>MoSold</th>\n",
              "      <th>YrSold</th>\n",
              "      <th>SaleType</th>\n",
              "      <th>SaleCondition</th>\n",
              "      <th>SalePrice</th>\n",
              "    </tr>\n",
              "  </thead>\n",
              "  <tbody>\n",
              "    <tr>\n",
              "      <th>381</th>\n",
              "      <td>20</td>\n",
              "      <td>RL</td>\n",
              "      <td>80</td>\n",
              "      <td>10400</td>\n",
              "      <td>Pave</td>\n",
              "      <td>none</td>\n",
              "      <td>Reg</td>\n",
              "      <td>Lvl</td>\n",
              "      <td>AllPub</td>\n",
              "      <td>Inside</td>\n",
              "      <td>...</td>\n",
              "      <td>0</td>\n",
              "      <td>0</td>\n",
              "      <td>0</td>\n",
              "      <td>MnPrv</td>\n",
              "      <td>0</td>\n",
              "      <td>6</td>\n",
              "      <td>2009</td>\n",
              "      <td>WD</td>\n",
              "      <td>Family</td>\n",
              "      <td>152000</td>\n",
              "    </tr>\n",
              "    <tr>\n",
              "      <th>834</th>\n",
              "      <td>60</td>\n",
              "      <td>RL</td>\n",
              "      <td>0</td>\n",
              "      <td>28698</td>\n",
              "      <td>Pave</td>\n",
              "      <td>none</td>\n",
              "      <td>IR2</td>\n",
              "      <td>Low</td>\n",
              "      <td>AllPub</td>\n",
              "      <td>CulDSac</td>\n",
              "      <td>...</td>\n",
              "      <td>0</td>\n",
              "      <td>225</td>\n",
              "      <td>0</td>\n",
              "      <td>none</td>\n",
              "      <td>0</td>\n",
              "      <td>6</td>\n",
              "      <td>2009</td>\n",
              "      <td>WD</td>\n",
              "      <td>Abnorml</td>\n",
              "      <td>185000</td>\n",
              "    </tr>\n",
              "    <tr>\n",
              "      <th>1898</th>\n",
              "      <td>90</td>\n",
              "      <td>RL</td>\n",
              "      <td>70</td>\n",
              "      <td>9842</td>\n",
              "      <td>Pave</td>\n",
              "      <td>none</td>\n",
              "      <td>Reg</td>\n",
              "      <td>Lvl</td>\n",
              "      <td>AllPub</td>\n",
              "      <td>FR2</td>\n",
              "      <td>...</td>\n",
              "      <td>0</td>\n",
              "      <td>0</td>\n",
              "      <td>0</td>\n",
              "      <td>none</td>\n",
              "      <td>0</td>\n",
              "      <td>3</td>\n",
              "      <td>2007</td>\n",
              "      <td>WD</td>\n",
              "      <td>Normal</td>\n",
              "      <td>101800</td>\n",
              "    </tr>\n",
              "    <tr>\n",
              "      <th>678</th>\n",
              "      <td>90</td>\n",
              "      <td>RL</td>\n",
              "      <td>60</td>\n",
              "      <td>7200</td>\n",
              "      <td>Pave</td>\n",
              "      <td>none</td>\n",
              "      <td>Reg</td>\n",
              "      <td>Lvl</td>\n",
              "      <td>AllPub</td>\n",
              "      <td>Inside</td>\n",
              "      <td>...</td>\n",
              "      <td>0</td>\n",
              "      <td>0</td>\n",
              "      <td>0</td>\n",
              "      <td>none</td>\n",
              "      <td>0</td>\n",
              "      <td>6</td>\n",
              "      <td>2009</td>\n",
              "      <td>WD</td>\n",
              "      <td>Normal</td>\n",
              "      <td>90000</td>\n",
              "    </tr>\n",
              "    <tr>\n",
              "      <th>700</th>\n",
              "      <td>190</td>\n",
              "      <td>RM</td>\n",
              "      <td>63</td>\n",
              "      <td>7627</td>\n",
              "      <td>Pave</td>\n",
              "      <td>none</td>\n",
              "      <td>Reg</td>\n",
              "      <td>Lvl</td>\n",
              "      <td>AllPub</td>\n",
              "      <td>Corner</td>\n",
              "      <td>...</td>\n",
              "      <td>0</td>\n",
              "      <td>0</td>\n",
              "      <td>0</td>\n",
              "      <td>none</td>\n",
              "      <td>0</td>\n",
              "      <td>10</td>\n",
              "      <td>2009</td>\n",
              "      <td>WD</td>\n",
              "      <td>Normal</td>\n",
              "      <td>94550</td>\n",
              "    </tr>\n",
              "  </tbody>\n",
              "</table>\n",
              "<p>5 rows × 77 columns</p>\n",
              "</div>\n",
              "    <div class=\"colab-df-buttons\">\n",
              "\n",
              "  <div class=\"colab-df-container\">\n",
              "    <button class=\"colab-df-convert\" onclick=\"convertToInteractive('df-be7ad8fc-92eb-44ad-955c-e90ceefef743')\"\n",
              "            title=\"Convert this dataframe to an interactive table.\"\n",
              "            style=\"display:none;\">\n",
              "\n",
              "  <svg xmlns=\"http://www.w3.org/2000/svg\" height=\"24px\" viewBox=\"0 -960 960 960\">\n",
              "    <path d=\"M120-120v-720h720v720H120Zm60-500h600v-160H180v160Zm220 220h160v-160H400v160Zm0 220h160v-160H400v160ZM180-400h160v-160H180v160Zm440 0h160v-160H620v160ZM180-180h160v-160H180v160Zm440 0h160v-160H620v160Z\"/>\n",
              "  </svg>\n",
              "    </button>\n",
              "\n",
              "  <style>\n",
              "    .colab-df-container {\n",
              "      display:flex;\n",
              "      gap: 12px;\n",
              "    }\n",
              "\n",
              "    .colab-df-convert {\n",
              "      background-color: #E8F0FE;\n",
              "      border: none;\n",
              "      border-radius: 50%;\n",
              "      cursor: pointer;\n",
              "      display: none;\n",
              "      fill: #1967D2;\n",
              "      height: 32px;\n",
              "      padding: 0 0 0 0;\n",
              "      width: 32px;\n",
              "    }\n",
              "\n",
              "    .colab-df-convert:hover {\n",
              "      background-color: #E2EBFA;\n",
              "      box-shadow: 0px 1px 2px rgba(60, 64, 67, 0.3), 0px 1px 3px 1px rgba(60, 64, 67, 0.15);\n",
              "      fill: #174EA6;\n",
              "    }\n",
              "\n",
              "    .colab-df-buttons div {\n",
              "      margin-bottom: 4px;\n",
              "    }\n",
              "\n",
              "    [theme=dark] .colab-df-convert {\n",
              "      background-color: #3B4455;\n",
              "      fill: #D2E3FC;\n",
              "    }\n",
              "\n",
              "    [theme=dark] .colab-df-convert:hover {\n",
              "      background-color: #434B5C;\n",
              "      box-shadow: 0px 1px 3px 1px rgba(0, 0, 0, 0.15);\n",
              "      filter: drop-shadow(0px 1px 2px rgba(0, 0, 0, 0.3));\n",
              "      fill: #FFFFFF;\n",
              "    }\n",
              "  </style>\n",
              "\n",
              "    <script>\n",
              "      const buttonEl =\n",
              "        document.querySelector('#df-be7ad8fc-92eb-44ad-955c-e90ceefef743 button.colab-df-convert');\n",
              "      buttonEl.style.display =\n",
              "        google.colab.kernel.accessAllowed ? 'block' : 'none';\n",
              "\n",
              "      async function convertToInteractive(key) {\n",
              "        const element = document.querySelector('#df-be7ad8fc-92eb-44ad-955c-e90ceefef743');\n",
              "        const dataTable =\n",
              "          await google.colab.kernel.invokeFunction('convertToInteractive',\n",
              "                                                    [key], {});\n",
              "        if (!dataTable) return;\n",
              "\n",
              "        const docLinkHtml = 'Like what you see? Visit the ' +\n",
              "          '<a target=\"_blank\" href=https://colab.research.google.com/notebooks/data_table.ipynb>data table notebook</a>'\n",
              "          + ' to learn more about interactive tables.';\n",
              "        element.innerHTML = '';\n",
              "        dataTable['output_type'] = 'display_data';\n",
              "        await google.colab.output.renderOutput(dataTable, element);\n",
              "        const docLink = document.createElement('div');\n",
              "        docLink.innerHTML = docLinkHtml;\n",
              "        element.appendChild(docLink);\n",
              "      }\n",
              "    </script>\n",
              "  </div>\n",
              "\n",
              "\n",
              "<div id=\"df-804e67fa-b36b-464b-a589-3e3686f73860\">\n",
              "  <button class=\"colab-df-quickchart\" onclick=\"quickchart('df-804e67fa-b36b-464b-a589-3e3686f73860')\"\n",
              "            title=\"Suggest charts\"\n",
              "            style=\"display:none;\">\n",
              "\n",
              "<svg xmlns=\"http://www.w3.org/2000/svg\" height=\"24px\"viewBox=\"0 0 24 24\"\n",
              "     width=\"24px\">\n",
              "    <g>\n",
              "        <path d=\"M19 3H5c-1.1 0-2 .9-2 2v14c0 1.1.9 2 2 2h14c1.1 0 2-.9 2-2V5c0-1.1-.9-2-2-2zM9 17H7v-7h2v7zm4 0h-2V7h2v10zm4 0h-2v-4h2v4z\"/>\n",
              "    </g>\n",
              "</svg>\n",
              "  </button>\n",
              "\n",
              "<style>\n",
              "  .colab-df-quickchart {\n",
              "      --bg-color: #E8F0FE;\n",
              "      --fill-color: #1967D2;\n",
              "      --hover-bg-color: #E2EBFA;\n",
              "      --hover-fill-color: #174EA6;\n",
              "      --disabled-fill-color: #AAA;\n",
              "      --disabled-bg-color: #DDD;\n",
              "  }\n",
              "\n",
              "  [theme=dark] .colab-df-quickchart {\n",
              "      --bg-color: #3B4455;\n",
              "      --fill-color: #D2E3FC;\n",
              "      --hover-bg-color: #434B5C;\n",
              "      --hover-fill-color: #FFFFFF;\n",
              "      --disabled-bg-color: #3B4455;\n",
              "      --disabled-fill-color: #666;\n",
              "  }\n",
              "\n",
              "  .colab-df-quickchart {\n",
              "    background-color: var(--bg-color);\n",
              "    border: none;\n",
              "    border-radius: 50%;\n",
              "    cursor: pointer;\n",
              "    display: none;\n",
              "    fill: var(--fill-color);\n",
              "    height: 32px;\n",
              "    padding: 0;\n",
              "    width: 32px;\n",
              "  }\n",
              "\n",
              "  .colab-df-quickchart:hover {\n",
              "    background-color: var(--hover-bg-color);\n",
              "    box-shadow: 0 1px 2px rgba(60, 64, 67, 0.3), 0 1px 3px 1px rgba(60, 64, 67, 0.15);\n",
              "    fill: var(--button-hover-fill-color);\n",
              "  }\n",
              "\n",
              "  .colab-df-quickchart-complete:disabled,\n",
              "  .colab-df-quickchart-complete:disabled:hover {\n",
              "    background-color: var(--disabled-bg-color);\n",
              "    fill: var(--disabled-fill-color);\n",
              "    box-shadow: none;\n",
              "  }\n",
              "\n",
              "  .colab-df-spinner {\n",
              "    border: 2px solid var(--fill-color);\n",
              "    border-color: transparent;\n",
              "    border-bottom-color: var(--fill-color);\n",
              "    animation:\n",
              "      spin 1s steps(1) infinite;\n",
              "  }\n",
              "\n",
              "  @keyframes spin {\n",
              "    0% {\n",
              "      border-color: transparent;\n",
              "      border-bottom-color: var(--fill-color);\n",
              "      border-left-color: var(--fill-color);\n",
              "    }\n",
              "    20% {\n",
              "      border-color: transparent;\n",
              "      border-left-color: var(--fill-color);\n",
              "      border-top-color: var(--fill-color);\n",
              "    }\n",
              "    30% {\n",
              "      border-color: transparent;\n",
              "      border-left-color: var(--fill-color);\n",
              "      border-top-color: var(--fill-color);\n",
              "      border-right-color: var(--fill-color);\n",
              "    }\n",
              "    40% {\n",
              "      border-color: transparent;\n",
              "      border-right-color: var(--fill-color);\n",
              "      border-top-color: var(--fill-color);\n",
              "    }\n",
              "    60% {\n",
              "      border-color: transparent;\n",
              "      border-right-color: var(--fill-color);\n",
              "    }\n",
              "    80% {\n",
              "      border-color: transparent;\n",
              "      border-right-color: var(--fill-color);\n",
              "      border-bottom-color: var(--fill-color);\n",
              "    }\n",
              "    90% {\n",
              "      border-color: transparent;\n",
              "      border-bottom-color: var(--fill-color);\n",
              "    }\n",
              "  }\n",
              "</style>\n",
              "\n",
              "  <script>\n",
              "    async function quickchart(key) {\n",
              "      const quickchartButtonEl =\n",
              "        document.querySelector('#' + key + ' button');\n",
              "      quickchartButtonEl.disabled = true;  // To prevent multiple clicks.\n",
              "      quickchartButtonEl.classList.add('colab-df-spinner');\n",
              "      try {\n",
              "        const charts = await google.colab.kernel.invokeFunction(\n",
              "            'suggestCharts', [key], {});\n",
              "      } catch (error) {\n",
              "        console.error('Error during call to suggestCharts:', error);\n",
              "      }\n",
              "      quickchartButtonEl.classList.remove('colab-df-spinner');\n",
              "      quickchartButtonEl.classList.add('colab-df-quickchart-complete');\n",
              "    }\n",
              "    (() => {\n",
              "      let quickchartButtonEl =\n",
              "        document.querySelector('#df-804e67fa-b36b-464b-a589-3e3686f73860 button');\n",
              "      quickchartButtonEl.style.display =\n",
              "        google.colab.kernel.accessAllowed ? 'block' : 'none';\n",
              "    })();\n",
              "  </script>\n",
              "</div>\n",
              "\n",
              "    </div>\n",
              "  </div>\n"
            ],
            "application/vnd.google.colaboratory.intrinsic+json": {
              "type": "dataframe",
              "variable_name": "data_train"
            }
          },
          "metadata": {},
          "execution_count": 6
        }
      ],
      "source": [
        "data_train.head()"
      ]
    },
    {
      "cell_type": "code",
      "execution_count": 7,
      "metadata": {
        "id": "erE_4HZC1UmF",
        "outputId": "0156aff8-73b9-4ae2-f8a8-cbffc4921fe4",
        "colab": {
          "base_uri": "https://localhost:8080/"
        }
      },
      "outputs": [
        {
          "output_type": "execute_result",
          "data": {
            "text/plain": [
              "(2344, 77)"
            ]
          },
          "metadata": {},
          "execution_count": 7
        }
      ],
      "source": [
        "data_train.shape"
      ]
    },
    {
      "cell_type": "code",
      "execution_count": 8,
      "metadata": {
        "id": "HdkWoGxI1UmF",
        "outputId": "97dc8250-5a18-4988-ac86-2b5c714d68e4",
        "colab": {
          "base_uri": "https://localhost:8080/"
        }
      },
      "outputs": [
        {
          "output_type": "execute_result",
          "data": {
            "text/plain": [
              "Index(['MSSubClass', 'MSZoning', 'LotFrontage', 'LotArea', 'Street', 'Alley',\n",
              "       'LotShape', 'LandContour', 'Utilities', 'LotConfig', 'LandSlope',\n",
              "       'Neighborhood', 'Condition1', 'Condition2', 'BldgType', 'HouseStyle',\n",
              "       'OverallQual', 'OverallCond', 'YearBuilt', 'YearRemodAdd', 'RoofStyle',\n",
              "       'RoofMatl', 'Exterior1st', 'Exterior2nd', 'MasVnrType', 'MasVnrArea',\n",
              "       'ExterQual', 'ExterCond', 'Foundation', 'BsmtQual', 'BsmtCond',\n",
              "       'BsmtExposure', 'BsmtFinType1', 'BsmtFinSF1', 'BsmtFinType2',\n",
              "       'BsmtFinSF2', 'BsmtUnfSF', 'TotalBsmtSF', 'Heating', 'HeatingQC',\n",
              "       'CentralAir', 'Electrical', 'FirstFlrSF', 'SecondFlrSF', 'LowQualFinSF',\n",
              "       'GrLivArea', 'BsmtFullBath', 'BsmtHalfBath', 'FullBath', 'HalfBath',\n",
              "       'BedroomAbvGr', 'KitchenAbvGr', 'KitchenQual', 'TotRmsAbvGrd',\n",
              "       'Functional', 'Fireplaces', 'FireplaceQu', 'GarageType', 'GarageFinish',\n",
              "       'GarageCars', 'GarageArea', 'GarageQual', 'GarageCond', 'PavedDrive',\n",
              "       'WoodDeckSF', 'OpenPorchSF', 'EnclosedPorch', 'ThreeSsnPorch',\n",
              "       'ScreenPorch', 'PoolArea', 'Fence', 'MiscVal', 'MoSold', 'YrSold',\n",
              "       'SaleType', 'SaleCondition', 'SalePrice'],\n",
              "      dtype='object')"
            ]
          },
          "metadata": {},
          "execution_count": 8
        }
      ],
      "source": [
        "data_train.columns"
      ]
    },
    {
      "cell_type": "markdown",
      "metadata": {
        "id": "uVTFOPte1UmG"
      },
      "source": [
        "## Prepare data"
      ]
    },
    {
      "cell_type": "markdown",
      "metadata": {
        "id": "Pk1YtIZ81UmH"
      },
      "source": [
        "Let us first focus on some easy to understand variables."
      ]
    },
    {
      "cell_type": "code",
      "execution_count": 9,
      "metadata": {
        "id": "Zp_MVF271UmH"
      },
      "outputs": [],
      "source": [
        "data_train = data_train[[\"SalePrice\", \"Neighborhood\", \"HouseStyle\", \"LotArea\", \"GrLivArea\", \"FullBath\", \"BedroomAbvGr\", \"KitchenAbvGr\", \"OverallQual\", \"OverallCond\"]]"
      ]
    },
    {
      "cell_type": "code",
      "execution_count": 10,
      "metadata": {
        "id": "AwqAJauZ1UmH",
        "outputId": "5892b009-abf9-4c74-d74e-333d22be7ef8",
        "colab": {
          "base_uri": "https://localhost:8080/",
          "height": 226
        }
      },
      "outputs": [
        {
          "output_type": "execute_result",
          "data": {
            "text/plain": [
              "      SalePrice Neighborhood HouseStyle  LotArea  GrLivArea  FullBath  \\\n",
              "381      152000       NWAmes     1Story    10400       1370         2   \n",
              "834      185000      ClearCr     2Story    28698       2126         2   \n",
              "1898     101800        NAmes     1Story     9842       1224         2   \n",
              "678       90000        NAmes     1Story     7200       1040         2   \n",
              "700       94550      OldTown     2Story     7627       1701         2   \n",
              "\n",
              "      BedroomAbvGr  KitchenAbvGr  OverallQual  OverallCond  \n",
              "381              3             1            7            5  \n",
              "834              3             1            5            5  \n",
              "1898             2             2            4            5  \n",
              "678              2             2            4            5  \n",
              "700              4             2            4            6  "
            ],
            "text/html": [
              "\n",
              "  <div id=\"df-4f0396df-126e-4709-8777-813eac971f0e\" class=\"colab-df-container\">\n",
              "    <div>\n",
              "<style scoped>\n",
              "    .dataframe tbody tr th:only-of-type {\n",
              "        vertical-align: middle;\n",
              "    }\n",
              "\n",
              "    .dataframe tbody tr th {\n",
              "        vertical-align: top;\n",
              "    }\n",
              "\n",
              "    .dataframe thead th {\n",
              "        text-align: right;\n",
              "    }\n",
              "</style>\n",
              "<table border=\"1\" class=\"dataframe\">\n",
              "  <thead>\n",
              "    <tr style=\"text-align: right;\">\n",
              "      <th></th>\n",
              "      <th>SalePrice</th>\n",
              "      <th>Neighborhood</th>\n",
              "      <th>HouseStyle</th>\n",
              "      <th>LotArea</th>\n",
              "      <th>GrLivArea</th>\n",
              "      <th>FullBath</th>\n",
              "      <th>BedroomAbvGr</th>\n",
              "      <th>KitchenAbvGr</th>\n",
              "      <th>OverallQual</th>\n",
              "      <th>OverallCond</th>\n",
              "    </tr>\n",
              "  </thead>\n",
              "  <tbody>\n",
              "    <tr>\n",
              "      <th>381</th>\n",
              "      <td>152000</td>\n",
              "      <td>NWAmes</td>\n",
              "      <td>1Story</td>\n",
              "      <td>10400</td>\n",
              "      <td>1370</td>\n",
              "      <td>2</td>\n",
              "      <td>3</td>\n",
              "      <td>1</td>\n",
              "      <td>7</td>\n",
              "      <td>5</td>\n",
              "    </tr>\n",
              "    <tr>\n",
              "      <th>834</th>\n",
              "      <td>185000</td>\n",
              "      <td>ClearCr</td>\n",
              "      <td>2Story</td>\n",
              "      <td>28698</td>\n",
              "      <td>2126</td>\n",
              "      <td>2</td>\n",
              "      <td>3</td>\n",
              "      <td>1</td>\n",
              "      <td>5</td>\n",
              "      <td>5</td>\n",
              "    </tr>\n",
              "    <tr>\n",
              "      <th>1898</th>\n",
              "      <td>101800</td>\n",
              "      <td>NAmes</td>\n",
              "      <td>1Story</td>\n",
              "      <td>9842</td>\n",
              "      <td>1224</td>\n",
              "      <td>2</td>\n",
              "      <td>2</td>\n",
              "      <td>2</td>\n",
              "      <td>4</td>\n",
              "      <td>5</td>\n",
              "    </tr>\n",
              "    <tr>\n",
              "      <th>678</th>\n",
              "      <td>90000</td>\n",
              "      <td>NAmes</td>\n",
              "      <td>1Story</td>\n",
              "      <td>7200</td>\n",
              "      <td>1040</td>\n",
              "      <td>2</td>\n",
              "      <td>2</td>\n",
              "      <td>2</td>\n",
              "      <td>4</td>\n",
              "      <td>5</td>\n",
              "    </tr>\n",
              "    <tr>\n",
              "      <th>700</th>\n",
              "      <td>94550</td>\n",
              "      <td>OldTown</td>\n",
              "      <td>2Story</td>\n",
              "      <td>7627</td>\n",
              "      <td>1701</td>\n",
              "      <td>2</td>\n",
              "      <td>4</td>\n",
              "      <td>2</td>\n",
              "      <td>4</td>\n",
              "      <td>6</td>\n",
              "    </tr>\n",
              "  </tbody>\n",
              "</table>\n",
              "</div>\n",
              "    <div class=\"colab-df-buttons\">\n",
              "\n",
              "  <div class=\"colab-df-container\">\n",
              "    <button class=\"colab-df-convert\" onclick=\"convertToInteractive('df-4f0396df-126e-4709-8777-813eac971f0e')\"\n",
              "            title=\"Convert this dataframe to an interactive table.\"\n",
              "            style=\"display:none;\">\n",
              "\n",
              "  <svg xmlns=\"http://www.w3.org/2000/svg\" height=\"24px\" viewBox=\"0 -960 960 960\">\n",
              "    <path d=\"M120-120v-720h720v720H120Zm60-500h600v-160H180v160Zm220 220h160v-160H400v160Zm0 220h160v-160H400v160ZM180-400h160v-160H180v160Zm440 0h160v-160H620v160ZM180-180h160v-160H180v160Zm440 0h160v-160H620v160Z\"/>\n",
              "  </svg>\n",
              "    </button>\n",
              "\n",
              "  <style>\n",
              "    .colab-df-container {\n",
              "      display:flex;\n",
              "      gap: 12px;\n",
              "    }\n",
              "\n",
              "    .colab-df-convert {\n",
              "      background-color: #E8F0FE;\n",
              "      border: none;\n",
              "      border-radius: 50%;\n",
              "      cursor: pointer;\n",
              "      display: none;\n",
              "      fill: #1967D2;\n",
              "      height: 32px;\n",
              "      padding: 0 0 0 0;\n",
              "      width: 32px;\n",
              "    }\n",
              "\n",
              "    .colab-df-convert:hover {\n",
              "      background-color: #E2EBFA;\n",
              "      box-shadow: 0px 1px 2px rgba(60, 64, 67, 0.3), 0px 1px 3px 1px rgba(60, 64, 67, 0.15);\n",
              "      fill: #174EA6;\n",
              "    }\n",
              "\n",
              "    .colab-df-buttons div {\n",
              "      margin-bottom: 4px;\n",
              "    }\n",
              "\n",
              "    [theme=dark] .colab-df-convert {\n",
              "      background-color: #3B4455;\n",
              "      fill: #D2E3FC;\n",
              "    }\n",
              "\n",
              "    [theme=dark] .colab-df-convert:hover {\n",
              "      background-color: #434B5C;\n",
              "      box-shadow: 0px 1px 3px 1px rgba(0, 0, 0, 0.15);\n",
              "      filter: drop-shadow(0px 1px 2px rgba(0, 0, 0, 0.3));\n",
              "      fill: #FFFFFF;\n",
              "    }\n",
              "  </style>\n",
              "\n",
              "    <script>\n",
              "      const buttonEl =\n",
              "        document.querySelector('#df-4f0396df-126e-4709-8777-813eac971f0e button.colab-df-convert');\n",
              "      buttonEl.style.display =\n",
              "        google.colab.kernel.accessAllowed ? 'block' : 'none';\n",
              "\n",
              "      async function convertToInteractive(key) {\n",
              "        const element = document.querySelector('#df-4f0396df-126e-4709-8777-813eac971f0e');\n",
              "        const dataTable =\n",
              "          await google.colab.kernel.invokeFunction('convertToInteractive',\n",
              "                                                    [key], {});\n",
              "        if (!dataTable) return;\n",
              "\n",
              "        const docLinkHtml = 'Like what you see? Visit the ' +\n",
              "          '<a target=\"_blank\" href=https://colab.research.google.com/notebooks/data_table.ipynb>data table notebook</a>'\n",
              "          + ' to learn more about interactive tables.';\n",
              "        element.innerHTML = '';\n",
              "        dataTable['output_type'] = 'display_data';\n",
              "        await google.colab.output.renderOutput(dataTable, element);\n",
              "        const docLink = document.createElement('div');\n",
              "        docLink.innerHTML = docLinkHtml;\n",
              "        element.appendChild(docLink);\n",
              "      }\n",
              "    </script>\n",
              "  </div>\n",
              "\n",
              "\n",
              "<div id=\"df-bf5e0185-011f-4bb8-9a46-364be376e9f0\">\n",
              "  <button class=\"colab-df-quickchart\" onclick=\"quickchart('df-bf5e0185-011f-4bb8-9a46-364be376e9f0')\"\n",
              "            title=\"Suggest charts\"\n",
              "            style=\"display:none;\">\n",
              "\n",
              "<svg xmlns=\"http://www.w3.org/2000/svg\" height=\"24px\"viewBox=\"0 0 24 24\"\n",
              "     width=\"24px\">\n",
              "    <g>\n",
              "        <path d=\"M19 3H5c-1.1 0-2 .9-2 2v14c0 1.1.9 2 2 2h14c1.1 0 2-.9 2-2V5c0-1.1-.9-2-2-2zM9 17H7v-7h2v7zm4 0h-2V7h2v10zm4 0h-2v-4h2v4z\"/>\n",
              "    </g>\n",
              "</svg>\n",
              "  </button>\n",
              "\n",
              "<style>\n",
              "  .colab-df-quickchart {\n",
              "      --bg-color: #E8F0FE;\n",
              "      --fill-color: #1967D2;\n",
              "      --hover-bg-color: #E2EBFA;\n",
              "      --hover-fill-color: #174EA6;\n",
              "      --disabled-fill-color: #AAA;\n",
              "      --disabled-bg-color: #DDD;\n",
              "  }\n",
              "\n",
              "  [theme=dark] .colab-df-quickchart {\n",
              "      --bg-color: #3B4455;\n",
              "      --fill-color: #D2E3FC;\n",
              "      --hover-bg-color: #434B5C;\n",
              "      --hover-fill-color: #FFFFFF;\n",
              "      --disabled-bg-color: #3B4455;\n",
              "      --disabled-fill-color: #666;\n",
              "  }\n",
              "\n",
              "  .colab-df-quickchart {\n",
              "    background-color: var(--bg-color);\n",
              "    border: none;\n",
              "    border-radius: 50%;\n",
              "    cursor: pointer;\n",
              "    display: none;\n",
              "    fill: var(--fill-color);\n",
              "    height: 32px;\n",
              "    padding: 0;\n",
              "    width: 32px;\n",
              "  }\n",
              "\n",
              "  .colab-df-quickchart:hover {\n",
              "    background-color: var(--hover-bg-color);\n",
              "    box-shadow: 0 1px 2px rgba(60, 64, 67, 0.3), 0 1px 3px 1px rgba(60, 64, 67, 0.15);\n",
              "    fill: var(--button-hover-fill-color);\n",
              "  }\n",
              "\n",
              "  .colab-df-quickchart-complete:disabled,\n",
              "  .colab-df-quickchart-complete:disabled:hover {\n",
              "    background-color: var(--disabled-bg-color);\n",
              "    fill: var(--disabled-fill-color);\n",
              "    box-shadow: none;\n",
              "  }\n",
              "\n",
              "  .colab-df-spinner {\n",
              "    border: 2px solid var(--fill-color);\n",
              "    border-color: transparent;\n",
              "    border-bottom-color: var(--fill-color);\n",
              "    animation:\n",
              "      spin 1s steps(1) infinite;\n",
              "  }\n",
              "\n",
              "  @keyframes spin {\n",
              "    0% {\n",
              "      border-color: transparent;\n",
              "      border-bottom-color: var(--fill-color);\n",
              "      border-left-color: var(--fill-color);\n",
              "    }\n",
              "    20% {\n",
              "      border-color: transparent;\n",
              "      border-left-color: var(--fill-color);\n",
              "      border-top-color: var(--fill-color);\n",
              "    }\n",
              "    30% {\n",
              "      border-color: transparent;\n",
              "      border-left-color: var(--fill-color);\n",
              "      border-top-color: var(--fill-color);\n",
              "      border-right-color: var(--fill-color);\n",
              "    }\n",
              "    40% {\n",
              "      border-color: transparent;\n",
              "      border-right-color: var(--fill-color);\n",
              "      border-top-color: var(--fill-color);\n",
              "    }\n",
              "    60% {\n",
              "      border-color: transparent;\n",
              "      border-right-color: var(--fill-color);\n",
              "    }\n",
              "    80% {\n",
              "      border-color: transparent;\n",
              "      border-right-color: var(--fill-color);\n",
              "      border-bottom-color: var(--fill-color);\n",
              "    }\n",
              "    90% {\n",
              "      border-color: transparent;\n",
              "      border-bottom-color: var(--fill-color);\n",
              "    }\n",
              "  }\n",
              "</style>\n",
              "\n",
              "  <script>\n",
              "    async function quickchart(key) {\n",
              "      const quickchartButtonEl =\n",
              "        document.querySelector('#' + key + ' button');\n",
              "      quickchartButtonEl.disabled = true;  // To prevent multiple clicks.\n",
              "      quickchartButtonEl.classList.add('colab-df-spinner');\n",
              "      try {\n",
              "        const charts = await google.colab.kernel.invokeFunction(\n",
              "            'suggestCharts', [key], {});\n",
              "      } catch (error) {\n",
              "        console.error('Error during call to suggestCharts:', error);\n",
              "      }\n",
              "      quickchartButtonEl.classList.remove('colab-df-spinner');\n",
              "      quickchartButtonEl.classList.add('colab-df-quickchart-complete');\n",
              "    }\n",
              "    (() => {\n",
              "      let quickchartButtonEl =\n",
              "        document.querySelector('#df-bf5e0185-011f-4bb8-9a46-364be376e9f0 button');\n",
              "      quickchartButtonEl.style.display =\n",
              "        google.colab.kernel.accessAllowed ? 'block' : 'none';\n",
              "    })();\n",
              "  </script>\n",
              "</div>\n",
              "\n",
              "    </div>\n",
              "  </div>\n"
            ],
            "application/vnd.google.colaboratory.intrinsic+json": {
              "type": "dataframe",
              "variable_name": "data_train",
              "summary": "{\n  \"name\": \"data_train\",\n  \"rows\": 2344,\n  \"fields\": [\n    {\n      \"column\": \"SalePrice\",\n      \"properties\": {\n        \"dtype\": \"number\",\n        \"std\": 77125,\n        \"min\": 12789,\n        \"max\": 755000,\n        \"num_unique_values\": 887,\n        \"samples\": [\n          130250,\n          124100,\n          383970\n        ],\n        \"semantic_type\": \"\",\n        \"description\": \"\"\n      }\n    },\n    {\n      \"column\": \"Neighborhood\",\n      \"properties\": {\n        \"dtype\": \"category\",\n        \"num_unique_values\": 28,\n        \"samples\": [\n          \"SawyerW\",\n          \"BrDale\",\n          \"Gilbert\"\n        ],\n        \"semantic_type\": \"\",\n        \"description\": \"\"\n      }\n    },\n    {\n      \"column\": \"HouseStyle\",\n      \"properties\": {\n        \"dtype\": \"category\",\n        \"num_unique_values\": 8,\n        \"samples\": [\n          \"2Story\",\n          \"1.5Unf\",\n          \"1Story\"\n        ],\n        \"semantic_type\": \"\",\n        \"description\": \"\"\n      }\n    },\n    {\n      \"column\": \"LotArea\",\n      \"properties\": {\n        \"dtype\": \"number\",\n        \"std\": 8050,\n        \"min\": 1300,\n        \"max\": 215245,\n        \"num_unique_values\": 1634,\n        \"samples\": [\n          6155,\n          8267,\n          6845\n        ],\n        \"semantic_type\": \"\",\n        \"description\": \"\"\n      }\n    },\n    {\n      \"column\": \"GrLivArea\",\n      \"properties\": {\n        \"dtype\": \"number\",\n        \"std\": 504,\n        \"min\": 334,\n        \"max\": 5642,\n        \"num_unique_values\": 1143,\n        \"samples\": [\n          1210,\n          1321,\n          1577\n        ],\n        \"semantic_type\": \"\",\n        \"description\": \"\"\n      }\n    },\n    {\n      \"column\": \"FullBath\",\n      \"properties\": {\n        \"dtype\": \"number\",\n        \"std\": 0,\n        \"min\": 0,\n        \"max\": 4,\n        \"num_unique_values\": 5,\n        \"samples\": [\n          1,\n          4,\n          3\n        ],\n        \"semantic_type\": \"\",\n        \"description\": \"\"\n      }\n    },\n    {\n      \"column\": \"BedroomAbvGr\",\n      \"properties\": {\n        \"dtype\": \"number\",\n        \"std\": 0,\n        \"min\": 0,\n        \"max\": 8,\n        \"num_unique_values\": 8,\n        \"samples\": [\n          2,\n          6,\n          3\n        ],\n        \"semantic_type\": \"\",\n        \"description\": \"\"\n      }\n    },\n    {\n      \"column\": \"KitchenAbvGr\",\n      \"properties\": {\n        \"dtype\": \"number\",\n        \"std\": 0,\n        \"min\": 0,\n        \"max\": 3,\n        \"num_unique_values\": 4,\n        \"samples\": [\n          2,\n          3,\n          1\n        ],\n        \"semantic_type\": \"\",\n        \"description\": \"\"\n      }\n    },\n    {\n      \"column\": \"OverallQual\",\n      \"properties\": {\n        \"dtype\": \"number\",\n        \"std\": 1,\n        \"min\": 1,\n        \"max\": 10,\n        \"num_unique_values\": 10,\n        \"samples\": [\n          2,\n          5,\n          9\n        ],\n        \"semantic_type\": \"\",\n        \"description\": \"\"\n      }\n    },\n    {\n      \"column\": \"OverallCond\",\n      \"properties\": {\n        \"dtype\": \"number\",\n        \"std\": 1,\n        \"min\": 1,\n        \"max\": 9,\n        \"num_unique_values\": 9,\n        \"samples\": [\n          1,\n          6,\n          9\n        ],\n        \"semantic_type\": \"\",\n        \"description\": \"\"\n      }\n    }\n  ]\n}"
            }
          },
          "metadata": {},
          "execution_count": 10
        }
      ],
      "source": [
        "data_train.head()"
      ]
    },
    {
      "cell_type": "markdown",
      "metadata": {
        "id": "cUqVaKCV1UmI"
      },
      "source": [
        "## Exploratory data analysis"
      ]
    },
    {
      "cell_type": "markdown",
      "metadata": {
        "id": "MwxIyM_O1UmI"
      },
      "source": [
        "### Descriptive summary statistics"
      ]
    },
    {
      "cell_type": "markdown",
      "metadata": {
        "id": "k8d7jX_c1UmI"
      },
      "source": [
        "We can quickly calculate the most important summary statistics for a variable with *describe()*."
      ]
    },
    {
      "cell_type": "code",
      "execution_count": 11,
      "metadata": {
        "id": "JxQOnLMe1UmJ",
        "outputId": "77768006-19e3-48b0-ed8e-572b1de44fe8",
        "colab": {
          "base_uri": "https://localhost:8080/",
          "height": 355
        }
      },
      "outputs": [
        {
          "output_type": "execute_result",
          "data": {
            "text/plain": [
              "count      2344.000000\n",
              "mean     178582.207765\n",
              "std       77125.072713\n",
              "min       12789.000000\n",
              "25%      129000.000000\n",
              "50%      160000.000000\n",
              "75%      210000.000000\n",
              "max      755000.000000\n",
              "Name: SalePrice, dtype: float64"
            ],
            "text/html": [
              "<div>\n",
              "<style scoped>\n",
              "    .dataframe tbody tr th:only-of-type {\n",
              "        vertical-align: middle;\n",
              "    }\n",
              "\n",
              "    .dataframe tbody tr th {\n",
              "        vertical-align: top;\n",
              "    }\n",
              "\n",
              "    .dataframe thead th {\n",
              "        text-align: right;\n",
              "    }\n",
              "</style>\n",
              "<table border=\"1\" class=\"dataframe\">\n",
              "  <thead>\n",
              "    <tr style=\"text-align: right;\">\n",
              "      <th></th>\n",
              "      <th>SalePrice</th>\n",
              "    </tr>\n",
              "  </thead>\n",
              "  <tbody>\n",
              "    <tr>\n",
              "      <th>count</th>\n",
              "      <td>2344.000000</td>\n",
              "    </tr>\n",
              "    <tr>\n",
              "      <th>mean</th>\n",
              "      <td>178582.207765</td>\n",
              "    </tr>\n",
              "    <tr>\n",
              "      <th>std</th>\n",
              "      <td>77125.072713</td>\n",
              "    </tr>\n",
              "    <tr>\n",
              "      <th>min</th>\n",
              "      <td>12789.000000</td>\n",
              "    </tr>\n",
              "    <tr>\n",
              "      <th>25%</th>\n",
              "      <td>129000.000000</td>\n",
              "    </tr>\n",
              "    <tr>\n",
              "      <th>50%</th>\n",
              "      <td>160000.000000</td>\n",
              "    </tr>\n",
              "    <tr>\n",
              "      <th>75%</th>\n",
              "      <td>210000.000000</td>\n",
              "    </tr>\n",
              "    <tr>\n",
              "      <th>max</th>\n",
              "      <td>755000.000000</td>\n",
              "    </tr>\n",
              "  </tbody>\n",
              "</table>\n",
              "</div><br><label><b>dtype:</b> float64</label>"
            ]
          },
          "metadata": {},
          "execution_count": 11
        }
      ],
      "source": [
        "data_train[\"SalePrice\"].describe()"
      ]
    },
    {
      "cell_type": "markdown",
      "metadata": {
        "id": "9gOpFdj61UmJ"
      },
      "source": [
        "### Visualize distribution of single variables\n",
        "In the following, we will use histograms and density plots to get a feeling of the distribution of our main variables. See https://seaborn.pydata.org/generated/seaborn.displot.html#seaborn.displot for more information."
      ]
    },
    {
      "cell_type": "markdown",
      "metadata": {
        "id": "476sXFLn1UmJ"
      },
      "source": [
        "Let's first look at the dependent variable (*SalePrice*)."
      ]
    },
    {
      "cell_type": "code",
      "execution_count": 12,
      "metadata": {
        "id": "cp40iVY51UmJ",
        "outputId": "07474a64-309d-498e-b113-0a02701c6b41",
        "colab": {
          "base_uri": "https://localhost:8080/",
          "height": 514
        }
      },
      "outputs": [
        {
          "output_type": "display_data",
          "data": {
            "text/plain": [
              "<Figure size 500x500 with 1 Axes>"
            ],
            "image/png": "[encoded data removed]"
          },
          "metadata": {}
        }
      ],
      "source": [
        "sns.displot(data_train, x=\"SalePrice\", kde=True)\n",
        "plt.show()"
      ]
    },
    {
      "cell_type": "markdown",
      "metadata": {
        "id": "oMySwITh1UmK"
      },
      "source": [
        "Let's look at some numerical independent variables. We will start with *GrLivArea*."
      ]
    },
    {
      "cell_type": "code",
      "execution_count": 13,
      "metadata": {
        "id": "aiIFSfYM1UmK",
        "outputId": "3c05413b-54d4-4db4-8a0b-515b18e05cd9",
        "colab": {
          "base_uri": "https://localhost:8080/",
          "height": 514
        }
      },
      "outputs": [
        {
          "output_type": "display_data",
          "data": {
            "text/plain": [
              "<Figure size 500x500 with 1 Axes>"
            ],
            "image/png": "[encoded data removed]"
          },
          "metadata": {}
        }
      ],
      "source": [
        "sns.displot(data_train, x=\"GrLivArea\", kde=True)\n",
        "plt.show()"
      ]
    },
    {
      "cell_type": "markdown",
      "metadata": {
        "id": "oWCABOD_1UmK"
      },
      "source": [
        "Next, let's look at the variable *OverallQual*."
      ]
    },
    {
      "cell_type": "code",
      "execution_count": 14,
      "metadata": {
        "id": "c7cqUl2Q1UmL",
        "outputId": "b79bc190-9c11-48f4-f6c0-edf517870cff",
        "colab": {
          "base_uri": "https://localhost:8080/",
          "height": 515
        }
      },
      "outputs": [
        {
          "output_type": "display_data",
          "data": {
            "text/plain": [
              "<Figure size 500x500 with 1 Axes>"
            ],
            "image/png": "[encoded data removed]"
          },
          "metadata": {}
        }
      ],
      "source": [
        "sns.displot(data_train, x=\"OverallQual\", kde=True)\n",
        "plt.show()"
      ]
    },
    {
      "cell_type": "markdown",
      "metadata": {
        "id": "5JywB1Jh1UmL"
      },
      "source": [
        "We can also visualize the distribution of categorical variables using *catplot()*. See https://seaborn.pydata.org/generated/seaborn.catplot.html#seaborn.catplot for more information."
      ]
    },
    {
      "cell_type": "markdown",
      "metadata": {
        "id": "BseQdoEu1UmL"
      },
      "source": [
        "Let's start with *Neighborhood*."
      ]
    },
    {
      "cell_type": "code",
      "execution_count": null,
      "metadata": {
        "id": "Bg5n4o921UmM"
      },
      "outputs": [],
      "source": [
        "sns.catplot(data_train, x=\"Neighborhood\", kind=\"count\")\n",
        "plt.xticks(rotation=90)\n",
        "plt.show()"
      ]
    },
    {
      "cell_type": "markdown",
      "metadata": {
        "id": "ApFUij761UmM"
      },
      "source": [
        "Let's do the same for *HouseStyle*."
      ]
    },
    {
      "cell_type": "code",
      "execution_count": null,
      "metadata": {
        "id": "7WMfW8AZ1UmM"
      },
      "outputs": [],
      "source": [
        "# YOUR CODE HERE"
      ]
    },
    {
      "cell_type": "markdown",
      "metadata": {
        "id": "jF94HEHQ1UmM"
      },
      "source": [
        "### Visualize the relationship between the dependent variable (i.e., SalePrice) and numerical independent variables.\n",
        "\n",
        "In the following, we will use scatter plots with linear trend lines to visually explore the relationship between *SalePrice* (Y axis) and various numerical independent variable (X axis). See https://seaborn.pydata.org/generated/seaborn.relplot.html#seaborn.relplot for more information."
      ]
    },
    {
      "cell_type": "markdown",
      "metadata": {
        "id": "Ftqtvzu31UmM"
      },
      "source": [
        "*SalePrice* and *LotArea*."
      ]
    },
    {
      "cell_type": "code",
      "execution_count": null,
      "metadata": {
        "id": "CYlXO5B-1UmN"
      },
      "outputs": [],
      "source": [
        "sns.relplot(data=data_train, x=\"LotArea\", y=\"SalePrice\", alpha=0.3)\n",
        "plt.show()"
      ]
    },
    {
      "cell_type": "markdown",
      "metadata": {
        "id": "O9J9Nxsp1UmN"
      },
      "source": [
        "The function *regplot()* is an alternative to *relplot()* that includes a linear regression model fit that can be drawn on the plot. See https://seaborn.pydata.org/generated/seaborn.regplot.html#seaborn.regplot for more information."
      ]
    },
    {
      "cell_type": "code",
      "execution_count": null,
      "metadata": {
        "id": "aKPTVUNP1UmN"
      },
      "outputs": [],
      "source": [
        "sns.regplot(data=data_train, x=\"GrLivArea\", y=\"SalePrice\", scatter_kws={'alpha':0.3}, line_kws={'color': 'red'})\n",
        "plt.show()"
      ]
    },
    {
      "cell_type": "markdown",
      "metadata": {
        "id": "iwkhqssh1UmN"
      },
      "source": [
        "### Visualize the relationship between the dependent variable (i.e., SalePrice) and categorical independent variables.\n",
        "\n",
        "In the following, we will use multiple box plots to visually explore the relationship between *SalePrice* (Y axis) and various categorical independent variable (X axis).\n"
      ]
    },
    {
      "cell_type": "markdown",
      "metadata": {
        "id": "zKl0Mdfg1UmN"
      },
      "source": [
        "*SalePrice* and *OverallQual*."
      ]
    },
    {
      "cell_type": "code",
      "execution_count": null,
      "metadata": {
        "id": "3QxfUOHE1UmO"
      },
      "outputs": [],
      "source": [
        "sns.catplot(data=data_train, x=\"OverallQual\", y=\"SalePrice\", kind=\"box\")\n",
        "plt.show()"
      ]
    },
    {
      "cell_type": "markdown",
      "metadata": {
        "id": "Q4g1i3sE1UmO"
      },
      "source": [
        "*SalePrice* and *OverallCond*."
      ]
    },
    {
      "cell_type": "code",
      "execution_count": null,
      "metadata": {
        "id": "4MW5xMD81Umw"
      },
      "outputs": [],
      "source": [
        "# YOUR CODE HERE"
      ]
    },
    {
      "cell_type": "markdown",
      "metadata": {
        "id": "8OizTax-1Umx"
      },
      "source": [
        "Violin plots are similar to box plots, except that they also show the probability density of the data at different values."
      ]
    },
    {
      "cell_type": "code",
      "execution_count": null,
      "metadata": {
        "id": "AABca3ms1Umy"
      },
      "outputs": [],
      "source": [
        "sns.catplot(data=data_train, x=\"OverallCond\", y=\"SalePrice\", kind=\"violin\", height=5, aspect=2)\n",
        "plt.xticks(rotation=90)\n",
        "plt.show()"
      ]
    },
    {
      "cell_type": "markdown",
      "metadata": {
        "id": "WEAE99Jn1Umz"
      },
      "source": [
        "## Train linear models\n",
        "\n",
        "After getting a feeling for the data, we are now ready to fit some linear regression models. We will use the *statsmodels* package, esp. the the formula API to be able to specify R-style formulas. See https://www.statsmodels.org/dev/example_formulas.html for more information."
      ]
    },
    {
      "cell_type": "markdown",
      "metadata": {
        "id": "wfaiVh621Umz"
      },
      "source": [
        "#### Simple linear regression models"
      ]
    },
    {
      "cell_type": "markdown",
      "metadata": {
        "id": "f8yC0Eak1Um0"
      },
      "source": [
        "Let's start with a simple model that includes only one independent variable, e.g., *GrLivArea*."
      ]
    },
    {
      "cell_type": "code",
      "execution_count": null,
      "metadata": {
        "id": "eigPNMlr1Um0"
      },
      "outputs": [],
      "source": [
        "mod_01 = smf.ols(formula='SalePrice ~ GrLivArea', data=data_train)\n",
        "mod_01 = mod_01.fit()\n",
        "print(mod_01.summary())"
      ]
    },
    {
      "cell_type": "markdown",
      "metadata": {
        "id": "VxRrnjrv1Um0"
      },
      "source": [
        "Create a simple linear regression model with *BedroomAbvGr* as the only independent variable."
      ]
    },
    {
      "cell_type": "code",
      "execution_count": null,
      "metadata": {
        "id": "RMCjcFz61Um1"
      },
      "outputs": [],
      "source": [
        "# YOUR CODE HERE"
      ]
    },
    {
      "cell_type": "markdown",
      "metadata": {
        "id": "XoHYDfyZ1Um1"
      },
      "source": [
        "#### Multiple linear regression models"
      ]
    },
    {
      "cell_type": "markdown",
      "metadata": {
        "id": "NtASn0sN1Um1"
      },
      "source": [
        "Let's create a multiple linear regression model with both *GrLivArea* and *BedroomAbvGr* as independent variables."
      ]
    },
    {
      "cell_type": "code",
      "execution_count": null,
      "metadata": {
        "id": "ATXeuTP91Um1"
      },
      "outputs": [],
      "source": [
        "mod_03 = smf.ols(formula='SalePrice ~ GrLivArea + BedroomAbvGr', data=data_train)\n",
        "mod_03 = mod_03.fit()\n",
        "print(mod_03.summary2())"
      ]
    },
    {
      "cell_type": "markdown",
      "metadata": {
        "id": "OxI4XWVy1Um1"
      },
      "source": [
        "#### Categorical independent variables"
      ]
    },
    {
      "cell_type": "markdown",
      "metadata": {
        "id": "LpsVw8sk1Um1"
      },
      "source": [
        "Fit a linear regression model with a categorical independent variable (*HouseStyle*)."
      ]
    },
    {
      "cell_type": "code",
      "execution_count": null,
      "metadata": {
        "id": "h7DDW6p-1Um1"
      },
      "outputs": [],
      "source": [
        "mod_04 = smf.ols(formula='SalePrice ~ GrLivArea + BedroomAbvGr + HouseStyle', data=data_train)\n",
        "mod_04 = mod_04.fit()\n",
        "print(mod_04.summary2())"
      ]
    },
    {
      "cell_type": "code",
      "execution_count": null,
      "metadata": {
        "id": "OAU3yOJY1Um2"
      },
      "outputs": [],
      "source": [
        "data_train[\"HouseStyle\"].value_counts()"
      ]
    },
    {
      "cell_type": "markdown",
      "metadata": {
        "id": "Vb2fihcE1Um2"
      },
      "source": [
        "#### Interaction effects"
      ]
    },
    {
      "cell_type": "markdown",
      "metadata": {
        "id": "6zMBXRgq1Um2"
      },
      "source": [
        "Fit a linear regression model with an interaction term between two numerical independent variables.\n"
      ]
    },
    {
      "cell_type": "code",
      "execution_count": null,
      "metadata": {
        "id": "Vec91Fro1Um2"
      },
      "outputs": [],
      "source": [
        "mod_05 = smf.ols(formula='SalePrice ~ GrLivArea * LotArea', data=data_train)\n",
        "mod_05 = mod_05.fit()\n",
        "print(mod_05.summary2())"
      ]
    },
    {
      "cell_type": "markdown",
      "metadata": {
        "id": "1ZPmJKqq1Um2"
      },
      "source": [
        "Fit a linear regression model with an interaction term between a categorical and numerical independent variable. In the formula API, the *C()* function can be used to indicate that a numerical variable should be treated as categorical."
      ]
    },
    {
      "cell_type": "code",
      "execution_count": null,
      "metadata": {
        "id": "lo4ocWsn1Um3"
      },
      "outputs": [],
      "source": [
        "mod_05 = smf.ols(formula='SalePrice ~ GrLivArea * C(OverallQual)', data=data_train)\n",
        "mod_05 = mod_05.fit()\n",
        "print(mod_05.summary2())"
      ]
    },
    {
      "cell_type": "markdown",
      "metadata": {
        "id": "JcW19bnO1Um3"
      },
      "source": [
        "#### Log-transformation of the DV"
      ]
    },
    {
      "cell_type": "markdown",
      "metadata": {
        "id": "D1snHCgI1Um3"
      },
      "source": [
        "Fit a linear regression model with a logarithmic transformation of the dependent variable. With *np.log()* we can specify the transformation on the fly.\n"
      ]
    },
    {
      "cell_type": "code",
      "execution_count": null,
      "metadata": {
        "id": "Uhucy5wq1Um3"
      },
      "outputs": [],
      "source": [
        "mod_07a = smf.ols(formula='np.log(SalePrice) ~ BedroomAbvGr', data=data_train)\n",
        "mod_07a = mod_07a.fit()\n",
        "print(mod_07a.summary())"
      ]
    },
    {
      "cell_type": "markdown",
      "metadata": {
        "id": "9ZHtFKhU1Um3"
      },
      "source": [
        "For comparison, the same model without the log-transformation."
      ]
    },
    {
      "cell_type": "code",
      "execution_count": null,
      "metadata": {
        "id": "Wt1DHORn1Um3"
      },
      "outputs": [],
      "source": [
        "mod_07b = smf.ols(formula='SalePrice ~ BedroomAbvGr', data=data_train)\n",
        "mod_07b = mod_07b.fit()\n",
        "print(mod_07b.summary())"
      ]
    },
    {
      "cell_type": "markdown",
      "metadata": {
        "id": "aK6N9pc61Um4"
      },
      "source": [
        "#### Polynomial transformation of the IVs"
      ]
    },
    {
      "cell_type": "markdown",
      "metadata": {
        "id": "0b4UVDOJ1Um4"
      },
      "source": [
        "Fit a linear regression model with a second-order polynomial term (*GrLivArea*)"
      ]
    },
    {
      "cell_type": "code",
      "execution_count": null,
      "metadata": {
        "id": "tIPN6QM_1Um4"
      },
      "outputs": [],
      "source": [
        "mod_08 = smf.ols(formula='SalePrice ~ GrLivArea + GrLivArea^2', data=data_train)\n",
        "mod_08 = mod_08.fit()\n",
        "print(mod_08.summary())"
      ]
    },
    {
      "cell_type": "markdown",
      "metadata": {
        "id": "-ddYMR7w1Um4"
      },
      "source": [
        "### Make predicitons\n",
        "\n",
        "Use a trained model to make predictions for the test set."
      ]
    },
    {
      "cell_type": "code",
      "execution_count": null,
      "metadata": {
        "id": "fcMusjcs1Um4"
      },
      "outputs": [],
      "source": [
        "preds = mod_03.predict(data_test)\n",
        "preds"
      ]
    },
    {
      "cell_type": "markdown",
      "metadata": {
        "id": "dOcQreBw1Um4"
      },
      "source": [
        "Calculate the test set RMSE."
      ]
    },
    {
      "cell_type": "code",
      "execution_count": null,
      "metadata": {
        "id": "TUhI7FoW1Um4"
      },
      "outputs": [],
      "source": [
        "rmse = root_mean_squared_error(data_test[\"SalePrice\"], preds)\n",
        "print(rmse)"
      ]
    }
  ],
  "metadata": {
    "kernelspec": {
      "display_name": "prodok",
      "language": "python",
      "name": "python3"
    },
    "language_info": {
      "codemirror_mode": {
        "name": "ipython",
        "version": 3
      },
      "file_extension": ".py",
      "mimetype": "text/x-python",
      "name": "python",
      "nbconvert_exporter": "python",
      "pygments_lexer": "ipython3",
      "version": "3.12.1"
    },
    "colab": {
      "provenance": []
    }
  },
  "nbformat": 4,
  "nbformat_minor": 0
}