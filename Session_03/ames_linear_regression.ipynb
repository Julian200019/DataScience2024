{
  "cells": [
    {
      "cell_type": "markdown",
      "metadata": {
        "id": "ZX2lsDXk1Ul-"
      },
      "source": [
        "# Data Science for Business - Explaining House Prices"
      ]
    },
    {
      "cell_type": "markdown",
      "metadata": {
        "id": "fhW0nJgb1UmA"
      },
      "source": [
        "## Initialize notebook\n",
        "Load required packages. Set up workspace, e.g., set theme for plotting and initialize the random number generator."
      ]
    },
    {
      "cell_type": "code",
      "execution_count": 1,
      "metadata": {
        "id": "jXs58Kkg1UmB"
      },
      "outputs": [],
      "source": [
        "import warnings\n",
        "warnings.simplefilter('ignore')\n",
        "\n",
        "import numpy as np\n",
        "import pandas as pd\n",
        "from matplotlib import pyplot as plt\n",
        "import seaborn as sns\n",
        "from sklearn.metrics import root_mean_squared_error\n",
        "from sklearn.model_selection import train_test_split\n",
        "import statsmodels.api as sm\n",
        "import statsmodels.formula.api as smf"
      ]
    },
    {
      "cell_type": "code",
      "execution_count": 2,
      "metadata": {
        "id": "CYqyArof1UmC"
      },
      "outputs": [],
      "source": [
        "np.random.seed(42)\n",
        "plt.style.use('fivethirtyeight')"
      ]
    },
    {
      "cell_type": "markdown",
      "metadata": {
        "id": "7ETHAKU41UmC"
      },
      "source": [
        "## Case description\n",
        "\n",
        "### Real Estate Appraisal\n",
        "\n",
        "Ask a home buyer to describe their dream house, and they probably won't begin with the height of the basement ceiling or the proximity to an east-west railroad. But this dataset proves that much more influences price negotiations than the number of bedrooms or a white-picket fence. With 76 explanatory variables describing (almost) every aspect of residential homes in Ames, Iowa, this dataset challenges you to explain the final price of each home. More: <https://www.kaggle.com/c/house-prices-advanced-regression-techniques>\n"
      ]
    },
    {
      "cell_type": "markdown",
      "metadata": {
        "id": "rZoU5Ja-1UmC"
      },
      "source": [
        "## Load data\n",
        "\n",
        "Load data from CSV file."
      ]
    },
    {
      "cell_type": "code",
      "execution_count": 3,
      "metadata": {
        "id": "yfnQTHqg1UmC"
      },
      "outputs": [],
      "source": [
        "data = pd.read_csv('https://raw.githubusercontent.com/olivermueller/ds4b-2024/refs/heads/main/Session_03/ameshousing.csv')"
      ]
    },
    {
      "cell_type": "code",
      "source": [
        "data.head(10)"
      ],
      "metadata": {
        "colab": {
          "base_uri": "https://localhost:8080/",
          "height": 412
        },
        "id": "-qPnJsZb1kQc",
        "outputId": "5756f18b-36c9-4487-93a6-730baf1e1224"
      },
      "execution_count": 4,
      "outputs": [
        {
          "output_type": "execute_result",
          "data": {
            "text/plain": [
              "   MSSubClass MSZoning  LotFrontage  LotArea Street Alley LotShape  \\\n",
              "0          20       RL          141    31770   Pave  none      IR1   \n",
              "1          20       RH           80    11622   Pave  none      Reg   \n",
              "2          20       RL           81    14267   Pave  none      IR1   \n",
              "3          20       RL           93    11160   Pave  none      Reg   \n",
              "4          60       RL           74    13830   Pave  none      IR1   \n",
              "5          60       RL           78     9978   Pave  none      IR1   \n",
              "6         120       RL           41     4920   Pave  none      Reg   \n",
              "7         120       RL           43     5005   Pave  none      IR1   \n",
              "8         120       RL           39     5389   Pave  none      IR1   \n",
              "9          60       RL           60     7500   Pave  none      Reg   \n",
              "\n",
              "  LandContour Utilities LotConfig  ... ThreeSsnPorch ScreenPorch PoolArea  \\\n",
              "0         Lvl    AllPub    Corner  ...             0           0        0   \n",
              "1         Lvl    AllPub    Inside  ...             0         120        0   \n",
              "2         Lvl    AllPub    Corner  ...             0           0        0   \n",
              "3         Lvl    AllPub    Corner  ...             0           0        0   \n",
              "4         Lvl    AllPub    Inside  ...             0           0        0   \n",
              "5         Lvl    AllPub    Inside  ...             0           0        0   \n",
              "6         Lvl    AllPub    Inside  ...             0           0        0   \n",
              "7         HLS    AllPub    Inside  ...             0         144        0   \n",
              "8         Lvl    AllPub    Inside  ...             0           0        0   \n",
              "9         Lvl    AllPub    Inside  ...             0           0        0   \n",
              "\n",
              "   Fence MiscVal MoSold  YrSold  SaleType  SaleCondition  SalePrice  \n",
              "0   none       0      5    2010        WD         Normal     215000  \n",
              "1  MnPrv       0      6    2010        WD         Normal     105000  \n",
              "2   none   12500      6    2010        WD         Normal     172000  \n",
              "3   none       0      4    2010        WD         Normal     244000  \n",
              "4  MnPrv       0      3    2010        WD         Normal     189900  \n",
              "5   none       0      6    2010        WD         Normal     195500  \n",
              "6   none       0      4    2010        WD         Normal     213500  \n",
              "7   none       0      1    2010        WD         Normal     191500  \n",
              "8   none       0      3    2010        WD         Normal     236500  \n",
              "9   none       0      6    2010        WD         Normal     189000  \n",
              "\n",
              "[10 rows x 77 columns]"
            ],
            "text/html": [
              "\n",
              "  <div id=\"df-23f9ec0b-b757-45a2-91e6-bd5ec1b91f88\" class=\"colab-df-container\">\n",
              "    <div>\n",
              "<style scoped>\n",
              "    .dataframe tbody tr th:only-of-type {\n",
              "        vertical-align: middle;\n",
              "    }\n",
              "\n",
              "    .dataframe tbody tr th {\n",
              "        vertical-align: top;\n",
              "    }\n",
              "\n",
              "    .dataframe thead th {\n",
              "        text-align: right;\n",
              "    }\n",
              "</style>\n",
              "<table border=\"1\" class=\"dataframe\">\n",
              "  <thead>\n",
              "    <tr style=\"text-align: right;\">\n",
              "      <th></th>\n",
              "      <th>MSSubClass</th>\n",
              "      <th>MSZoning</th>\n",
              "      <th>LotFrontage</th>\n",
              "      <th>LotArea</th>\n",
              "      <th>Street</th>\n",
              "      <th>Alley</th>\n",
              "      <th>LotShape</th>\n",
              "      <th>LandContour</th>\n",
              "      <th>Utilities</th>\n",
              "      <th>LotConfig</th>\n",
              "      <th>...</th>\n",
              "      <th>ThreeSsnPorch</th>\n",
              "      <th>ScreenPorch</th>\n",
              "      <th>PoolArea</th>\n",
              "      <th>Fence</th>\n",
              "      <th>MiscVal</th>\n",
              "      <th>MoSold</th>\n",
              "      <th>YrSold</th>\n",
              "      <th>SaleType</th>\n",
              "      <th>SaleCondition</th>\n",
              "      <th>SalePrice</th>\n",
              "    </tr>\n",
              "  </thead>\n",
              "  <tbody>\n",
              "    <tr>\n",
              "      <th>0</th>\n",
              "      <td>20</td>\n",
              "      <td>RL</td>\n",
              "      <td>141</td>\n",
              "      <td>31770</td>\n",
              "      <td>Pave</td>\n",
              "      <td>none</td>\n",
              "      <td>IR1</td>\n",
              "      <td>Lvl</td>\n",
              "      <td>AllPub</td>\n",
              "      <td>Corner</td>\n",
              "      <td>...</td>\n",
              "      <td>0</td>\n",
              "      <td>0</td>\n",
              "      <td>0</td>\n",
              "      <td>none</td>\n",
              "      <td>0</td>\n",
              "      <td>5</td>\n",
              "      <td>2010</td>\n",
              "      <td>WD</td>\n",
              "      <td>Normal</td>\n",
              "      <td>215000</td>\n",
              "    </tr>\n",
              "    <tr>\n",
              "      <th>1</th>\n",
              "      <td>20</td>\n",
              "      <td>RH</td>\n",
              "      <td>80</td>\n",
              "      <td>11622</td>\n",
              "      <td>Pave</td>\n",
              "      <td>none</td>\n",
              "      <td>Reg</td>\n",
              "      <td>Lvl</td>\n",
              "      <td>AllPub</td>\n",
              "      <td>Inside</td>\n",
              "      <td>...</td>\n",
              "      <td>0</td>\n",
              "      <td>120</td>\n",
              "      <td>0</td>\n",
              "      <td>MnPrv</td>\n",
              "      <td>0</td>\n",
              "      <td>6</td>\n",
              "      <td>2010</td>\n",
              "      <td>WD</td>\n",
              "      <td>Normal</td>\n",
              "      <td>105000</td>\n",
              "    </tr>\n",
              "    <tr>\n",
              "      <th>2</th>\n",
              "      <td>20</td>\n",
              "      <td>RL</td>\n",
              "      <td>81</td>\n",
              "      <td>14267</td>\n",
              "      <td>Pave</td>\n",
              "      <td>none</td>\n",
              "      <td>IR1</td>\n",
              "      <td>Lvl</td>\n",
              "      <td>AllPub</td>\n",
              "      <td>Corner</td>\n",
              "      <td>...</td>\n",
              "      <td>0</td>\n",
              "      <td>0</td>\n",
              "      <td>0</td>\n",
              "      <td>none</td>\n",
              "      <td>12500</td>\n",
              "      <td>6</td>\n",
              "      <td>2010</td>\n",
              "      <td>WD</td>\n",
              "      <td>Normal</td>\n",
              "      <td>172000</td>\n",
              "    </tr>\n",
              "    <tr>\n",
              "      <th>3</th>\n",
              "      <td>20</td>\n",
              "      <td>RL</td>\n",
              "      <td>93</td>\n",
              "      <td>11160</td>\n",
              "      <td>Pave</td>\n",
              "      <td>none</td>\n",
              "      <td>Reg</td>\n",
              "      <td>Lvl</td>\n",
              "      <td>AllPub</td>\n",
              "      <td>Corner</td>\n",
              "      <td>...</td>\n",
              "      <td>0</td>\n",
              "      <td>0</td>\n",
              "      <td>0</td>\n",
              "      <td>none</td>\n",
              "      <td>0</td>\n",
              "      <td>4</td>\n",
              "      <td>2010</td>\n",
              "      <td>WD</td>\n",
              "      <td>Normal</td>\n",
              "      <td>244000</td>\n",
              "    </tr>\n",
              "    <tr>\n",
              "      <th>4</th>\n",
              "      <td>60</td>\n",
              "      <td>RL</td>\n",
              "      <td>74</td>\n",
              "      <td>13830</td>\n",
              "      <td>Pave</td>\n",
              "      <td>none</td>\n",
              "      <td>IR1</td>\n",
              "      <td>Lvl</td>\n",
              "      <td>AllPub</td>\n",
              "      <td>Inside</td>\n",
              "      <td>...</td>\n",
              "      <td>0</td>\n",
              "      <td>0</td>\n",
              "      <td>0</td>\n",
              "      <td>MnPrv</td>\n",
              "      <td>0</td>\n",
              "      <td>3</td>\n",
              "      <td>2010</td>\n",
              "      <td>WD</td>\n",
              "      <td>Normal</td>\n",
              "      <td>189900</td>\n",
              "    </tr>\n",
              "    <tr>\n",
              "      <th>5</th>\n",
              "      <td>60</td>\n",
              "      <td>RL</td>\n",
              "      <td>78</td>\n",
              "      <td>9978</td>\n",
              "      <td>Pave</td>\n",
              "      <td>none</td>\n",
              "      <td>IR1</td>\n",
              "      <td>Lvl</td>\n",
              "      <td>AllPub</td>\n",
              "      <td>Inside</td>\n",
              "      <td>...</td>\n",
              "      <td>0</td>\n",
              "      <td>0</td>\n",
              "      <td>0</td>\n",
              "      <td>none</td>\n",
              "      <td>0</td>\n",
              "      <td>6</td>\n",
              "      <td>2010</td>\n",
              "      <td>WD</td>\n",
              "      <td>Normal</td>\n",
              "      <td>195500</td>\n",
              "    </tr>\n",
              "    <tr>\n",
              "      <th>6</th>\n",
              "      <td>120</td>\n",
              "      <td>RL</td>\n",
              "      <td>41</td>\n",
              "      <td>4920</td>\n",
              "      <td>Pave</td>\n",
              "      <td>none</td>\n",
              "      <td>Reg</td>\n",
              "      <td>Lvl</td>\n",
              "      <td>AllPub</td>\n",
              "      <td>Inside</td>\n",
              "      <td>...</td>\n",
              "      <td>0</td>\n",
              "      <td>0</td>\n",
              "      <td>0</td>\n",
              "      <td>none</td>\n",
              "      <td>0</td>\n",
              "      <td>4</td>\n",
              "      <td>2010</td>\n",
              "      <td>WD</td>\n",
              "      <td>Normal</td>\n",
              "      <td>213500</td>\n",
              "    </tr>\n",
              "    <tr>\n",
              "      <th>7</th>\n",
              "      <td>120</td>\n",
              "      <td>RL</td>\n",
              "      <td>43</td>\n",
              "      <td>5005</td>\n",
              "      <td>Pave</td>\n",
              "      <td>none</td>\n",
              "      <td>IR1</td>\n",
              "      <td>HLS</td>\n",
              "      <td>AllPub</td>\n",
              "      <td>Inside</td>\n",
              "      <td>...</td>\n",
              "      <td>0</td>\n",
              "      <td>144</td>\n",
              "      <td>0</td>\n",
              "      <td>none</td>\n",
              "      <td>0</td>\n",
              "      <td>1</td>\n",
              "      <td>2010</td>\n",
              "      <td>WD</td>\n",
              "      <td>Normal</td>\n",
              "      <td>191500</td>\n",
              "    </tr>\n",
              "    <tr>\n",
              "      <th>8</th>\n",
              "      <td>120</td>\n",
              "      <td>RL</td>\n",
              "      <td>39</td>\n",
              "      <td>5389</td>\n",
              "      <td>Pave</td>\n",
              "      <td>none</td>\n",
              "      <td>IR1</td>\n",
              "      <td>Lvl</td>\n",
              "      <td>AllPub</td>\n",
              "      <td>Inside</td>\n",
              "      <td>...</td>\n",
              "      <td>0</td>\n",
              "      <td>0</td>\n",
              "      <td>0</td>\n",
              "      <td>none</td>\n",
              "      <td>0</td>\n",
              "      <td>3</td>\n",
              "      <td>2010</td>\n",
              "      <td>WD</td>\n",
              "      <td>Normal</td>\n",
              "      <td>236500</td>\n",
              "    </tr>\n",
              "    <tr>\n",
              "      <th>9</th>\n",
              "      <td>60</td>\n",
              "      <td>RL</td>\n",
              "      <td>60</td>\n",
              "      <td>7500</td>\n",
              "      <td>Pave</td>\n",
              "      <td>none</td>\n",
              "      <td>Reg</td>\n",
              "      <td>Lvl</td>\n",
              "      <td>AllPub</td>\n",
              "      <td>Inside</td>\n",
              "      <td>...</td>\n",
              "      <td>0</td>\n",
              "      <td>0</td>\n",
              "      <td>0</td>\n",
              "      <td>none</td>\n",
              "      <td>0</td>\n",
              "      <td>6</td>\n",
              "      <td>2010</td>\n",
              "      <td>WD</td>\n",
              "      <td>Normal</td>\n",
              "      <td>189000</td>\n",
              "    </tr>\n",
              "  </tbody>\n",
              "</table>\n",
              "<p>10 rows × 77 columns</p>\n",
              "</div>\n",
              "    <div class=\"colab-df-buttons\">\n",
              "\n",
              "  <div class=\"colab-df-container\">\n",
              "    <button class=\"colab-df-convert\" onclick=\"convertToInteractive('df-23f9ec0b-b757-45a2-91e6-bd5ec1b91f88')\"\n",
              "            title=\"Convert this dataframe to an interactive table.\"\n",
              "            style=\"display:none;\">\n",
              "\n",
              "  <svg xmlns=\"http://www.w3.org/2000/svg\" height=\"24px\" viewBox=\"0 -960 960 960\">\n",
              "    <path d=\"M120-120v-720h720v720H120Zm60-500h600v-160H180v160Zm220 220h160v-160H400v160Zm0 220h160v-160H400v160ZM180-400h160v-160H180v160Zm440 0h160v-160H620v160ZM180-180h160v-160H180v160Zm440 0h160v-160H620v160Z\"/>\n",
              "  </svg>\n",
              "    </button>\n",
              "\n",
              "  <style>\n",
              "    .colab-df-container {\n",
              "      display:flex;\n",
              "      gap: 12px;\n",
              "    }\n",
              "\n",
              "    .colab-df-convert {\n",
              "      background-color: #E8F0FE;\n",
              "      border: none;\n",
              "      border-radius: 50%;\n",
              "      cursor: pointer;\n",
              "      display: none;\n",
              "      fill: #1967D2;\n",
              "      height: 32px;\n",
              "      padding: 0 0 0 0;\n",
              "      width: 32px;\n",
              "    }\n",
              "\n",
              "    .colab-df-convert:hover {\n",
              "      background-color: #E2EBFA;\n",
              "      box-shadow: 0px 1px 2px rgba(60, 64, 67, 0.3), 0px 1px 3px 1px rgba(60, 64, 67, 0.15);\n",
              "      fill: #174EA6;\n",
              "    }\n",
              "\n",
              "    .colab-df-buttons div {\n",
              "      margin-bottom: 4px;\n",
              "    }\n",
              "\n",
              "    [theme=dark] .colab-df-convert {\n",
              "      background-color: #3B4455;\n",
              "      fill: #D2E3FC;\n",
              "    }\n",
              "\n",
              "    [theme=dark] .colab-df-convert:hover {\n",
              "      background-color: #434B5C;\n",
              "      box-shadow: 0px 1px 3px 1px rgba(0, 0, 0, 0.15);\n",
              "      filter: drop-shadow(0px 1px 2px rgba(0, 0, 0, 0.3));\n",
              "      fill: #FFFFFF;\n",
              "    }\n",
              "  </style>\n",
              "\n",
              "    <script>\n",
              "      const buttonEl =\n",
              "        document.querySelector('#df-23f9ec0b-b757-45a2-91e6-bd5ec1b91f88 button.colab-df-convert');\n",
              "      buttonEl.style.display =\n",
              "        google.colab.kernel.accessAllowed ? 'block' : 'none';\n",
              "\n",
              "      async function convertToInteractive(key) {\n",
              "        const element = document.querySelector('#df-23f9ec0b-b757-45a2-91e6-bd5ec1b91f88');\n",
              "        const dataTable =\n",
              "          await google.colab.kernel.invokeFunction('convertToInteractive',\n",
              "                                                    [key], {});\n",
              "        if (!dataTable) return;\n",
              "\n",
              "        const docLinkHtml = 'Like what you see? Visit the ' +\n",
              "          '<a target=\"_blank\" href=https://colab.research.google.com/notebooks/data_table.ipynb>data table notebook</a>'\n",
              "          + ' to learn more about interactive tables.';\n",
              "        element.innerHTML = '';\n",
              "        dataTable['output_type'] = 'display_data';\n",
              "        await google.colab.output.renderOutput(dataTable, element);\n",
              "        const docLink = document.createElement('div');\n",
              "        docLink.innerHTML = docLinkHtml;\n",
              "        element.appendChild(docLink);\n",
              "      }\n",
              "    </script>\n",
              "  </div>\n",
              "\n",
              "\n",
              "<div id=\"df-be91a254-a30e-4b2c-89f4-1fd6151eaf05\">\n",
              "  <button class=\"colab-df-quickchart\" onclick=\"quickchart('df-be91a254-a30e-4b2c-89f4-1fd6151eaf05')\"\n",
              "            title=\"Suggest charts\"\n",
              "            style=\"display:none;\">\n",
              "\n",
              "<svg xmlns=\"http://www.w3.org/2000/svg\" height=\"24px\"viewBox=\"0 0 24 24\"\n",
              "     width=\"24px\">\n",
              "    <g>\n",
              "        <path d=\"M19 3H5c-1.1 0-2 .9-2 2v14c0 1.1.9 2 2 2h14c1.1 0 2-.9 2-2V5c0-1.1-.9-2-2-2zM9 17H7v-7h2v7zm4 0h-2V7h2v10zm4 0h-2v-4h2v4z\"/>\n",
              "    </g>\n",
              "</svg>\n",
              "  </button>\n",
              "\n",
              "<style>\n",
              "  .colab-df-quickchart {\n",
              "      --bg-color: #E8F0FE;\n",
              "      --fill-color: #1967D2;\n",
              "      --hover-bg-color: #E2EBFA;\n",
              "      --hover-fill-color: #174EA6;\n",
              "      --disabled-fill-color: #AAA;\n",
              "      --disabled-bg-color: #DDD;\n",
              "  }\n",
              "\n",
              "  [theme=dark] .colab-df-quickchart {\n",
              "      --bg-color: #3B4455;\n",
              "      --fill-color: #D2E3FC;\n",
              "      --hover-bg-color: #434B5C;\n",
              "      --hover-fill-color: #FFFFFF;\n",
              "      --disabled-bg-color: #3B4455;\n",
              "      --disabled-fill-color: #666;\n",
              "  }\n",
              "\n",
              "  .colab-df-quickchart {\n",
              "    background-color: var(--bg-color);\n",
              "    border: none;\n",
              "    border-radius: 50%;\n",
              "    cursor: pointer;\n",
              "    display: none;\n",
              "    fill: var(--fill-color);\n",
              "    height: 32px;\n",
              "    padding: 0;\n",
              "    width: 32px;\n",
              "  }\n",
              "\n",
              "  .colab-df-quickchart:hover {\n",
              "    background-color: var(--hover-bg-color);\n",
              "    box-shadow: 0 1px 2px rgba(60, 64, 67, 0.3), 0 1px 3px 1px rgba(60, 64, 67, 0.15);\n",
              "    fill: var(--button-hover-fill-color);\n",
              "  }\n",
              "\n",
              "  .colab-df-quickchart-complete:disabled,\n",
              "  .colab-df-quickchart-complete:disabled:hover {\n",
              "    background-color: var(--disabled-bg-color);\n",
              "    fill: var(--disabled-fill-color);\n",
              "    box-shadow: none;\n",
              "  }\n",
              "\n",
              "  .colab-df-spinner {\n",
              "    border: 2px solid var(--fill-color);\n",
              "    border-color: transparent;\n",
              "    border-bottom-color: var(--fill-color);\n",
              "    animation:\n",
              "      spin 1s steps(1) infinite;\n",
              "  }\n",
              "\n",
              "  @keyframes spin {\n",
              "    0% {\n",
              "      border-color: transparent;\n",
              "      border-bottom-color: var(--fill-color);\n",
              "      border-left-color: var(--fill-color);\n",
              "    }\n",
              "    20% {\n",
              "      border-color: transparent;\n",
              "      border-left-color: var(--fill-color);\n",
              "      border-top-color: var(--fill-color);\n",
              "    }\n",
              "    30% {\n",
              "      border-color: transparent;\n",
              "      border-left-color: var(--fill-color);\n",
              "      border-top-color: var(--fill-color);\n",
              "      border-right-color: var(--fill-color);\n",
              "    }\n",
              "    40% {\n",
              "      border-color: transparent;\n",
              "      border-right-color: var(--fill-color);\n",
              "      border-top-color: var(--fill-color);\n",
              "    }\n",
              "    60% {\n",
              "      border-color: transparent;\n",
              "      border-right-color: var(--fill-color);\n",
              "    }\n",
              "    80% {\n",
              "      border-color: transparent;\n",
              "      border-right-color: var(--fill-color);\n",
              "      border-bottom-color: var(--fill-color);\n",
              "    }\n",
              "    90% {\n",
              "      border-color: transparent;\n",
              "      border-bottom-color: var(--fill-color);\n",
              "    }\n",
              "  }\n",
              "</style>\n",
              "\n",
              "  <script>\n",
              "    async function quickchart(key) {\n",
              "      const quickchartButtonEl =\n",
              "        document.querySelector('#' + key + ' button');\n",
              "      quickchartButtonEl.disabled = true;  // To prevent multiple clicks.\n",
              "      quickchartButtonEl.classList.add('colab-df-spinner');\n",
              "      try {\n",
              "        const charts = await google.colab.kernel.invokeFunction(\n",
              "            'suggestCharts', [key], {});\n",
              "      } catch (error) {\n",
              "        console.error('Error during call to suggestCharts:', error);\n",
              "      }\n",
              "      quickchartButtonEl.classList.remove('colab-df-spinner');\n",
              "      quickchartButtonEl.classList.add('colab-df-quickchart-complete');\n",
              "    }\n",
              "    (() => {\n",
              "      let quickchartButtonEl =\n",
              "        document.querySelector('#df-be91a254-a30e-4b2c-89f4-1fd6151eaf05 button');\n",
              "      quickchartButtonEl.style.display =\n",
              "        google.colab.kernel.accessAllowed ? 'block' : 'none';\n",
              "    })();\n",
              "  </script>\n",
              "</div>\n",
              "\n",
              "    </div>\n",
              "  </div>\n"
            ],
            "application/vnd.google.colaboratory.intrinsic+json": {
              "type": "dataframe",
              "variable_name": "data"
            }
          },
          "metadata": {},
          "execution_count": 4
        }
      ]
    },
    {
      "cell_type": "markdown",
      "metadata": {
        "id": "y67JIiAz1UmD"
      },
      "source": [
        "Perform a random train/test split."
      ]
    },
    {
      "cell_type": "code",
      "execution_count": 5,
      "metadata": {
        "id": "InDS6vNJ1UmD"
      },
      "outputs": [],
      "source": [
        "data_train, data_test = train_test_split(data, test_size=0.2, random_state=42)"
      ]
    },
    {
      "cell_type": "code",
      "execution_count": 6,
      "metadata": {
        "colab": {
          "base_uri": "https://localhost:8080/",
          "height": 255
        },
        "id": "xVEU4Rj81UmE",
        "outputId": "55c6a0a4-6052-4fff-edae-cb32aed9ba35"
      },
      "outputs": [
        {
          "output_type": "execute_result",
          "data": {
            "text/plain": [
              "      MSSubClass MSZoning  LotFrontage  LotArea Street Alley LotShape  \\\n",
              "381           20       RL           80    10400   Pave  none      Reg   \n",
              "834           60       RL            0    28698   Pave  none      IR2   \n",
              "1898          90       RL           70     9842   Pave  none      Reg   \n",
              "678           90       RL           60     7200   Pave  none      Reg   \n",
              "700          190       RM           63     7627   Pave  none      Reg   \n",
              "\n",
              "     LandContour Utilities LotConfig  ... ThreeSsnPorch ScreenPorch PoolArea  \\\n",
              "381          Lvl    AllPub    Inside  ...             0           0        0   \n",
              "834          Low    AllPub   CulDSac  ...             0         225        0   \n",
              "1898         Lvl    AllPub       FR2  ...             0           0        0   \n",
              "678          Lvl    AllPub    Inside  ...             0           0        0   \n",
              "700          Lvl    AllPub    Corner  ...             0           0        0   \n",
              "\n",
              "      Fence MiscVal MoSold  YrSold  SaleType  SaleCondition  SalePrice  \n",
              "381   MnPrv       0      6    2009        WD         Family     152000  \n",
              "834    none       0      6    2009        WD        Abnorml     185000  \n",
              "1898   none       0      3    2007        WD         Normal     101800  \n",
              "678    none       0      6    2009        WD         Normal      90000  \n",
              "700    none       0     10    2009        WD         Normal      94550  \n",
              "\n",
              "[5 rows x 77 columns]"
            ],
            "text/html": [
              "\n",
              "  <div id=\"df-be7ad8fc-92eb-44ad-955c-e90ceefef743\" class=\"colab-df-container\">\n",
              "    <div>\n",
              "<style scoped>\n",
              "    .dataframe tbody tr th:only-of-type {\n",
              "        vertical-align: middle;\n",
              "    }\n",
              "\n",
              "    .dataframe tbody tr th {\n",
              "        vertical-align: top;\n",
              "    }\n",
              "\n",
              "    .dataframe thead th {\n",
              "        text-align: right;\n",
              "    }\n",
              "</style>\n",
              "<table border=\"1\" class=\"dataframe\">\n",
              "  <thead>\n",
              "    <tr style=\"text-align: right;\">\n",
              "      <th></th>\n",
              "      <th>MSSubClass</th>\n",
              "      <th>MSZoning</th>\n",
              "      <th>LotFrontage</th>\n",
              "      <th>LotArea</th>\n",
              "      <th>Street</th>\n",
              "      <th>Alley</th>\n",
              "      <th>LotShape</th>\n",
              "      <th>LandContour</th>\n",
              "      <th>Utilities</th>\n",
              "      <th>LotConfig</th>\n",
              "      <th>...</th>\n",
              "      <th>ThreeSsnPorch</th>\n",
              "      <th>ScreenPorch</th>\n",
              "      <th>PoolArea</th>\n",
              "      <th>Fence</th>\n",
              "      <th>MiscVal</th>\n",
              "      <th>MoSold</th>\n",
              "      <th>YrSold</th>\n",
              "      <th>SaleType</th>\n",
              "      <th>SaleCondition</th>\n",
              "      <th>SalePrice</th>\n",
              "    </tr>\n",
              "  </thead>\n",
              "  <tbody>\n",
              "    <tr>\n",
              "      <th>381</th>\n",
              "      <td>20</td>\n",
              "      <td>RL</td>\n",
              "      <td>80</td>\n",
              "      <td>10400</td>\n",
              "      <td>Pave</td>\n",
              "      <td>none</td>\n",
              "      <td>Reg</td>\n",
              "      <td>Lvl</td>\n",
              "      <td>AllPub</td>\n",
              "      <td>Inside</td>\n",
              "      <td>...</td>\n",
              "      <td>0</td>\n",
              "      <td>0</td>\n",
              "      <td>0</td>\n",
              "      <td>MnPrv</td>\n",
              "      <td>0</td>\n",
              "      <td>6</td>\n",
              "      <td>2009</td>\n",
              "      <td>WD</td>\n",
              "      <td>Family</td>\n",
              "      <td>152000</td>\n",
              "    </tr>\n",
              "    <tr>\n",
              "      <th>834</th>\n",
              "      <td>60</td>\n",
              "      <td>RL</td>\n",
              "      <td>0</td>\n",
              "      <td>28698</td>\n",
              "      <td>Pave</td>\n",
              "      <td>none</td>\n",
              "      <td>IR2</td>\n",
              "      <td>Low</td>\n",
              "      <td>AllPub</td>\n",
              "      <td>CulDSac</td>\n",
              "      <td>...</td>\n",
              "      <td>0</td>\n",
              "      <td>225</td>\n",
              "      <td>0</td>\n",
              "      <td>none</td>\n",
              "      <td>0</td>\n",
              "      <td>6</td>\n",
              "      <td>2009</td>\n",
              "      <td>WD</td>\n",
              "      <td>Abnorml</td>\n",
              "      <td>185000</td>\n",
              "    </tr>\n",
              "    <tr>\n",
              "      <th>1898</th>\n",
              "      <td>90</td>\n",
              "      <td>RL</td>\n",
              "      <td>70</td>\n",
              "      <td>9842</td>\n",
              "      <td>Pave</td>\n",
              "      <td>none</td>\n",
              "      <td>Reg</td>\n",
              "      <td>Lvl</td>\n",
              "      <td>AllPub</td>\n",
              "      <td>FR2</td>\n",
              "      <td>...</td>\n",
              "      <td>0</td>\n",
              "      <td>0</td>\n",
              "      <td>0</td>\n",
              "      <td>none</td>\n",
              "      <td>0</td>\n",
              "      <td>3</td>\n",
              "      <td>2007</td>\n",
              "      <td>WD</td>\n",
              "      <td>Normal</td>\n",
              "      <td>101800</td>\n",
              "    </tr>\n",
              "    <tr>\n",
              "      <th>678</th>\n",
              "      <td>90</td>\n",
              "      <td>RL</td>\n",
              "      <td>60</td>\n",
              "      <td>7200</td>\n",
              "      <td>Pave</td>\n",
              "      <td>none</td>\n",
              "      <td>Reg</td>\n",
              "      <td>Lvl</td>\n",
              "      <td>AllPub</td>\n",
              "      <td>Inside</td>\n",
              "      <td>...</td>\n",
              "      <td>0</td>\n",
              "      <td>0</td>\n",
              "      <td>0</td>\n",
              "      <td>none</td>\n",
              "      <td>0</td>\n",
              "      <td>6</td>\n",
              "      <td>2009</td>\n",
              "      <td>WD</td>\n",
              "      <td>Normal</td>\n",
              "      <td>90000</td>\n",
              "    </tr>\n",
              "    <tr>\n",
              "      <th>700</th>\n",
              "      <td>190</td>\n",
              "      <td>RM</td>\n",
              "      <td>63</td>\n",
              "      <td>7627</td>\n",
              "      <td>Pave</td>\n",
              "      <td>none</td>\n",
              "      <td>Reg</td>\n",
              "      <td>Lvl</td>\n",
              "      <td>AllPub</td>\n",
              "      <td>Corner</td>\n",
              "      <td>...</td>\n",
              "      <td>0</td>\n",
              "      <td>0</td>\n",
              "      <td>0</td>\n",
              "      <td>none</td>\n",
              "      <td>0</td>\n",
              "      <td>10</td>\n",
              "      <td>2009</td>\n",
              "      <td>WD</td>\n",
              "      <td>Normal</td>\n",
              "      <td>94550</td>\n",
              "    </tr>\n",
              "  </tbody>\n",
              "</table>\n",
              "<p>5 rows × 77 columns</p>\n",
              "</div>\n",
              "    <div class=\"colab-df-buttons\">\n",
              "\n",
              "  <div class=\"colab-df-container\">\n",
              "    <button class=\"colab-df-convert\" onclick=\"convertToInteractive('df-be7ad8fc-92eb-44ad-955c-e90ceefef743')\"\n",
              "            title=\"Convert this dataframe to an interactive table.\"\n",
              "            style=\"display:none;\">\n",
              "\n",
              "  <svg xmlns=\"http://www.w3.org/2000/svg\" height=\"24px\" viewBox=\"0 -960 960 960\">\n",
              "    <path d=\"M120-120v-720h720v720H120Zm60-500h600v-160H180v160Zm220 220h160v-160H400v160Zm0 220h160v-160H400v160ZM180-400h160v-160H180v160Zm440 0h160v-160H620v160ZM180-180h160v-160H180v160Zm440 0h160v-160H620v160Z\"/>\n",
              "  </svg>\n",
              "    </button>\n",
              "\n",
              "  <style>\n",
              "    .colab-df-container {\n",
              "      display:flex;\n",
              "      gap: 12px;\n",
              "    }\n",
              "\n",
              "    .colab-df-convert {\n",
              "      background-color: #E8F0FE;\n",
              "      border: none;\n",
              "      border-radius: 50%;\n",
              "      cursor: pointer;\n",
              "      display: none;\n",
              "      fill: #1967D2;\n",
              "      height: 32px;\n",
              "      padding: 0 0 0 0;\n",
              "      width: 32px;\n",
              "    }\n",
              "\n",
              "    .colab-df-convert:hover {\n",
              "      background-color: #E2EBFA;\n",
              "      box-shadow: 0px 1px 2px rgba(60, 64, 67, 0.3), 0px 1px 3px 1px rgba(60, 64, 67, 0.15);\n",
              "      fill: #174EA6;\n",
              "    }\n",
              "\n",
              "    .colab-df-buttons div {\n",
              "      margin-bottom: 4px;\n",
              "    }\n",
              "\n",
              "    [theme=dark] .colab-df-convert {\n",
              "      background-color: #3B4455;\n",
              "      fill: #D2E3FC;\n",
              "    }\n",
              "\n",
              "    [theme=dark] .colab-df-convert:hover {\n",
              "      background-color: #434B5C;\n",
              "      box-shadow: 0px 1px 3px 1px rgba(0, 0, 0, 0.15);\n",
              "      filter: drop-shadow(0px 1px 2px rgba(0, 0, 0, 0.3));\n",
              "      fill: #FFFFFF;\n",
              "    }\n",
              "  </style>\n",
              "\n",
              "    <script>\n",
              "      const buttonEl =\n",
              "        document.querySelector('#df-be7ad8fc-92eb-44ad-955c-e90ceefef743 button.colab-df-convert');\n",
              "      buttonEl.style.display =\n",
              "        google.colab.kernel.accessAllowed ? 'block' : 'none';\n",
              "\n",
              "      async function convertToInteractive(key) {\n",
              "        const element = document.querySelector('#df-be7ad8fc-92eb-44ad-955c-e90ceefef743');\n",
              "        const dataTable =\n",
              "          await google.colab.kernel.invokeFunction('convertToInteractive',\n",
              "                                                    [key], {});\n",
              "        if (!dataTable) return;\n",
              "\n",
              "        const docLinkHtml = 'Like what you see? Visit the ' +\n",
              "          '<a target=\"_blank\" href=https://colab.research.google.com/notebooks/data_table.ipynb>data table notebook</a>'\n",
              "          + ' to learn more about interactive tables.';\n",
              "        element.innerHTML = '';\n",
              "        dataTable['output_type'] = 'display_data';\n",
              "        await google.colab.output.renderOutput(dataTable, element);\n",
              "        const docLink = document.createElement('div');\n",
              "        docLink.innerHTML = docLinkHtml;\n",
              "        element.appendChild(docLink);\n",
              "      }\n",
              "    </script>\n",
              "  </div>\n",
              "\n",
              "\n",
              "<div id=\"df-804e67fa-b36b-464b-a589-3e3686f73860\">\n",
              "  <button class=\"colab-df-quickchart\" onclick=\"quickchart('df-804e67fa-b36b-464b-a589-3e3686f73860')\"\n",
              "            title=\"Suggest charts\"\n",
              "            style=\"display:none;\">\n",
              "\n",
              "<svg xmlns=\"http://www.w3.org/2000/svg\" height=\"24px\"viewBox=\"0 0 24 24\"\n",
              "     width=\"24px\">\n",
              "    <g>\n",
              "        <path d=\"M19 3H5c-1.1 0-2 .9-2 2v14c0 1.1.9 2 2 2h14c1.1 0 2-.9 2-2V5c0-1.1-.9-2-2-2zM9 17H7v-7h2v7zm4 0h-2V7h2v10zm4 0h-2v-4h2v4z\"/>\n",
              "    </g>\n",
              "</svg>\n",
              "  </button>\n",
              "\n",
              "<style>\n",
              "  .colab-df-quickchart {\n",
              "      --bg-color: #E8F0FE;\n",
              "      --fill-color: #1967D2;\n",
              "      --hover-bg-color: #E2EBFA;\n",
              "      --hover-fill-color: #174EA6;\n",
              "      --disabled-fill-color: #AAA;\n",
              "      --disabled-bg-color: #DDD;\n",
              "  }\n",
              "\n",
              "  [theme=dark] .colab-df-quickchart {\n",
              "      --bg-color: #3B4455;\n",
              "      --fill-color: #D2E3FC;\n",
              "      --hover-bg-color: #434B5C;\n",
              "      --hover-fill-color: #FFFFFF;\n",
              "      --disabled-bg-color: #3B4455;\n",
              "      --disabled-fill-color: #666;\n",
              "  }\n",
              "\n",
              "  .colab-df-quickchart {\n",
              "    background-color: var(--bg-color);\n",
              "    border: none;\n",
              "    border-radius: 50%;\n",
              "    cursor: pointer;\n",
              "    display: none;\n",
              "    fill: var(--fill-color);\n",
              "    height: 32px;\n",
              "    padding: 0;\n",
              "    width: 32px;\n",
              "  }\n",
              "\n",
              "  .colab-df-quickchart:hover {\n",
              "    background-color: var(--hover-bg-color);\n",
              "    box-shadow: 0 1px 2px rgba(60, 64, 67, 0.3), 0 1px 3px 1px rgba(60, 64, 67, 0.15);\n",
              "    fill: var(--button-hover-fill-color);\n",
              "  }\n",
              "\n",
              "  .colab-df-quickchart-complete:disabled,\n",
              "  .colab-df-quickchart-complete:disabled:hover {\n",
              "    background-color: var(--disabled-bg-color);\n",
              "    fill: var(--disabled-fill-color);\n",
              "    box-shadow: none;\n",
              "  }\n",
              "\n",
              "  .colab-df-spinner {\n",
              "    border: 2px solid var(--fill-color);\n",
              "    border-color: transparent;\n",
              "    border-bottom-color: var(--fill-color);\n",
              "    animation:\n",
              "      spin 1s steps(1) infinite;\n",
              "  }\n",
              "\n",
              "  @keyframes spin {\n",
              "    0% {\n",
              "      border-color: transparent;\n",
              "      border-bottom-color: var(--fill-color);\n",
              "      border-left-color: var(--fill-color);\n",
              "    }\n",
              "    20% {\n",
              "      border-color: transparent;\n",
              "      border-left-color: var(--fill-color);\n",
              "      border-top-color: var(--fill-color);\n",
              "    }\n",
              "    30% {\n",
              "      border-color: transparent;\n",
              "      border-left-color: var(--fill-color);\n",
              "      border-top-color: var(--fill-color);\n",
              "      border-right-color: var(--fill-color);\n",
              "    }\n",
              "    40% {\n",
              "      border-color: transparent;\n",
              "      border-right-color: var(--fill-color);\n",
              "      border-top-color: var(--fill-color);\n",
              "    }\n",
              "    60% {\n",
              "      border-color: transparent;\n",
              "      border-right-color: var(--fill-color);\n",
              "    }\n",
              "    80% {\n",
              "      border-color: transparent;\n",
              "      border-right-color: var(--fill-color);\n",
              "      border-bottom-color: var(--fill-color);\n",
              "    }\n",
              "    90% {\n",
              "      border-color: transparent;\n",
              "      border-bottom-color: var(--fill-color);\n",
              "    }\n",
              "  }\n",
              "</style>\n",
              "\n",
              "  <script>\n",
              "    async function quickchart(key) {\n",
              "      const quickchartButtonEl =\n",
              "        document.querySelector('#' + key + ' button');\n",
              "      quickchartButtonEl.disabled = true;  // To prevent multiple clicks.\n",
              "      quickchartButtonEl.classList.add('colab-df-spinner');\n",
              "      try {\n",
              "        const charts = await google.colab.kernel.invokeFunction(\n",
              "            'suggestCharts', [key], {});\n",
              "      } catch (error) {\n",
              "        console.error('Error during call to suggestCharts:', error);\n",
              "      }\n",
              "      quickchartButtonEl.classList.remove('colab-df-spinner');\n",
              "      quickchartButtonEl.classList.add('colab-df-quickchart-complete');\n",
              "    }\n",
              "    (() => {\n",
              "      let quickchartButtonEl =\n",
              "        document.querySelector('#df-804e67fa-b36b-464b-a589-3e3686f73860 button');\n",
              "      quickchartButtonEl.style.display =\n",
              "        google.colab.kernel.accessAllowed ? 'block' : 'none';\n",
              "    })();\n",
              "  </script>\n",
              "</div>\n",
              "\n",
              "    </div>\n",
              "  </div>\n"
            ],
            "application/vnd.google.colaboratory.intrinsic+json": {
              "type": "dataframe",
              "variable_name": "data_train"
            }
          },
          "metadata": {},
          "execution_count": 6
        }
      ],
      "source": [
        "data_train.head()"
      ]
    },
    {
      "cell_type": "code",
      "execution_count": 7,
      "metadata": {
        "colab": {
          "base_uri": "https://localhost:8080/"
        },
        "id": "erE_4HZC1UmF",
        "outputId": "0156aff8-73b9-4ae2-f8a8-cbffc4921fe4"
      },
      "outputs": [
        {
          "output_type": "execute_result",
          "data": {
            "text/plain": [
              "(2344, 77)"
            ]
          },
          "metadata": {},
          "execution_count": 7
        }
      ],
      "source": [
        "data_train.shape"
      ]
    },
    {
      "cell_type": "code",
      "execution_count": 8,
      "metadata": {
        "colab": {
          "base_uri": "https://localhost:8080/"
        },
        "id": "HdkWoGxI1UmF",
        "outputId": "97dc8250-5a18-4988-ac86-2b5c714d68e4"
      },
      "outputs": [
        {
          "output_type": "execute_result",
          "data": {
            "text/plain": [
              "Index(['MSSubClass', 'MSZoning', 'LotFrontage', 'LotArea', 'Street', 'Alley',\n",
              "       'LotShape', 'LandContour', 'Utilities', 'LotConfig', 'LandSlope',\n",
              "       'Neighborhood', 'Condition1', 'Condition2', 'BldgType', 'HouseStyle',\n",
              "       'OverallQual', 'OverallCond', 'YearBuilt', 'YearRemodAdd', 'RoofStyle',\n",
              "       'RoofMatl', 'Exterior1st', 'Exterior2nd', 'MasVnrType', 'MasVnrArea',\n",
              "       'ExterQual', 'ExterCond', 'Foundation', 'BsmtQual', 'BsmtCond',\n",
              "       'BsmtExposure', 'BsmtFinType1', 'BsmtFinSF1', 'BsmtFinType2',\n",
              "       'BsmtFinSF2', 'BsmtUnfSF', 'TotalBsmtSF', 'Heating', 'HeatingQC',\n",
              "       'CentralAir', 'Electrical', 'FirstFlrSF', 'SecondFlrSF', 'LowQualFinSF',\n",
              "       'GrLivArea', 'BsmtFullBath', 'BsmtHalfBath', 'FullBath', 'HalfBath',\n",
              "       'BedroomAbvGr', 'KitchenAbvGr', 'KitchenQual', 'TotRmsAbvGrd',\n",
              "       'Functional', 'Fireplaces', 'FireplaceQu', 'GarageType', 'GarageFinish',\n",
              "       'GarageCars', 'GarageArea', 'GarageQual', 'GarageCond', 'PavedDrive',\n",
              "       'WoodDeckSF', 'OpenPorchSF', 'EnclosedPorch', 'ThreeSsnPorch',\n",
              "       'ScreenPorch', 'PoolArea', 'Fence', 'MiscVal', 'MoSold', 'YrSold',\n",
              "       'SaleType', 'SaleCondition', 'SalePrice'],\n",
              "      dtype='object')"
            ]
          },
          "metadata": {},
          "execution_count": 8
        }
      ],
      "source": [
        "data_train.columns"
      ]
    },
    {
      "cell_type": "markdown",
      "metadata": {
        "id": "uVTFOPte1UmG"
      },
      "source": [
        "## Prepare data"
      ]
    },
    {
      "cell_type": "markdown",
      "metadata": {
        "id": "Pk1YtIZ81UmH"
      },
      "source": [
        "Let us first focus on some easy to understand variables."
      ]
    },
    {
      "cell_type": "code",
      "execution_count": 9,
      "metadata": {
        "id": "Zp_MVF271UmH"
      },
      "outputs": [],
      "source": [
        "data_train = data_train[[\"SalePrice\", \"Neighborhood\", \"HouseStyle\", \"LotArea\", \"GrLivArea\", \"FullBath\", \"BedroomAbvGr\", \"KitchenAbvGr\", \"OverallQual\", \"OverallCond\"]]"
      ]
    },
    {
      "cell_type": "code",
      "execution_count": 10,
      "metadata": {
        "colab": {
          "base_uri": "https://localhost:8080/",
          "height": 226
        },
        "id": "AwqAJauZ1UmH",
        "outputId": "5892b009-abf9-4c74-d74e-333d22be7ef8"
      },
      "outputs": [
        {
          "output_type": "execute_result",
          "data": {
            "text/plain": [
              "      SalePrice Neighborhood HouseStyle  LotArea  GrLivArea  FullBath  \\\n",
              "381      152000       NWAmes     1Story    10400       1370         2   \n",
              "834      185000      ClearCr     2Story    28698       2126         2   \n",
              "1898     101800        NAmes     1Story     9842       1224         2   \n",
              "678       90000        NAmes     1Story     7200       1040         2   \n",
              "700       94550      OldTown     2Story     7627       1701         2   \n",
              "\n",
              "      BedroomAbvGr  KitchenAbvGr  OverallQual  OverallCond  \n",
              "381              3             1            7            5  \n",
              "834              3             1            5            5  \n",
              "1898             2             2            4            5  \n",
              "678              2             2            4            5  \n",
              "700              4             2            4            6  "
            ],
            "text/html": [
              "\n",
              "  <div id=\"df-4f0396df-126e-4709-8777-813eac971f0e\" class=\"colab-df-container\">\n",
              "    <div>\n",
              "<style scoped>\n",
              "    .dataframe tbody tr th:only-of-type {\n",
              "        vertical-align: middle;\n",
              "    }\n",
              "\n",
              "    .dataframe tbody tr th {\n",
              "        vertical-align: top;\n",
              "    }\n",
              "\n",
              "    .dataframe thead th {\n",
              "        text-align: right;\n",
              "    }\n",
              "</style>\n",
              "<table border=\"1\" class=\"dataframe\">\n",
              "  <thead>\n",
              "    <tr style=\"text-align: right;\">\n",
              "      <th></th>\n",
              "      <th>SalePrice</th>\n",
              "      <th>Neighborhood</th>\n",
              "      <th>HouseStyle</th>\n",
              "      <th>LotArea</th>\n",
              "      <th>GrLivArea</th>\n",
              "      <th>FullBath</th>\n",
              "      <th>BedroomAbvGr</th>\n",
              "      <th>KitchenAbvGr</th>\n",
              "      <th>OverallQual</th>\n",
              "      <th>OverallCond</th>\n",
              "    </tr>\n",
              "  </thead>\n",
              "  <tbody>\n",
              "    <tr>\n",
              "      <th>381</th>\n",
              "      <td>152000</td>\n",
              "      <td>NWAmes</td>\n",
              "      <td>1Story</td>\n",
              "      <td>10400</td>\n",
              "      <td>1370</td>\n",
              "      <td>2</td>\n",
              "      <td>3</td>\n",
              "      <td>1</td>\n",
              "      <td>7</td>\n",
              "      <td>5</td>\n",
              "    </tr>\n",
              "    <tr>\n",
              "      <th>834</th>\n",
              "      <td>185000</td>\n",
              "      <td>ClearCr</td>\n",
              "      <td>2Story</td>\n",
              "      <td>28698</td>\n",
              "      <td>2126</td>\n",
              "      <td>2</td>\n",
              "      <td>3</td>\n",
              "      <td>1</td>\n",
              "      <td>5</td>\n",
              "      <td>5</td>\n",
              "    </tr>\n",
              "    <tr>\n",
              "      <th>1898</th>\n",
              "      <td>101800</td>\n",
              "      <td>NAmes</td>\n",
              "      <td>1Story</td>\n",
              "      <td>9842</td>\n",
              "      <td>1224</td>\n",
              "      <td>2</td>\n",
              "      <td>2</td>\n",
              "      <td>2</td>\n",
              "      <td>4</td>\n",
              "      <td>5</td>\n",
              "    </tr>\n",
              "    <tr>\n",
              "      <th>678</th>\n",
              "      <td>90000</td>\n",
              "      <td>NAmes</td>\n",
              "      <td>1Story</td>\n",
              "      <td>7200</td>\n",
              "      <td>1040</td>\n",
              "      <td>2</td>\n",
              "      <td>2</td>\n",
              "      <td>2</td>\n",
              "      <td>4</td>\n",
              "      <td>5</td>\n",
              "    </tr>\n",
              "    <tr>\n",
              "      <th>700</th>\n",
              "      <td>94550</td>\n",
              "      <td>OldTown</td>\n",
              "      <td>2Story</td>\n",
              "      <td>7627</td>\n",
              "      <td>1701</td>\n",
              "      <td>2</td>\n",
              "      <td>4</td>\n",
              "      <td>2</td>\n",
              "      <td>4</td>\n",
              "      <td>6</td>\n",
              "    </tr>\n",
              "  </tbody>\n",
              "</table>\n",
              "</div>\n",
              "    <div class=\"colab-df-buttons\">\n",
              "\n",
              "  <div class=\"colab-df-container\">\n",
              "    <button class=\"colab-df-convert\" onclick=\"convertToInteractive('df-4f0396df-126e-4709-8777-813eac971f0e')\"\n",
              "            title=\"Convert this dataframe to an interactive table.\"\n",
              "            style=\"display:none;\">\n",
              "\n",
              "  <svg xmlns=\"http://www.w3.org/2000/svg\" height=\"24px\" viewBox=\"0 -960 960 960\">\n",
              "    <path d=\"M120-120v-720h720v720H120Zm60-500h600v-160H180v160Zm220 220h160v-160H400v160Zm0 220h160v-160H400v160ZM180-400h160v-160H180v160Zm440 0h160v-160H620v160ZM180-180h160v-160H180v160Zm440 0h160v-160H620v160Z\"/>\n",
              "  </svg>\n",
              "    </button>\n",
              "\n",
              "  <style>\n",
              "    .colab-df-container {\n",
              "      display:flex;\n",
              "      gap: 12px;\n",
              "    }\n",
              "\n",
              "    .colab-df-convert {\n",
              "      background-color: #E8F0FE;\n",
              "      border: none;\n",
              "      border-radius: 50%;\n",
              "      cursor: pointer;\n",
              "      display: none;\n",
              "      fill: #1967D2;\n",
              "      height: 32px;\n",
              "      padding: 0 0 0 0;\n",
              "      width: 32px;\n",
              "    }\n",
              "\n",
              "    .colab-df-convert:hover {\n",
              "      background-color: #E2EBFA;\n",
              "      box-shadow: 0px 1px 2px rgba(60, 64, 67, 0.3), 0px 1px 3px 1px rgba(60, 64, 67, 0.15);\n",
              "      fill: #174EA6;\n",
              "    }\n",
              "\n",
              "    .colab-df-buttons div {\n",
              "      margin-bottom: 4px;\n",
              "    }\n",
              "\n",
              "    [theme=dark] .colab-df-convert {\n",
              "      background-color: #3B4455;\n",
              "      fill: #D2E3FC;\n",
              "    }\n",
              "\n",
              "    [theme=dark] .colab-df-convert:hover {\n",
              "      background-color: #434B5C;\n",
              "      box-shadow: 0px 1px 3px 1px rgba(0, 0, 0, 0.15);\n",
              "      filter: drop-shadow(0px 1px 2px rgba(0, 0, 0, 0.3));\n",
              "      fill: #FFFFFF;\n",
              "    }\n",
              "  </style>\n",
              "\n",
              "    <script>\n",
              "      const buttonEl =\n",
              "        document.querySelector('#df-4f0396df-126e-4709-8777-813eac971f0e button.colab-df-convert');\n",
              "      buttonEl.style.display =\n",
              "        google.colab.kernel.accessAllowed ? 'block' : 'none';\n",
              "\n",
              "      async function convertToInteractive(key) {\n",
              "        const element = document.querySelector('#df-4f0396df-126e-4709-8777-813eac971f0e');\n",
              "        const dataTable =\n",
              "          await google.colab.kernel.invokeFunction('convertToInteractive',\n",
              "                                                    [key], {});\n",
              "        if (!dataTable) return;\n",
              "\n",
              "        const docLinkHtml = 'Like what you see? Visit the ' +\n",
              "          '<a target=\"_blank\" href=https://colab.research.google.com/notebooks/data_table.ipynb>data table notebook</a>'\n",
              "          + ' to learn more about interactive tables.';\n",
              "        element.innerHTML = '';\n",
              "        dataTable['output_type'] = 'display_data';\n",
              "        await google.colab.output.renderOutput(dataTable, element);\n",
              "        const docLink = document.createElement('div');\n",
              "        docLink.innerHTML = docLinkHtml;\n",
              "        element.appendChild(docLink);\n",
              "      }\n",
              "    </script>\n",
              "  </div>\n",
              "\n",
              "\n",
              "<div id=\"df-bf5e0185-011f-4bb8-9a46-364be376e9f0\">\n",
              "  <button class=\"colab-df-quickchart\" onclick=\"quickchart('df-bf5e0185-011f-4bb8-9a46-364be376e9f0')\"\n",
              "            title=\"Suggest charts\"\n",
              "            style=\"display:none;\">\n",
              "\n",
              "<svg xmlns=\"http://www.w3.org/2000/svg\" height=\"24px\"viewBox=\"0 0 24 24\"\n",
              "     width=\"24px\">\n",
              "    <g>\n",
              "        <path d=\"M19 3H5c-1.1 0-2 .9-2 2v14c0 1.1.9 2 2 2h14c1.1 0 2-.9 2-2V5c0-1.1-.9-2-2-2zM9 17H7v-7h2v7zm4 0h-2V7h2v10zm4 0h-2v-4h2v4z\"/>\n",
              "    </g>\n",
              "</svg>\n",
              "  </button>\n",
              "\n",
              "<style>\n",
              "  .colab-df-quickchart {\n",
              "      --bg-color: #E8F0FE;\n",
              "      --fill-color: #1967D2;\n",
              "      --hover-bg-color: #E2EBFA;\n",
              "      --hover-fill-color: #174EA6;\n",
              "      --disabled-fill-color: #AAA;\n",
              "      --disabled-bg-color: #DDD;\n",
              "  }\n",
              "\n",
              "  [theme=dark] .colab-df-quickchart {\n",
              "      --bg-color: #3B4455;\n",
              "      --fill-color: #D2E3FC;\n",
              "      --hover-bg-color: #434B5C;\n",
              "      --hover-fill-color: #FFFFFF;\n",
              "      --disabled-bg-color: #3B4455;\n",
              "      --disabled-fill-color: #666;\n",
              "  }\n",
              "\n",
              "  .colab-df-quickchart {\n",
              "    background-color: var(--bg-color);\n",
              "    border: none;\n",
              "    border-radius: 50%;\n",
              "    cursor: pointer;\n",
              "    display: none;\n",
              "    fill: var(--fill-color);\n",
              "    height: 32px;\n",
              "    padding: 0;\n",
              "    width: 32px;\n",
              "  }\n",
              "\n",
              "  .colab-df-quickchart:hover {\n",
              "    background-color: var(--hover-bg-color);\n",
              "    box-shadow: 0 1px 2px rgba(60, 64, 67, 0.3), 0 1px 3px 1px rgba(60, 64, 67, 0.15);\n",
              "    fill: var(--button-hover-fill-color);\n",
              "  }\n",
              "\n",
              "  .colab-df-quickchart-complete:disabled,\n",
              "  .colab-df-quickchart-complete:disabled:hover {\n",
              "    background-color: var(--disabled-bg-color);\n",
              "    fill: var(--disabled-fill-color);\n",
              "    box-shadow: none;\n",
              "  }\n",
              "\n",
              "  .colab-df-spinner {\n",
              "    border: 2px solid var(--fill-color);\n",
              "    border-color: transparent;\n",
              "    border-bottom-color: var(--fill-color);\n",
              "    animation:\n",
              "      spin 1s steps(1) infinite;\n",
              "  }\n",
              "\n",
              "  @keyframes spin {\n",
              "    0% {\n",
              "      border-color: transparent;\n",
              "      border-bottom-color: var(--fill-color);\n",
              "      border-left-color: var(--fill-color);\n",
              "    }\n",
              "    20% {\n",
              "      border-color: transparent;\n",
              "      border-left-color: var(--fill-color);\n",
              "      border-top-color: var(--fill-color);\n",
              "    }\n",
              "    30% {\n",
              "      border-color: transparent;\n",
              "      border-left-color: var(--fill-color);\n",
              "      border-top-color: var(--fill-color);\n",
              "      border-right-color: var(--fill-color);\n",
              "    }\n",
              "    40% {\n",
              "      border-color: transparent;\n",
              "      border-right-color: var(--fill-color);\n",
              "      border-top-color: var(--fill-color);\n",
              "    }\n",
              "    60% {\n",
              "      border-color: transparent;\n",
              "      border-right-color: var(--fill-color);\n",
              "    }\n",
              "    80% {\n",
              "      border-color: transparent;\n",
              "      border-right-color: var(--fill-color);\n",
              "      border-bottom-color: var(--fill-color);\n",
              "    }\n",
              "    90% {\n",
              "      border-color: transparent;\n",
              "      border-bottom-color: var(--fill-color);\n",
              "    }\n",
              "  }\n",
              "</style>\n",
              "\n",
              "  <script>\n",
              "    async function quickchart(key) {\n",
              "      const quickchartButtonEl =\n",
              "        document.querySelector('#' + key + ' button');\n",
              "      quickchartButtonEl.disabled = true;  // To prevent multiple clicks.\n",
              "      quickchartButtonEl.classList.add('colab-df-spinner');\n",
              "      try {\n",
              "        const charts = await google.colab.kernel.invokeFunction(\n",
              "            'suggestCharts', [key], {});\n",
              "      } catch (error) {\n",
              "        console.error('Error during call to suggestCharts:', error);\n",
              "      }\n",
              "      quickchartButtonEl.classList.remove('colab-df-spinner');\n",
              "      quickchartButtonEl.classList.add('colab-df-quickchart-complete');\n",
              "    }\n",
              "    (() => {\n",
              "      let quickchartButtonEl =\n",
              "        document.querySelector('#df-bf5e0185-011f-4bb8-9a46-364be376e9f0 button');\n",
              "      quickchartButtonEl.style.display =\n",
              "        google.colab.kernel.accessAllowed ? 'block' : 'none';\n",
              "    })();\n",
              "  </script>\n",
              "</div>\n",
              "\n",
              "    </div>\n",
              "  </div>\n"
            ],
            "application/vnd.google.colaboratory.intrinsic+json": {
              "type": "dataframe",
              "variable_name": "data_train",
              "summary": "{\n  \"name\": \"data_train\",\n  \"rows\": 2344,\n  \"fields\": [\n    {\n      \"column\": \"SalePrice\",\n      \"properties\": {\n        \"dtype\": \"number\",\n        \"std\": 77125,\n        \"min\": 12789,\n        \"max\": 755000,\n        \"num_unique_values\": 887,\n        \"samples\": [\n          130250,\n          124100,\n          383970\n        ],\n        \"semantic_type\": \"\",\n        \"description\": \"\"\n      }\n    },\n    {\n      \"column\": \"Neighborhood\",\n      \"properties\": {\n        \"dtype\": \"category\",\n        \"num_unique_values\": 28,\n        \"samples\": [\n          \"SawyerW\",\n          \"BrDale\",\n          \"Gilbert\"\n        ],\n        \"semantic_type\": \"\",\n        \"description\": \"\"\n      }\n    },\n    {\n      \"column\": \"HouseStyle\",\n      \"properties\": {\n        \"dtype\": \"category\",\n        \"num_unique_values\": 8,\n        \"samples\": [\n          \"2Story\",\n          \"1.5Unf\",\n          \"1Story\"\n        ],\n        \"semantic_type\": \"\",\n        \"description\": \"\"\n      }\n    },\n    {\n      \"column\": \"LotArea\",\n      \"properties\": {\n        \"dtype\": \"number\",\n        \"std\": 8050,\n        \"min\": 1300,\n        \"max\": 215245,\n        \"num_unique_values\": 1634,\n        \"samples\": [\n          6155,\n          8267,\n          6845\n        ],\n        \"semantic_type\": \"\",\n        \"description\": \"\"\n      }\n    },\n    {\n      \"column\": \"GrLivArea\",\n      \"properties\": {\n        \"dtype\": \"number\",\n        \"std\": 504,\n        \"min\": 334,\n        \"max\": 5642,\n        \"num_unique_values\": 1143,\n        \"samples\": [\n          1210,\n          1321,\n          1577\n        ],\n        \"semantic_type\": \"\",\n        \"description\": \"\"\n      }\n    },\n    {\n      \"column\": \"FullBath\",\n      \"properties\": {\n        \"dtype\": \"number\",\n        \"std\": 0,\n        \"min\": 0,\n        \"max\": 4,\n        \"num_unique_values\": 5,\n        \"samples\": [\n          1,\n          4,\n          3\n        ],\n        \"semantic_type\": \"\",\n        \"description\": \"\"\n      }\n    },\n    {\n      \"column\": \"BedroomAbvGr\",\n      \"properties\": {\n        \"dtype\": \"number\",\n        \"std\": 0,\n        \"min\": 0,\n        \"max\": 8,\n        \"num_unique_values\": 8,\n        \"samples\": [\n          2,\n          6,\n          3\n        ],\n        \"semantic_type\": \"\",\n        \"description\": \"\"\n      }\n    },\n    {\n      \"column\": \"KitchenAbvGr\",\n      \"properties\": {\n        \"dtype\": \"number\",\n        \"std\": 0,\n        \"min\": 0,\n        \"max\": 3,\n        \"num_unique_values\": 4,\n        \"samples\": [\n          2,\n          3,\n          1\n        ],\n        \"semantic_type\": \"\",\n        \"description\": \"\"\n      }\n    },\n    {\n      \"column\": \"OverallQual\",\n      \"properties\": {\n        \"dtype\": \"number\",\n        \"std\": 1,\n        \"min\": 1,\n        \"max\": 10,\n        \"num_unique_values\": 10,\n        \"samples\": [\n          2,\n          5,\n          9\n        ],\n        \"semantic_type\": \"\",\n        \"description\": \"\"\n      }\n    },\n    {\n      \"column\": \"OverallCond\",\n      \"properties\": {\n        \"dtype\": \"number\",\n        \"std\": 1,\n        \"min\": 1,\n        \"max\": 9,\n        \"num_unique_values\": 9,\n        \"samples\": [\n          1,\n          6,\n          9\n        ],\n        \"semantic_type\": \"\",\n        \"description\": \"\"\n      }\n    }\n  ]\n}"
            }
          },
          "metadata": {},
          "execution_count": 10
        }
      ],
      "source": [
        "data_train.head()"
      ]
    },
    {
      "cell_type": "markdown",
      "metadata": {
        "id": "cUqVaKCV1UmI"
      },
      "source": [
        "## Exploratory data analysis"
      ]
    },
    {
      "cell_type": "markdown",
      "metadata": {
        "id": "MwxIyM_O1UmI"
      },
      "source": [
        "### Descriptive summary statistics"
      ]
    },
    {
      "cell_type": "markdown",
      "metadata": {
        "id": "k8d7jX_c1UmI"
      },
      "source": [
        "We can quickly calculate the most important summary statistics for a variable with *describe()*."
      ]
    },
    {
      "cell_type": "code",
      "execution_count": 11,
      "metadata": {
        "colab": {
          "base_uri": "https://localhost:8080/",
          "height": 355
        },
        "id": "JxQOnLMe1UmJ",
        "outputId": "77768006-19e3-48b0-ed8e-572b1de44fe8"
      },
      "outputs": [
        {
          "output_type": "execute_result",
          "data": {
            "text/plain": [
              "count      2344.000000\n",
              "mean     178582.207765\n",
              "std       77125.072713\n",
              "min       12789.000000\n",
              "25%      129000.000000\n",
              "50%      160000.000000\n",
              "75%      210000.000000\n",
              "max      755000.000000\n",
              "Name: SalePrice, dtype: float64"
            ],
            "text/html": [
              "<div>\n",
              "<style scoped>\n",
              "    .dataframe tbody tr th:only-of-type {\n",
              "        vertical-align: middle;\n",
              "    }\n",
              "\n",
              "    .dataframe tbody tr th {\n",
              "        vertical-align: top;\n",
              "    }\n",
              "\n",
              "    .dataframe thead th {\n",
              "        text-align: right;\n",
              "    }\n",
              "</style>\n",
              "<table border=\"1\" class=\"dataframe\">\n",
              "  <thead>\n",
              "    <tr style=\"text-align: right;\">\n",
              "      <th></th>\n",
              "      <th>SalePrice</th>\n",
              "    </tr>\n",
              "  </thead>\n",
              "  <tbody>\n",
              "    <tr>\n",
              "      <th>count</th>\n",
              "      <td>2344.000000</td>\n",
              "    </tr>\n",
              "    <tr>\n",
              "      <th>mean</th>\n",
              "      <td>178582.207765</td>\n",
              "    </tr>\n",
              "    <tr>\n",
              "      <th>std</th>\n",
              "      <td>77125.072713</td>\n",
              "    </tr>\n",
              "    <tr>\n",
              "      <th>min</th>\n",
              "      <td>12789.000000</td>\n",
              "    </tr>\n",
              "    <tr>\n",
              "      <th>25%</th>\n",
              "      <td>129000.000000</td>\n",
              "    </tr>\n",
              "    <tr>\n",
              "      <th>50%</th>\n",
              "      <td>160000.000000</td>\n",
              "    </tr>\n",
              "    <tr>\n",
              "      <th>75%</th>\n",
              "      <td>210000.000000</td>\n",
              "    </tr>\n",
              "    <tr>\n",
              "      <th>max</th>\n",
              "      <td>755000.000000</td>\n",
              "    </tr>\n",
              "  </tbody>\n",
              "</table>\n",
              "</div><br><label><b>dtype:</b> float64</label>"
            ]
          },
          "metadata": {},
          "execution_count": 11
        }
      ],
      "source": [
        "data_train[\"SalePrice\"].describe()"
      ]
    },
    {
      "cell_type": "markdown",
      "metadata": {
        "id": "9gOpFdj61UmJ"
      },
      "source": [
        "### Visualize distribution of single variables\n",
        "In the following, we will use histograms and density plots to get a feeling of the distribution of our main variables. See https://seaborn.pydata.org/generated/seaborn.displot.html#seaborn.displot for more information."
      ]
    },
    {
      "cell_type": "markdown",
      "metadata": {
        "id": "476sXFLn1UmJ"
      },
      "source": [
        "Let's first look at the dependent variable (*SalePrice*)."
      ]
    },
    {
      "cell_type": "code",
      "execution_count": 12,
      "metadata": {
        "colab": {
          "base_uri": "https://localhost:8080/",
          "height": 514
        },
        "id": "cp40iVY51UmJ",
        "outputId": "07474a64-309d-498e-b113-0a02701c6b41"
      },
      "outputs": [
        {
          "output_type": "display_data",
          "data": {
            "text/plain": [
              "<Figure size 500x500 with 1 Axes>"
            ],
            "image/png": "[encoded data removed]"
          },
          "metadata": {}
        }
      ],
      "source": [
        "sns.displot(data_train, x=\"SalePrice\", kde=True)\n",
        "plt.show()"
      ]
    },
    {
      "cell_type": "markdown",
      "metadata": {
        "id": "oMySwITh1UmK"
      },
      "source": [
        "Let's look at some numerical independent variables. We will start with *GrLivArea*."
      ]
    },
    {
      "cell_type": "code",
      "execution_count": 13,
      "metadata": {
        "colab": {
          "base_uri": "https://localhost:8080/",
          "height": 514
        },
        "id": "aiIFSfYM1UmK",
        "outputId": "3c05413b-54d4-4db4-8a0b-515b18e05cd9"
      },
      "outputs": [
        {
          "output_type": "display_data",
          "data": {
            "text/plain": [
              "<Figure size 500x500 with 1 Axes>"
            ],
            "image/png": "[encoded data removed]"
          },
          "metadata": {}
        }
      ],
      "source": [
        "sns.displot(data_train, x=\"GrLivArea\", kde=True)\n",
        "plt.show()"
      ]
    },
    {
      "cell_type": "markdown",
      "metadata": {
        "id": "oWCABOD_1UmK"
      },
      "source": [
        "Next, let's look at the variable *OverallQual*."
      ]
    },
    {
      "cell_type": "code",
      "execution_count": 14,
      "metadata": {
        "colab": {
          "base_uri": "https://localhost:8080/",
          "height": 515
        },
        "id": "c7cqUl2Q1UmL",
        "outputId": "b79bc190-9c11-48f4-f6c0-edf517870cff"
      },
      "outputs": [
        {
          "output_type": "display_data",
          "data": {
            "text/plain": [
              "<Figure size 500x500 with 1 Axes>"
            ],
            "image/png": "[encoded data removed]"
          },
          "metadata": {}
        }
      ],
      "source": [
        "sns.displot(data_train, x=\"OverallQual\", kde=True)\n",
        "plt.show()"
      ]
    },
    {
      "cell_type": "markdown",
      "metadata": {
        "id": "5JywB1Jh1UmL"
      },
      "source": [
        "We can also visualize the distribution of categorical variables using *catplot()*. See https://seaborn.pydata.org/generated/seaborn.catplot.html#seaborn.catplot for more information."
      ]
    },
    {
      "cell_type": "markdown",
      "metadata": {
        "id": "BseQdoEu1UmL"
      },
      "source": [
        "Let's start with *Neighborhood*."
      ]
    },
    {
      "cell_type": "code",
      "execution_count": 15,
      "metadata": {
        "colab": {
          "base_uri": "https://localhost:8080/",
          "height": 590
        },
        "id": "Bg5n4o921UmM",
        "outputId": "1fab6aa0-e8fc-43f7-ac9e-e08d77e1588d"
      },
      "outputs": [
        {
          "output_type": "display_data",
          "data": {
            "text/plain": [
              "<Figure size 515.556x500 with 1 Axes>"
            ],
            "image/png": "[encoded data removed]"
          },
          "metadata": {}
        }
      ],
      "source": [
        "sns.catplot(data_train, x=\"Neighborhood\", kind=\"count\")\n",
        "plt.xticks(rotation=90)\n",
        "plt.show()"
      ]
    },
    {
      "cell_type": "markdown",
      "metadata": {
        "id": "ApFUij761UmM"
      },
      "source": [
        "Let's do the same for *HouseStyle*."
      ]
    },
    {
      "cell_type": "code",
      "execution_count": 16,
      "metadata": {
        "colab": {
          "base_uri": "https://localhost:8080/",
          "height": 562
        },
        "id": "7WMfW8AZ1UmM",
        "outputId": "c24637ac-509b-4f1c-a275-439e9e05e8f8"
      },
      "outputs": [
        {
          "output_type": "display_data",
          "data": {
            "text/plain": [
              "<Figure size 515.556x500 with 1 Axes>"
            ],
            "image/png": "[encoded data removed]"
          },
          "metadata": {}
        }
      ],
      "source": [
        "sns.catplot(data_train, x=\"HouseStyle\", kind=\"count\")\n",
        "plt.xticks(rotation=90)\n",
        "plt.show()"
      ]
    },
    {
      "cell_type": "markdown",
      "metadata": {
        "id": "jF94HEHQ1UmM"
      },
      "source": [
        "### Visualize the relationship between the dependent variable (i.e., SalePrice) and numerical independent variables.\n",
        "\n",
        "In the following, we will use scatter plots with linear trend lines to visually explore the relationship between *SalePrice* (Y axis) and various numerical independent variable (X axis). See https://seaborn.pydata.org/generated/seaborn.relplot.html#seaborn.relplot for more information."
      ]
    },
    {
      "cell_type": "markdown",
      "metadata": {
        "id": "Ftqtvzu31UmM"
      },
      "source": [
        "*SalePrice* and *LotArea*."
      ]
    },
    {
      "cell_type": "code",
      "execution_count": 17,
      "metadata": {
        "colab": {
          "base_uri": "https://localhost:8080/",
          "height": 514
        },
        "id": "CYlXO5B-1UmN",
        "outputId": "bbe057bf-b016-469e-9dd6-0df6469b39b9"
      },
      "outputs": [
        {
          "output_type": "display_data",
          "data": {
            "text/plain": [
              "<Figure size 500x500 with 1 Axes>"
            ],
            "image/png": "[encoded data removed]"
          },
          "metadata": {}
        }
      ],
      "source": [
        "sns.relplot(data=data_train, x=\"LotArea\", y=\"SalePrice\", alpha=0.3)\n",
        "plt.show()"
      ]
    },
    {
      "cell_type": "markdown",
      "metadata": {
        "id": "O9J9Nxsp1UmN"
      },
      "source": [
        "The function *regplot()* is an alternative to *relplot()* that includes a linear regression model fit that can be drawn on the plot. See https://seaborn.pydata.org/generated/seaborn.regplot.html#seaborn.regplot for more information."
      ]
    },
    {
      "cell_type": "code",
      "execution_count": 18,
      "metadata": {
        "colab": {
          "base_uri": "https://localhost:8080/",
          "height": 498
        },
        "id": "aKPTVUNP1UmN",
        "outputId": "395798d7-e834-454c-8a8d-53b7895530eb"
      },
      "outputs": [
        {
          "output_type": "display_data",
          "data": {
            "text/plain": [
              "<Figure size 640x480 with 1 Axes>"
            ],
            "image/png": "[encoded data removed]"
          },
          "metadata": {}
        }
      ],
      "source": [
        "sns.regplot(data=data_train, x=\"GrLivArea\", y=\"SalePrice\", scatter_kws={'alpha':0.3}, line_kws={'color': 'red'})\n",
        "plt.show()"
      ]
    },
    {
      "cell_type": "markdown",
      "metadata": {
        "id": "iwkhqssh1UmN"
      },
      "source": [
        "### Visualize the relationship between the dependent variable (i.e., SalePrice) and categorical independent variables.\n",
        "\n",
        "In the following, we will use multiple box plots to visually explore the relationship between *SalePrice* (Y axis) and various categorical independent variable (X axis).\n"
      ]
    },
    {
      "cell_type": "markdown",
      "metadata": {
        "id": "zKl0Mdfg1UmN"
      },
      "source": [
        "*SalePrice* and *OverallQual*."
      ]
    },
    {
      "cell_type": "code",
      "execution_count": 19,
      "metadata": {
        "colab": {
          "base_uri": "https://localhost:8080/",
          "height": 514
        },
        "id": "3QxfUOHE1UmO",
        "outputId": "9b600ebb-3afc-40a3-b555-3d8f246c0d94"
      },
      "outputs": [
        {
          "output_type": "display_data",
          "data": {
            "text/plain": [
              "<Figure size 515.556x500 with 1 Axes>"
            ],
            "image/png": "[encoded data removed]"
          },
          "metadata": {}
        }
      ],
      "source": [
        "sns.catplot(data=data_train, x=\"OverallQual\", y=\"SalePrice\", kind=\"box\")\n",
        "plt.show()"
      ]
    },
    {
      "cell_type": "markdown",
      "metadata": {
        "id": "Q4g1i3sE1UmO"
      },
      "source": [
        "*SalePrice* and *OverallCond*."
      ]
    },
    {
      "cell_type": "code",
      "execution_count": 21,
      "metadata": {
        "colab": {
          "base_uri": "https://localhost:8080/",
          "height": 514
        },
        "id": "4MW5xMD81Umw",
        "outputId": "1846b251-26e2-4c52-d59d-e290be17f13b"
      },
      "outputs": [
        {
          "output_type": "display_data",
          "data": {
            "text/plain": [
              "<Figure size 515.556x500 with 1 Axes>"
            ],
            "image/png": "[encoded data removed]"
          },
          "metadata": {}
        }
      ],
      "source": [
        "sns.catplot(data=data_train, x=\"OverallCond\", y=\"SalePrice\", kind=\"box\")\n",
        "plt.show()"
      ]
    },
    {
      "cell_type": "markdown",
      "metadata": {
        "id": "8OizTax-1Umx"
      },
      "source": [
        "Violin plots are similar to box plots, except that they also show the probability density of the data at different values."
      ]
    },
    {
      "cell_type": "code",
      "execution_count": null,
      "metadata": {
        "id": "AABca3ms1Umy"
      },
      "outputs": [],
      "source": [
        "sns.catplot(data=data_train, x=\"OverallCond\", y=\"SalePrice\", kind=\"violin\", height=5, aspect=2)\n",
        "plt.xticks(rotation=90)\n",
        "plt.show()"
      ]
    },
    {
      "cell_type": "markdown",
      "metadata": {
        "id": "WEAE99Jn1Umz"
      },
      "source": [
        "## Train linear models\n",
        "\n",
        "After getting a feeling for the data, we are now ready to fit some linear regression models. We will use the *statsmodels* package, esp. the the formula API to be able to specify R-style formulas. See https://www.statsmodels.org/dev/example_formulas.html for more information."
      ]
    },
    {
      "cell_type": "markdown",
      "metadata": {
        "id": "wfaiVh621Umz"
      },
      "source": [
        "#### Simple linear regression models"
      ]
    },
    {
      "cell_type": "markdown",
      "metadata": {
        "id": "f8yC0Eak1Um0"
      },
      "source": [
        "Let's start with a simple model that includes only one independent variable, e.g., *GrLivArea*."
      ]
    },
    {
      "cell_type": "code",
      "execution_count": 20,
      "metadata": {
        "colab": {
          "base_uri": "https://localhost:8080/"
        },
        "id": "eigPNMlr1Um0",
        "outputId": "f009e198-3f4f-482f-9910-22bb20a04b59"
      },
      "outputs": [
        {
          "output_type": "stream",
          "name": "stdout",
          "text": [
            "                            OLS Regression Results                            \n",
            "==============================================================================\n",
            "Dep. Variable:              SalePrice   R-squared:                       0.488\n",
            "Model:                            OLS   Adj. R-squared:                  0.487\n",
            "Method:                 Least Squares   F-statistic:                     2229.\n",
            "Date:                Thu, 31 Oct 2024   Prob (F-statistic):               0.00\n",
            "Time:                        09:20:49   Log-Likelihood:                -28919.\n",
            "No. Observations:                2344   AIC:                         5.784e+04\n",
            "Df Residuals:                    2342   BIC:                         5.785e+04\n",
            "Df Model:                           1                                         \n",
            "Covariance Type:            nonrobust                                         \n",
            "==============================================================================\n",
            "                 coef    std err          t      P>|t|      [0.025      0.975]\n",
            "------------------------------------------------------------------------------\n",
            "Intercept   1.925e+04   3562.265      5.404      0.000    1.23e+04    2.62e+04\n",
            "GrLivArea    106.7292      2.261     47.213      0.000     102.296     111.162\n",
            "==============================================================================\n",
            "Omnibus:                      382.627   Durbin-Watson:                   2.059\n",
            "Prob(Omnibus):                  0.000   Jarque-Bera (JB):             3792.491\n",
            "Skew:                           0.454   Prob(JB):                         0.00\n",
            "Kurtosis:                       9.165   Cond. No.                     4.92e+03\n",
            "==============================================================================\n",
            "\n",
            "Notes:\n",
            "[1] Standard Errors assume that the covariance matrix of the errors is correctly specified.\n",
            "[2] The condition number is large, 4.92e+03. This might indicate that there are\n",
            "strong multicollinearity or other numerical problems.\n"
          ]
        }
      ],
      "source": [
        "mod_01 = smf.ols(formula='SalePrice ~ GrLivArea', data=data_train)\n",
        "mod_01 = mod_01.fit()\n",
        "print(mod_01.summary())"
      ]
    },
    {
      "cell_type": "markdown",
      "metadata": {
        "id": "VxRrnjrv1Um0"
      },
      "source": [
        "Create a simple linear regression model with *BedroomAbvGr* as the only independent variable."
      ]
    },
    {
      "cell_type": "code",
      "execution_count": 22,
      "metadata": {
        "colab": {
          "base_uri": "https://localhost:8080/"
        },
        "id": "RMCjcFz61Um1",
        "outputId": "80b71929-ba5c-414f-b5e2-100046619c47"
      },
      "outputs": [
        {
          "output_type": "stream",
          "name": "stdout",
          "text": [
            "                            OLS Regression Results                            \n",
            "==============================================================================\n",
            "Dep. Variable:              SalePrice   R-squared:                       0.022\n",
            "Model:                            OLS   Adj. R-squared:                  0.022\n",
            "Method:                 Least Squares   F-statistic:                     53.37\n",
            "Date:                Thu, 31 Oct 2024   Prob (F-statistic):           3.77e-13\n",
            "Time:                        09:23:39   Log-Likelihood:                -29677.\n",
            "No. Observations:                2344   AIC:                         5.936e+04\n",
            "Df Residuals:                    2342   BIC:                         5.937e+04\n",
            "Df Model:                           1                                         \n",
            "Covariance Type:            nonrobust                                         \n",
            "================================================================================\n",
            "                   coef    std err          t      P>|t|      [0.025      0.975]\n",
            "--------------------------------------------------------------------------------\n",
            "Intercept     1.387e+05   5687.832     24.377      0.000    1.28e+05     1.5e+05\n",
            "BedroomAbvGr  1.403e+04   1920.919      7.306      0.000    1.03e+04    1.78e+04\n",
            "==============================================================================\n",
            "Omnibus:                      882.693   Durbin-Watson:                   2.046\n",
            "Prob(Omnibus):                  0.000   Jarque-Bera (JB):             4033.974\n",
            "Skew:                           1.767   Prob(JB):                         0.00\n",
            "Kurtosis:                       8.369   Cond. No.                         11.8\n",
            "==============================================================================\n",
            "\n",
            "Notes:\n",
            "[1] Standard Errors assume that the covariance matrix of the errors is correctly specified.\n"
          ]
        }
      ],
      "source": [
        "mod_01 = smf.ols(formula='SalePrice ~ BedroomAbvGr', data=data_train)\n",
        "mod_01 = mod_01.fit()\n",
        "print(mod_01.summary())"
      ]
    },
    {
      "cell_type": "markdown",
      "metadata": {
        "id": "XoHYDfyZ1Um1"
      },
      "source": [
        "#### Multiple linear regression models"
      ]
    },
    {
      "cell_type": "markdown",
      "metadata": {
        "id": "NtASn0sN1Um1"
      },
      "source": [
        "Let's create a multiple linear regression model with both *GrLivArea* and *BedroomAbvGr* as independent variables."
      ]
    },
    {
      "cell_type": "code",
      "execution_count": 23,
      "metadata": {
        "colab": {
          "base_uri": "https://localhost:8080/"
        },
        "id": "ATXeuTP91Um1",
        "outputId": "6b25d4c5-f847-4f55-83bb-252387bcc898"
      },
      "outputs": [
        {
          "output_type": "stream",
          "name": "stdout",
          "text": [
            "                     Results: Ordinary least squares\n",
            "==========================================================================\n",
            "Model:                 OLS                Adj. R-squared:       0.552     \n",
            "Dependent Variable:    SalePrice          AIC:                  57526.6149\n",
            "Date:                  2024-10-31 09:23   BIC:                  57543.8937\n",
            "No. Observations:      2344               Log-Likelihood:       -28760.   \n",
            "Df Model:              2                  F-statistic:          1446.     \n",
            "Df Residuals:          2341               Prob (F-statistic):   0.00      \n",
            "R-squared:             0.553              Scale:                2.6635e+09\n",
            "--------------------------------------------------------------------------\n",
            "                Coef.     Std.Err.    t     P>|t|     [0.025      0.975]  \n",
            "--------------------------------------------------------------------------\n",
            "Intercept     63497.5648 4104.3599  15.4708 0.0000  55449.0059  71546.1238\n",
            "GrLivArea       130.7258    2.4816  52.6772 0.0000    125.8594    135.5923\n",
            "BedroomAbvGr -28143.0020 1526.5209 -18.4360 0.0000 -31136.4757 -25149.5283\n",
            "--------------------------------------------------------------------------\n",
            "Omnibus:               489.228         Durbin-Watson:            2.027    \n",
            "Prob(Omnibus):         0.000           Jarque-Bera (JB):         13645.561\n",
            "Skew:                  -0.282          Prob(JB):                 0.000    \n",
            "Kurtosis:              14.807          Condition No.:            6222     \n",
            "==========================================================================\n",
            "Notes:\n",
            "[1] Standard Errors assume that the covariance matrix of the errors is\n",
            "correctly specified.\n",
            "[2] The condition number is large, 6.22e+03. This might indicate\n",
            "that there are strong multicollinearity or other numerical\n",
            "problems.\n"
          ]
        }
      ],
      "source": [
        "mod_03 = smf.ols(formula='SalePrice ~ GrLivArea + BedroomAbvGr', data=data_train)\n",
        "mod_03 = mod_03.fit()\n",
        "print(mod_03.summary2())"
      ]
    },
    {
      "cell_type": "markdown",
      "metadata": {
        "id": "OxI4XWVy1Um1"
      },
      "source": [
        "#### Categorical independent variables"
      ]
    },
    {
      "cell_type": "markdown",
      "metadata": {
        "id": "LpsVw8sk1Um1"
      },
      "source": [
        "Fit a linear regression model with a categorical independent variable (*HouseStyle*)."
      ]
    },
    {
      "cell_type": "code",
      "execution_count": 24,
      "metadata": {
        "colab": {
          "base_uri": "https://localhost:8080/"
        },
        "id": "h7DDW6p-1Um1",
        "outputId": "26e0053b-cdac-479d-ab5b-13dd32800526"
      },
      "outputs": [
        {
          "output_type": "stream",
          "name": "stdout",
          "text": [
            "                          Results: Ordinary least squares\n",
            "====================================================================================\n",
            "Model:                     OLS                   Adj. R-squared:          0.614     \n",
            "Dependent Variable:        SalePrice             AIC:                     57186.6945\n",
            "Date:                      2024-10-31 09:29      BIC:                     57244.2907\n",
            "No. Observations:          2344                  Log-Likelihood:          -28583.   \n",
            "Df Model:                  9                     F-statistic:             414.8     \n",
            "Df Residuals:              2334                  Prob (F-statistic):      0.00      \n",
            "R-squared:                 0.615                 Scale:                   2.2971e+09\n",
            "------------------------------------------------------------------------------------\n",
            "                        Coef.     Std.Err.     t     P>|t|     [0.025       0.975]  \n",
            "------------------------------------------------------------------------------------\n",
            "Intercept            -12994.3949  5585.7819  -2.3263 0.0201  -23948.0065  -2040.7834\n",
            "HouseStyle[T.1.5Unf]  40568.9551 12481.0304   3.2504 0.0012   16093.8928  65044.0173\n",
            "HouseStyle[T.1Story]  57552.7205  3458.4148  16.6414 0.0000   50770.8352  64334.6058\n",
            "HouseStyle[T.2.5Fin] -73796.5357 17523.5580  -4.2113 0.0000 -108159.8983 -39433.1732\n",
            "HouseStyle[T.2.5Unf] -12563.8893 10995.4403  -1.1426 0.2533  -34125.7377   8997.9592\n",
            "HouseStyle[T.2Story]  24416.5371  3651.1634   6.6873 0.0000   17256.6754  31576.3987\n",
            "HouseStyle[T.SFoyer]  58973.6218  6721.1973   8.7743 0.0000   45793.4822  72153.7614\n",
            "HouseStyle[T.SLvl]    41341.0083  5627.0744   7.3468 0.0000   30306.4228  52375.5938\n",
            "GrLivArea               143.0942     2.5125  56.9524 0.0000     138.1672    148.0213\n",
            "BedroomAbvGr         -21781.9417  1464.5396 -14.8729 0.0000  -24653.8758 -18910.0076\n",
            "------------------------------------------------------------------------------------\n",
            "Omnibus:                   873.259            Durbin-Watson:               2.032    \n",
            "Prob(Omnibus):             0.000              Jarque-Bera (JB):            38238.147\n",
            "Skew:                      -1.025             Prob(JB):                    0.000    \n",
            "Kurtosis:                  22.680             Condition No.:               28012    \n",
            "====================================================================================\n",
            "Notes:\n",
            "[1] Standard Errors assume that the covariance matrix of the errors is correctly\n",
            "specified.\n",
            "[2] The condition number is large, 2.8e+04. This might indicate                that\n",
            "there are strong multicollinearity or other numerical                problems.\n"
          ]
        }
      ],
      "source": [
        "mod_04 = smf.ols(formula='SalePrice ~ GrLivArea + BedroomAbvGr + HouseStyle', data=data_train)\n",
        "mod_04 = mod_04.fit()\n",
        "print(mod_04.summary2())"
      ]
    },
    {
      "cell_type": "code",
      "execution_count": 25,
      "metadata": {
        "colab": {
          "base_uri": "https://localhost:8080/",
          "height": 386
        },
        "id": "OAU3yOJY1Um2",
        "outputId": "22b664f2-cf89-4b77-d640-732444856937"
      },
      "outputs": [
        {
          "output_type": "execute_result",
          "data": {
            "text/plain": [
              "HouseStyle\n",
              "1Story    1191\n",
              "2Story     694\n",
              "1.5Fin     242\n",
              "SLvl       104\n",
              "SFoyer      68\n",
              "2.5Unf      21\n",
              "1.5Unf      16\n",
              "2.5Fin       8\n",
              "Name: count, dtype: int64"
            ],
            "text/html": [
              "<div>\n",
              "<style scoped>\n",
              "    .dataframe tbody tr th:only-of-type {\n",
              "        vertical-align: middle;\n",
              "    }\n",
              "\n",
              "    .dataframe tbody tr th {\n",
              "        vertical-align: top;\n",
              "    }\n",
              "\n",
              "    .dataframe thead th {\n",
              "        text-align: right;\n",
              "    }\n",
              "</style>\n",
              "<table border=\"1\" class=\"dataframe\">\n",
              "  <thead>\n",
              "    <tr style=\"text-align: right;\">\n",
              "      <th></th>\n",
              "      <th>count</th>\n",
              "    </tr>\n",
              "    <tr>\n",
              "      <th>HouseStyle</th>\n",
              "      <th></th>\n",
              "    </tr>\n",
              "  </thead>\n",
              "  <tbody>\n",
              "    <tr>\n",
              "      <th>1Story</th>\n",
              "      <td>1191</td>\n",
              "    </tr>\n",
              "    <tr>\n",
              "      <th>2Story</th>\n",
              "      <td>694</td>\n",
              "    </tr>\n",
              "    <tr>\n",
              "      <th>1.5Fin</th>\n",
              "      <td>242</td>\n",
              "    </tr>\n",
              "    <tr>\n",
              "      <th>SLvl</th>\n",
              "      <td>104</td>\n",
              "    </tr>\n",
              "    <tr>\n",
              "      <th>SFoyer</th>\n",
              "      <td>68</td>\n",
              "    </tr>\n",
              "    <tr>\n",
              "      <th>2.5Unf</th>\n",
              "      <td>21</td>\n",
              "    </tr>\n",
              "    <tr>\n",
              "      <th>1.5Unf</th>\n",
              "      <td>16</td>\n",
              "    </tr>\n",
              "    <tr>\n",
              "      <th>2.5Fin</th>\n",
              "      <td>8</td>\n",
              "    </tr>\n",
              "  </tbody>\n",
              "</table>\n",
              "</div><br><label><b>dtype:</b> int64</label>"
            ]
          },
          "metadata": {},
          "execution_count": 25
        }
      ],
      "source": [
        "data_train[\"HouseStyle\"].value_counts()"
      ]
    },
    {
      "cell_type": "markdown",
      "metadata": {
        "id": "Vb2fihcE1Um2"
      },
      "source": [
        "#### Interaction effects"
      ]
    },
    {
      "cell_type": "markdown",
      "metadata": {
        "id": "6zMBXRgq1Um2"
      },
      "source": [
        "Fit a linear regression model with an interaction term between two numerical independent variables.\n"
      ]
    },
    {
      "cell_type": "code",
      "execution_count": 26,
      "metadata": {
        "colab": {
          "base_uri": "https://localhost:8080/"
        },
        "id": "Vec91Fro1Um2",
        "outputId": "bb2ce83d-c396-4200-96de-77227f1a5d1c"
      },
      "outputs": [
        {
          "output_type": "stream",
          "name": "stdout",
          "text": [
            "                       Results: Ordinary least squares\n",
            "=============================================================================\n",
            "Model:                  OLS                 Adj. R-squared:        0.507     \n",
            "Dependent Variable:     SalePrice           AIC:                   57755.0484\n",
            "Date:                   2024-10-31 09:32    BIC:                   57778.0869\n",
            "No. Observations:       2344                Log-Likelihood:        -28874.   \n",
            "Df Model:               3                   F-statistic:           802.9     \n",
            "Df Residuals:           2340                Prob (F-statistic):    0.00      \n",
            "R-squared:              0.507               Scale:                 2.9349e+09\n",
            "-----------------------------------------------------------------------------\n",
            "                     Coef.     Std.Err.    t    P>|t|     [0.025     0.975]  \n",
            "-----------------------------------------------------------------------------\n",
            "Intercept         -18980.6693 5639.7595 -3.3655 0.0008 -30040.1154 -7921.2233\n",
            "GrLivArea            123.4993    3.3914 36.4153 0.0000    116.8488   130.1498\n",
            "LotArea                3.9509    0.4211  9.3813 0.0000      3.1250     4.7767\n",
            "GrLivArea:LotArea     -0.0017    0.0002 -8.0491 0.0000     -0.0021    -0.0013\n",
            "-----------------------------------------------------------------------------\n",
            "Omnibus:                417.604          Durbin-Watson:             2.062    \n",
            "Prob(Omnibus):          0.000            Jarque-Bera (JB):          1830.446 \n",
            "Skew:                   0.796            Prob(JB):                  0.000    \n",
            "Kurtosis:               7.026            Condition No.:             125538056\n",
            "=============================================================================\n",
            "Notes:\n",
            "[1] Standard Errors assume that the covariance matrix of the errors is\n",
            "correctly specified.\n",
            "[2] The condition number is large, 1.26e+08. This might indicate\n",
            "that there are strong multicollinearity or other numerical\n",
            "problems.\n"
          ]
        }
      ],
      "source": [
        "mod_05 = smf.ols(formula='SalePrice ~ GrLivArea * LotArea', data=data_train)\n",
        "mod_05 = mod_05.fit()\n",
        "print(mod_05.summary2())"
      ]
    },
    {
      "cell_type": "markdown",
      "metadata": {
        "id": "1ZPmJKqq1Um2"
      },
      "source": [
        "Fit a linear regression model with an interaction term between a categorical and numerical independent variable. In the formula API, the *C()* function can be used to indicate that a numerical variable should be treated as categorical."
      ]
    },
    {
      "cell_type": "code",
      "execution_count": 27,
      "metadata": {
        "colab": {
          "base_uri": "https://localhost:8080/"
        },
        "id": "lo4ocWsn1Um3",
        "outputId": "b0e4378b-c4b7-453c-8590-abf7ebc0bcc0"
      },
      "outputs": [
        {
          "output_type": "stream",
          "name": "stdout",
          "text": [
            "                              Results: Ordinary least squares\n",
            "============================================================================================\n",
            "Model:                       OLS                      Adj. R-squared:             0.789     \n",
            "Dependent Variable:          SalePrice                AIC:                        55784.0188\n",
            "Date:                        2024-10-31 09:33         BIC:                        55899.2110\n",
            "No. Observations:            2344                     Log-Likelihood:             -27872.   \n",
            "Df Model:                    19                       F-statistic:                461.1     \n",
            "Df Residuals:                2324                     Prob (F-statistic):         0.00      \n",
            "R-squared:                   0.790                    Scale:                      1.2573e+09\n",
            "--------------------------------------------------------------------------------------------\n",
            "                                  Coef.     Std.Err.     t    P>|t|     [0.025      0.975]  \n",
            "--------------------------------------------------------------------------------------------\n",
            "Intercept                       12212.3247 38859.9849  0.3143 0.7533 -63991.5337  88416.1830\n",
            "C(OverallQual)[T.2]             33621.1296 55329.7056  0.6077 0.5435 -74879.6086 142121.8677\n",
            "C(OverallQual)[T.3]             25377.2876 43968.9930  0.5772 0.5639 -60845.2604 111599.8356\n",
            "C(OverallQual)[T.4]             53653.6487 39793.3415  1.3483 0.1777 -24380.5081 131687.8055\n",
            "C(OverallQual)[T.5]             80688.1894 39142.2304  2.0614 0.0394   3930.8518 157445.5271\n",
            "C(OverallQual)[T.6]             63382.9389 39243.5370  1.6151 0.1064 -13573.0594 140338.9372\n",
            "C(OverallQual)[T.7]             86713.9021 39501.3424  2.1952 0.0282   9252.3511 164175.4530\n",
            "C(OverallQual)[T.8]             99148.4910 39878.7674  2.4862 0.0130  20946.8153 177350.1667\n",
            "C(OverallQual)[T.9]            146132.5015 42915.9770  3.4051 0.0007  61974.9024 230290.1007\n",
            "C(OverallQual)[T.10]           470937.0499 45175.5881 10.4246 0.0000 382348.3868 559525.7131\n",
            "GrLivArea                          40.8991    38.7340  1.0559 0.2911    -35.0577    116.8559\n",
            "GrLivArea:C(OverallQual)[T.2]     -34.5631    67.9016 -0.5090 0.6108   -167.7172     98.5909\n",
            "GrLivArea:C(OverallQual)[T.3]       3.1187    42.7684  0.0729 0.9419    -80.7496     86.9870\n",
            "GrLivArea:C(OverallQual)[T.4]      -6.0399    39.3815 -0.1534 0.8781    -83.2664     71.1866\n",
            "GrLivArea:C(OverallQual)[T.5]      -7.4022    38.8980 -0.1903 0.8491    -83.6805     68.8762\n",
            "GrLivArea:C(OverallQual)[T.6]      18.6133    38.9025  0.4785 0.6324    -57.6740     94.9005\n",
            "GrLivArea:C(OverallQual)[T.7]      22.2261    38.9547  0.5706 0.5684    -54.1635     98.6158\n",
            "GrLivArea:C(OverallQual)[T.8]      42.6300    39.0055  1.0929 0.2745    -33.8592    119.1191\n",
            "GrLivArea:C(OverallQual)[T.9]      58.0612    39.7035  1.4624 0.1438    -19.7968    135.9191\n",
            "GrLivArea:C(OverallQual)[T.10]    -52.4842    39.4324 -1.3310 0.1833   -129.8106     24.8423\n",
            "--------------------------------------------------------------------------------------------\n",
            "Omnibus:                     498.237               Durbin-Watson:                  2.018    \n",
            "Prob(Omnibus):               0.000                 Jarque-Bera (JB):               13767.701\n",
            "Skew:                        0.319                 Prob(JB):                       0.000    \n",
            "Kurtosis:                    14.856                Condition No.:                  292049   \n",
            "============================================================================================\n",
            "Notes:\n",
            "[1] Standard Errors assume that the covariance matrix of the errors is correctly specified.\n",
            "[2] The condition number is large, 2.92e+05. This might indicate                that there\n",
            "are strong multicollinearity or other numerical                problems.\n"
          ]
        }
      ],
      "source": [
        "mod_05 = smf.ols(formula='SalePrice ~ GrLivArea * C(OverallQual)', data=data_train)\n",
        "mod_05 = mod_05.fit()\n",
        "print(mod_05.summary2())"
      ]
    },
    {
      "cell_type": "markdown",
      "metadata": {
        "id": "JcW19bnO1Um3"
      },
      "source": [
        "#### Log-transformation of the DV"
      ]
    },
    {
      "cell_type": "markdown",
      "metadata": {
        "id": "D1snHCgI1Um3"
      },
      "source": [
        "Fit a linear regression model with a logarithmic transformation of the dependent variable. With *np.log()* we can specify the transformation on the fly.\n"
      ]
    },
    {
      "cell_type": "markdown",
      "source": [
        "Wert nach Log Transformation kann als Prozentwert interpretiert werden"
      ],
      "metadata": {
        "id": "8JfMZfs_73i5"
      }
    },
    {
      "cell_type": "code",
      "execution_count": 28,
      "metadata": {
        "colab": {
          "base_uri": "https://localhost:8080/"
        },
        "id": "Uhucy5wq1Um3",
        "outputId": "9db149cd-93ed-4bb7-e1eb-dc0d26706d0c"
      },
      "outputs": [
        {
          "output_type": "stream",
          "name": "stdout",
          "text": [
            "                            OLS Regression Results                            \n",
            "==============================================================================\n",
            "Dep. Variable:      np.log(SalePrice)   R-squared:                       0.033\n",
            "Model:                            OLS   Adj. R-squared:                  0.033\n",
            "Method:                 Least Squares   F-statistic:                     80.15\n",
            "Date:                Thu, 31 Oct 2024   Prob (F-statistic):           6.89e-19\n",
            "Time:                        09:34:04   Log-Likelihood:                -1145.4\n",
            "No. Observations:                2344   AIC:                             2295.\n",
            "Df Residuals:                    2342   BIC:                             2306.\n",
            "Df Model:                           1                                         \n",
            "Covariance Type:            nonrobust                                         \n",
            "================================================================================\n",
            "                   coef    std err          t      P>|t|      [0.025      0.975]\n",
            "--------------------------------------------------------------------------------\n",
            "Intercept       11.7587      0.029    399.610      0.000      11.701      11.816\n",
            "BedroomAbvGr     0.0890      0.010      8.953      0.000       0.069       0.108\n",
            "==============================================================================\n",
            "Omnibus:                       94.726   Durbin-Watson:                   2.034\n",
            "Prob(Omnibus):                  0.000   Jarque-Bera (JB):              292.396\n",
            "Skew:                          -0.005   Prob(JB):                     3.21e-64\n",
            "Kurtosis:                       4.730   Cond. No.                         11.8\n",
            "==============================================================================\n",
            "\n",
            "Notes:\n",
            "[1] Standard Errors assume that the covariance matrix of the errors is correctly specified.\n"
          ]
        }
      ],
      "source": [
        "mod_07a = smf.ols(formula='np.log(SalePrice) ~ BedroomAbvGr', data=data_train)\n",
        "mod_07a = mod_07a.fit()\n",
        "print(mod_07a.summary())"
      ]
    },
    {
      "cell_type": "markdown",
      "metadata": {
        "id": "9ZHtFKhU1Um3"
      },
      "source": [
        "For comparison, the same model without the log-transformation."
      ]
    },
    {
      "cell_type": "code",
      "execution_count": 29,
      "metadata": {
        "colab": {
          "base_uri": "https://localhost:8080/"
        },
        "id": "Wt1DHORn1Um3",
        "outputId": "deaa45b2-57ea-4df4-b47d-8b8e5d425dfd"
      },
      "outputs": [
        {
          "output_type": "stream",
          "name": "stdout",
          "text": [
            "                            OLS Regression Results                            \n",
            "==============================================================================\n",
            "Dep. Variable:              SalePrice   R-squared:                       0.022\n",
            "Model:                            OLS   Adj. R-squared:                  0.022\n",
            "Method:                 Least Squares   F-statistic:                     53.37\n",
            "Date:                Thu, 31 Oct 2024   Prob (F-statistic):           3.77e-13\n",
            "Time:                        09:34:06   Log-Likelihood:                -29677.\n",
            "No. Observations:                2344   AIC:                         5.936e+04\n",
            "Df Residuals:                    2342   BIC:                         5.937e+04\n",
            "Df Model:                           1                                         \n",
            "Covariance Type:            nonrobust                                         \n",
            "================================================================================\n",
            "                   coef    std err          t      P>|t|      [0.025      0.975]\n",
            "--------------------------------------------------------------------------------\n",
            "Intercept     1.387e+05   5687.832     24.377      0.000    1.28e+05     1.5e+05\n",
            "BedroomAbvGr  1.403e+04   1920.919      7.306      0.000    1.03e+04    1.78e+04\n",
            "==============================================================================\n",
            "Omnibus:                      882.693   Durbin-Watson:                   2.046\n",
            "Prob(Omnibus):                  0.000   Jarque-Bera (JB):             4033.974\n",
            "Skew:                           1.767   Prob(JB):                         0.00\n",
            "Kurtosis:                       8.369   Cond. No.                         11.8\n",
            "==============================================================================\n",
            "\n",
            "Notes:\n",
            "[1] Standard Errors assume that the covariance matrix of the errors is correctly specified.\n"
          ]
        }
      ],
      "source": [
        "mod_07b = smf.ols(formula='SalePrice ~ BedroomAbvGr', data=data_train)\n",
        "mod_07b = mod_07b.fit()\n",
        "print(mod_07b.summary())"
      ]
    },
    {
      "cell_type": "markdown",
      "metadata": {
        "id": "aK6N9pc61Um4"
      },
      "source": [
        "#### Polynomial transformation of the IVs"
      ]
    },
    {
      "cell_type": "markdown",
      "metadata": {
        "id": "0b4UVDOJ1Um4"
      },
      "source": [
        "Fit a linear regression model with a second-order polynomial term (*GrLivArea*)"
      ]
    },
    {
      "cell_type": "code",
      "execution_count": 30,
      "metadata": {
        "colab": {
          "base_uri": "https://localhost:8080/"
        },
        "id": "tIPN6QM_1Um4",
        "outputId": "03ad736b-d006-45af-e12e-0cfd9479edcf"
      },
      "outputs": [
        {
          "output_type": "stream",
          "name": "stdout",
          "text": [
            "                            OLS Regression Results                            \n",
            "==============================================================================\n",
            "Dep. Variable:              SalePrice   R-squared:                       0.488\n",
            "Model:                            OLS   Adj. R-squared:                  0.487\n",
            "Method:                 Least Squares   F-statistic:                     1115.\n",
            "Date:                Thu, 31 Oct 2024   Prob (F-statistic):               0.00\n",
            "Time:                        09:37:42   Log-Likelihood:                -28919.\n",
            "No. Observations:                2344   AIC:                         5.784e+04\n",
            "Df Residuals:                    2341   BIC:                         5.786e+04\n",
            "Df Model:                           2                                         \n",
            "Covariance Type:            nonrobust                                         \n",
            "=================================================================================\n",
            "                    coef    std err          t      P>|t|      [0.025      0.975]\n",
            "---------------------------------------------------------------------------------\n",
            "Intercept      1.973e+04   3608.414      5.468      0.000    1.27e+04    2.68e+04\n",
            "GrLivArea       593.7112    581.180      1.022      0.307    -545.970    1733.392\n",
            "GrLivArea ^ 2  -487.2006    581.436     -0.838      0.402   -1627.385     652.983\n",
            "==============================================================================\n",
            "Omnibus:                      383.821   Durbin-Watson:                   2.061\n",
            "Prob(Omnibus):                  0.000   Jarque-Bera (JB):             3810.200\n",
            "Skew:                           0.456   Prob(JB):                         0.00\n",
            "Kurtosis:                       9.179   Cond. No.                     7.06e+03\n",
            "==============================================================================\n",
            "\n",
            "Notes:\n",
            "[1] Standard Errors assume that the covariance matrix of the errors is correctly specified.\n",
            "[2] The condition number is large, 7.06e+03. This might indicate that there are\n",
            "strong multicollinearity or other numerical problems.\n"
          ]
        }
      ],
      "source": [
        "mod_08 = smf.ols(formula='SalePrice ~ GrLivArea + GrLivArea^2', data=data_train)\n",
        "mod_08 = mod_08.fit()\n",
        "print(mod_08.summary())"
      ]
    },
    {
      "cell_type": "markdown",
      "metadata": {
        "id": "-ddYMR7w1Um4"
      },
      "source": [
        "### Make predicitons\n",
        "\n",
        "Use a trained model to make predictions for the test set."
      ]
    },
    {
      "cell_type": "code",
      "execution_count": 31,
      "metadata": {
        "colab": {
          "base_uri": "https://localhost:8080/",
          "height": 478
        },
        "id": "fcMusjcs1Um4",
        "outputId": "a536586c-8e6d-4b95-c77c-740ed9f5717d"
      },
      "outputs": [
        {
          "output_type": "execute_result",
          "data": {
            "text/plain": [
              "1357    196857.802707\n",
              "2367    113716.170606\n",
              "2822    204439.901232\n",
              "2126    108487.137141\n",
              "1544    127348.604725\n",
              "            ...      \n",
              "2268    128880.367656\n",
              "456     332980.345754\n",
              "462     190881.361330\n",
              "2168    129570.943947\n",
              "1488    143260.209686\n",
              "Length: 586, dtype: float64"
            ],
            "text/html": [
              "<div>\n",
              "<style scoped>\n",
              "    .dataframe tbody tr th:only-of-type {\n",
              "        vertical-align: middle;\n",
              "    }\n",
              "\n",
              "    .dataframe tbody tr th {\n",
              "        vertical-align: top;\n",
              "    }\n",
              "\n",
              "    .dataframe thead th {\n",
              "        text-align: right;\n",
              "    }\n",
              "</style>\n",
              "<table border=\"1\" class=\"dataframe\">\n",
              "  <thead>\n",
              "    <tr style=\"text-align: right;\">\n",
              "      <th></th>\n",
              "      <th>0</th>\n",
              "    </tr>\n",
              "  </thead>\n",
              "  <tbody>\n",
              "    <tr>\n",
              "      <th>1357</th>\n",
              "      <td>196857.802707</td>\n",
              "    </tr>\n",
              "    <tr>\n",
              "      <th>2367</th>\n",
              "      <td>113716.170606</td>\n",
              "    </tr>\n",
              "    <tr>\n",
              "      <th>2822</th>\n",
              "      <td>204439.901232</td>\n",
              "    </tr>\n",
              "    <tr>\n",
              "      <th>2126</th>\n",
              "      <td>108487.137141</td>\n",
              "    </tr>\n",
              "    <tr>\n",
              "      <th>1544</th>\n",
              "      <td>127348.604725</td>\n",
              "    </tr>\n",
              "    <tr>\n",
              "      <th>...</th>\n",
              "      <td>...</td>\n",
              "    </tr>\n",
              "    <tr>\n",
              "      <th>2268</th>\n",
              "      <td>128880.367656</td>\n",
              "    </tr>\n",
              "    <tr>\n",
              "      <th>456</th>\n",
              "      <td>332980.345754</td>\n",
              "    </tr>\n",
              "    <tr>\n",
              "      <th>462</th>\n",
              "      <td>190881.361330</td>\n",
              "    </tr>\n",
              "    <tr>\n",
              "      <th>2168</th>\n",
              "      <td>129570.943947</td>\n",
              "    </tr>\n",
              "    <tr>\n",
              "      <th>1488</th>\n",
              "      <td>143260.209686</td>\n",
              "    </tr>\n",
              "  </tbody>\n",
              "</table>\n",
              "<p>586 rows × 1 columns</p>\n",
              "</div><br><label><b>dtype:</b> float64</label>"
            ]
          },
          "metadata": {},
          "execution_count": 31
        }
      ],
      "source": [
        "preds = mod_03.predict(data_test)\n",
        "preds"
      ]
    },
    {
      "cell_type": "markdown",
      "metadata": {
        "id": "dOcQreBw1Um4"
      },
      "source": [
        "Calculate the test set RMSE."
      ]
    },
    {
      "cell_type": "code",
      "execution_count": 32,
      "metadata": {
        "colab": {
          "base_uri": "https://localhost:8080/"
        },
        "id": "TUhI7FoW1Um4",
        "outputId": "e508a115-202a-4255-965f-3c1e903c13d4"
      },
      "outputs": [
        {
          "output_type": "stream",
          "name": "stdout",
          "text": [
            "56878.89635621068\n"
          ]
        }
      ],
      "source": [
        "rmse = root_mean_squared_error(data_test[\"SalePrice\"], preds)\n",
        "print(rmse)"
      ]
    }
  ],
  "metadata": {
    "kernelspec": {
      "display_name": "prodok",
      "language": "python",
      "name": "python3"
    },
    "language_info": {
      "codemirror_mode": {
        "name": "ipython",
        "version": 3
      },
      "file_extension": ".py",
      "mimetype": "text/x-python",
      "name": "python",
      "nbconvert_exporter": "python",
      "pygments_lexer": "ipython3",
      "version": "3.12.1"
    },
    "colab": {
      "provenance": []
    }
  },
  "nbformat": 4,
  "nbformat_minor": 0
}